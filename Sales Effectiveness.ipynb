{
 "cells": [
  {
   "cell_type": "markdown",
   "id": "219bf142-ed7e-422b-9bb5-115977c217a7",
   "metadata": {},
   "source": [
    "# Project Title: PRCL-0019 - Sales Effectiveness Prediction"
   ]
  },
  {
   "cell_type": "markdown",
   "id": "5379585b-8727-4278-a7e0-dcfb2ffb20d1",
   "metadata": {},
   "source": [
    "**BUSINESS CASE**:-\n",
    "* FicZon Inc is an IT solution provider with products ranging from onpremises products to SAAS based solutions. FicZon major leads generation channel is digital and through their website. FicZon business is majorly dependent on the sales force effectiveness. As the market is maturing and more new competitors entering the market, FicZon is experiencing the dip in sales. Effective sales is dependent on lead quality and as of now, this is based on manual categorization and highly depended on sales staff. Though there is a quality process, which continuously updates the lead categorization, it’s value is in for post analysis, rather than conversation. FicZon wants to explore Machine Learning to pre-categorize the lead quality and as result, expecting significant increase in sales effectiveness.\n",
    "* Based on the given feature of dataset we need to predict the prospective Lead category, distinguishing between 'High Potential' and 'Low Potential' Customers."
   ]
  },
  {
   "cell_type": "markdown",
   "id": "3e5e3db1-ae1d-4a38-b846-2dc460b43861",
   "metadata": {},
   "source": [
    "### Task:-"
   ]
  },
  {
   "cell_type": "markdown",
   "id": "de279fed-7530-4b9c-8700-74671f5c2250",
   "metadata": {},
   "source": [
    "* Data exploration insights – Sales effectiveness.\n",
    "* ML model to predict the Lead Category (High Potential , Low Potential)"
   ]
  },
  {
   "cell_type": "markdown",
   "id": "af1a6fd2-39d6-4eb4-86fd-f00f240bccb7",
   "metadata": {},
   "source": [
    "## Features"
   ]
  },
  {
   "cell_type": "markdown",
   "id": "553628f2-6b96-48b9-b424-6337c3561000",
   "metadata": {},
   "source": [
    "1. **Created (Obj)** :  The timestamp when the sales entry was recorded.\n",
    "2. **Product_ID (Float)** :  The unique identifier for each product.\n",
    "3. **Source (Obj)** :  The platform where the sale was generated (e.g., Website).\n",
    "4. **Mobile (Obj)** :  The mobile number of the customer.\n",
    "5. **EMAIL (Obj)** :  The email address of the customer.\n",
    "6. **Sales_Agent (Obj)** :  The agent responsible for the sale.\n",
    "7. **Location (Obj)** :  The geographic location of the customer.\n",
    "8. **Delivery_Mode (Obj)** :  The method used for product delivery.\n",
    "9. **Status (Obj)** :  The status of the sale (e.g., \"Open\").\n",
    "10. **Dataset consist of 7422 rows and 9 columns.** "
   ]
  },
  {
   "cell_type": "markdown",
   "id": "2732a3d8-333e-4c38-a388-46c471967b3f",
   "metadata": {},
   "source": [
    "### Importing dependencies"
   ]
  },
  {
   "cell_type": "code",
   "execution_count": 65,
   "id": "96237bec-d102-4a02-94ea-8cc0097cf2a6",
   "metadata": {},
   "outputs": [],
   "source": [
    "import numpy as np\n",
    "import pandas as pd\n",
    "import seaborn as sns\n",
    "import matplotlib.pyplot as plt\n",
    "from sklearn.preprocessing import StandardScaler\n",
    "from sklearn.linear_model import LogisticRegression\n",
    "from sklearn.model_selection import train_test_split, GridSearchCV\n",
    "from imblearn.over_sampling import SMOTE\n",
    "from sklearn.metrics import classification_report, accuracy_score\n",
    "from collections import Counter\n",
    "from sklearn.tree import DecisionTreeClassifier\n",
    "from sklearn.ensemble import RandomForestClassifier, GradientBoostingClassifier, BaggingClassifier, StackingClassifier\n",
    "from sklearn.neighbors import KNeighborsClassifier\n",
    "from tensorflow.keras.models import Sequential\n",
    "from tensorflow.keras.layers import Dense\n",
    "from tensorflow.keras.optimizers import Adam\n",
    "from scikeras.wrappers import KerasClassifier\n",
    "from xgboost import XGBClassifier\n",
    "import warnings\n",
    "warnings.filterwarnings('ignore')\n",
    "from scipy import stats"
   ]
  },
  {
   "cell_type": "markdown",
   "id": "0b193cbe-3ca1-4b6f-9532-10b075531119",
   "metadata": {},
   "source": [
    "### Loading data "
   ]
  },
  {
   "cell_type": "code",
   "execution_count": 67,
   "id": "0762a452-2306-40cd-b1d4-956435fdece5",
   "metadata": {},
   "outputs": [
    {
     "data": {
      "text/html": [
       "<div>\n",
       "<style scoped>\n",
       "    .dataframe tbody tr th:only-of-type {\n",
       "        vertical-align: middle;\n",
       "    }\n",
       "\n",
       "    .dataframe tbody tr th {\n",
       "        vertical-align: top;\n",
       "    }\n",
       "\n",
       "    .dataframe thead th {\n",
       "        text-align: right;\n",
       "    }\n",
       "</style>\n",
       "<table border=\"1\" class=\"dataframe\">\n",
       "  <thead>\n",
       "    <tr style=\"text-align: right;\">\n",
       "      <th></th>\n",
       "      <th>Created</th>\n",
       "      <th>Product_ID</th>\n",
       "      <th>Source</th>\n",
       "      <th>Mobile</th>\n",
       "      <th>EMAIL</th>\n",
       "      <th>Sales_Agent</th>\n",
       "      <th>Location</th>\n",
       "      <th>Delivery_Mode</th>\n",
       "      <th>Status</th>\n",
       "    </tr>\n",
       "  </thead>\n",
       "  <tbody>\n",
       "    <tr>\n",
       "      <th>0</th>\n",
       "      <td>14-11-2018 10:05</td>\n",
       "      <td>NaN</td>\n",
       "      <td>Website</td>\n",
       "      <td>984XXXXXXX</td>\n",
       "      <td>aXXXXXXX@gmail.com</td>\n",
       "      <td>Sales-Agent-11</td>\n",
       "      <td>NaN</td>\n",
       "      <td>Mode-5</td>\n",
       "      <td>Open</td>\n",
       "    </tr>\n",
       "    <tr>\n",
       "      <th>1</th>\n",
       "      <td>14-11-2018 09:22</td>\n",
       "      <td>NaN</td>\n",
       "      <td>Website</td>\n",
       "      <td>XXXXXXX</td>\n",
       "      <td>#VALUE!</td>\n",
       "      <td>Sales-Agent-10</td>\n",
       "      <td>NaN</td>\n",
       "      <td>Mode-5</td>\n",
       "      <td>Open</td>\n",
       "    </tr>\n",
       "    <tr>\n",
       "      <th>2</th>\n",
       "      <td>14-11-2018 09:21</td>\n",
       "      <td>NaN</td>\n",
       "      <td>Website</td>\n",
       "      <td>XXXXXXX</td>\n",
       "      <td>dXXXXXXX@yahoo.com</td>\n",
       "      <td>Sales-Agent-10</td>\n",
       "      <td>NaN</td>\n",
       "      <td>Mode-5</td>\n",
       "      <td>Open</td>\n",
       "    </tr>\n",
       "    <tr>\n",
       "      <th>3</th>\n",
       "      <td>14-11-2018 08:46</td>\n",
       "      <td>NaN</td>\n",
       "      <td>Website</td>\n",
       "      <td>XXXXXXX</td>\n",
       "      <td>wXXXXXXX@gmail.com</td>\n",
       "      <td>Sales-Agent-10</td>\n",
       "      <td>NaN</td>\n",
       "      <td>Mode-5</td>\n",
       "      <td>Open</td>\n",
       "    </tr>\n",
       "    <tr>\n",
       "      <th>4</th>\n",
       "      <td>14-11-2018 07:34</td>\n",
       "      <td>NaN</td>\n",
       "      <td>Website</td>\n",
       "      <td>XXXXXXX</td>\n",
       "      <td>cXXXXXXX@gmail.com</td>\n",
       "      <td>Sales-Agent-10</td>\n",
       "      <td>NaN</td>\n",
       "      <td>Mode-5</td>\n",
       "      <td>Open</td>\n",
       "    </tr>\n",
       "    <tr>\n",
       "      <th>...</th>\n",
       "      <td>...</td>\n",
       "      <td>...</td>\n",
       "      <td>...</td>\n",
       "      <td>...</td>\n",
       "      <td>...</td>\n",
       "      <td>...</td>\n",
       "      <td>...</td>\n",
       "      <td>...</td>\n",
       "      <td>...</td>\n",
       "    </tr>\n",
       "    <tr>\n",
       "      <th>7417</th>\n",
       "      <td>28-04-2018 09:45</td>\n",
       "      <td>9.0</td>\n",
       "      <td>Call</td>\n",
       "      <td>NaN</td>\n",
       "      <td>aXXXXXXX@gmail.com</td>\n",
       "      <td>Sales-Agent-6</td>\n",
       "      <td>Mumbai</td>\n",
       "      <td>Mode-4</td>\n",
       "      <td>LOST</td>\n",
       "    </tr>\n",
       "    <tr>\n",
       "      <th>7418</th>\n",
       "      <td>28-04-2018 09:43</td>\n",
       "      <td>15.0</td>\n",
       "      <td>Call</td>\n",
       "      <td>NaN</td>\n",
       "      <td>#VALUE!</td>\n",
       "      <td>Sales-Agent-12</td>\n",
       "      <td>Other Locations</td>\n",
       "      <td>Mode-5</td>\n",
       "      <td>LOST</td>\n",
       "    </tr>\n",
       "    <tr>\n",
       "      <th>7419</th>\n",
       "      <td>28-04-2018 09:20</td>\n",
       "      <td>5.0</td>\n",
       "      <td>Live Chat-Direct</td>\n",
       "      <td>NaN</td>\n",
       "      <td>sXXXXXXX@gmail.com</td>\n",
       "      <td>Sales-Agent-11</td>\n",
       "      <td>Bangalore</td>\n",
       "      <td>Mode-1</td>\n",
       "      <td>Not Responding</td>\n",
       "    </tr>\n",
       "    <tr>\n",
       "      <th>7420</th>\n",
       "      <td>28-04-2018 08:04</td>\n",
       "      <td>21.0</td>\n",
       "      <td>CRM form</td>\n",
       "      <td>NaN</td>\n",
       "      <td>YXXXXXXX@gmail.com</td>\n",
       "      <td>Sales-Agent-4</td>\n",
       "      <td>Other Locations</td>\n",
       "      <td>Mode-1</td>\n",
       "      <td>Just Enquiry</td>\n",
       "    </tr>\n",
       "    <tr>\n",
       "      <th>7421</th>\n",
       "      <td>28-04-2018 07:54</td>\n",
       "      <td>25.0</td>\n",
       "      <td>Website</td>\n",
       "      <td>NaN</td>\n",
       "      <td>cXXXXXXX@gmail.com</td>\n",
       "      <td>Sales-Agent-3</td>\n",
       "      <td>Chennai</td>\n",
       "      <td>Mode-1</td>\n",
       "      <td>CONVERTED</td>\n",
       "    </tr>\n",
       "  </tbody>\n",
       "</table>\n",
       "<p>7422 rows × 9 columns</p>\n",
       "</div>"
      ],
      "text/plain": [
       "               Created  Product_ID            Source      Mobile  \\\n",
       "0     14-11-2018 10:05         NaN           Website  984XXXXXXX   \n",
       "1     14-11-2018 09:22         NaN           Website     XXXXXXX   \n",
       "2     14-11-2018 09:21         NaN           Website     XXXXXXX   \n",
       "3     14-11-2018 08:46         NaN           Website     XXXXXXX   \n",
       "4     14-11-2018 07:34         NaN           Website     XXXXXXX   \n",
       "...                ...         ...               ...         ...   \n",
       "7417  28-04-2018 09:45         9.0              Call         NaN   \n",
       "7418  28-04-2018 09:43        15.0              Call         NaN   \n",
       "7419  28-04-2018 09:20         5.0  Live Chat-Direct         NaN   \n",
       "7420  28-04-2018 08:04        21.0          CRM form         NaN   \n",
       "7421  28-04-2018 07:54        25.0           Website         NaN   \n",
       "\n",
       "                   EMAIL     Sales_Agent         Location Delivery_Mode  \\\n",
       "0     aXXXXXXX@gmail.com  Sales-Agent-11              NaN        Mode-5   \n",
       "1                #VALUE!  Sales-Agent-10              NaN        Mode-5   \n",
       "2     dXXXXXXX@yahoo.com  Sales-Agent-10              NaN        Mode-5   \n",
       "3     wXXXXXXX@gmail.com  Sales-Agent-10              NaN        Mode-5   \n",
       "4     cXXXXXXX@gmail.com  Sales-Agent-10              NaN        Mode-5   \n",
       "...                  ...             ...              ...           ...   \n",
       "7417  aXXXXXXX@gmail.com   Sales-Agent-6           Mumbai        Mode-4   \n",
       "7418             #VALUE!  Sales-Agent-12  Other Locations        Mode-5   \n",
       "7419  sXXXXXXX@gmail.com  Sales-Agent-11        Bangalore        Mode-1   \n",
       "7420  YXXXXXXX@gmail.com   Sales-Agent-4  Other Locations        Mode-1   \n",
       "7421  cXXXXXXX@gmail.com   Sales-Agent-3          Chennai        Mode-1   \n",
       "\n",
       "              Status  \n",
       "0               Open  \n",
       "1               Open  \n",
       "2               Open  \n",
       "3               Open  \n",
       "4               Open  \n",
       "...              ...  \n",
       "7417            LOST  \n",
       "7418            LOST  \n",
       "7419  Not Responding  \n",
       "7420    Just Enquiry  \n",
       "7421       CONVERTED  \n",
       "\n",
       "[7422 rows x 9 columns]"
      ]
     },
     "execution_count": 67,
     "metadata": {},
     "output_type": "execute_result"
    }
   ],
   "source": [
    "data=pd.read_csv('Project_sales_data.csv')\n",
    "data"
   ]
  },
  {
   "cell_type": "code",
   "execution_count": 68,
   "id": "d897f87c-4be4-4269-88c2-0a5c6545aa11",
   "metadata": {},
   "outputs": [
    {
     "data": {
      "text/html": [
       "<div>\n",
       "<style scoped>\n",
       "    .dataframe tbody tr th:only-of-type {\n",
       "        vertical-align: middle;\n",
       "    }\n",
       "\n",
       "    .dataframe tbody tr th {\n",
       "        vertical-align: top;\n",
       "    }\n",
       "\n",
       "    .dataframe thead th {\n",
       "        text-align: right;\n",
       "    }\n",
       "</style>\n",
       "<table border=\"1\" class=\"dataframe\">\n",
       "  <thead>\n",
       "    <tr style=\"text-align: right;\">\n",
       "      <th></th>\n",
       "      <th>Created</th>\n",
       "      <th>Product_ID</th>\n",
       "      <th>Source</th>\n",
       "      <th>Mobile</th>\n",
       "      <th>EMAIL</th>\n",
       "      <th>Sales_Agent</th>\n",
       "      <th>Location</th>\n",
       "      <th>Delivery_Mode</th>\n",
       "      <th>Status</th>\n",
       "    </tr>\n",
       "  </thead>\n",
       "  <tbody>\n",
       "    <tr>\n",
       "      <th>0</th>\n",
       "      <td>14-11-2018 10:05</td>\n",
       "      <td>NaN</td>\n",
       "      <td>Website</td>\n",
       "      <td>984XXXXXXX</td>\n",
       "      <td>aXXXXXXX@gmail.com</td>\n",
       "      <td>Sales-Agent-11</td>\n",
       "      <td>NaN</td>\n",
       "      <td>Mode-5</td>\n",
       "      <td>Open</td>\n",
       "    </tr>\n",
       "    <tr>\n",
       "      <th>1</th>\n",
       "      <td>14-11-2018 09:22</td>\n",
       "      <td>NaN</td>\n",
       "      <td>Website</td>\n",
       "      <td>XXXXXXX</td>\n",
       "      <td>#VALUE!</td>\n",
       "      <td>Sales-Agent-10</td>\n",
       "      <td>NaN</td>\n",
       "      <td>Mode-5</td>\n",
       "      <td>Open</td>\n",
       "    </tr>\n",
       "    <tr>\n",
       "      <th>2</th>\n",
       "      <td>14-11-2018 09:21</td>\n",
       "      <td>NaN</td>\n",
       "      <td>Website</td>\n",
       "      <td>XXXXXXX</td>\n",
       "      <td>dXXXXXXX@yahoo.com</td>\n",
       "      <td>Sales-Agent-10</td>\n",
       "      <td>NaN</td>\n",
       "      <td>Mode-5</td>\n",
       "      <td>Open</td>\n",
       "    </tr>\n",
       "    <tr>\n",
       "      <th>3</th>\n",
       "      <td>14-11-2018 08:46</td>\n",
       "      <td>NaN</td>\n",
       "      <td>Website</td>\n",
       "      <td>XXXXXXX</td>\n",
       "      <td>wXXXXXXX@gmail.com</td>\n",
       "      <td>Sales-Agent-10</td>\n",
       "      <td>NaN</td>\n",
       "      <td>Mode-5</td>\n",
       "      <td>Open</td>\n",
       "    </tr>\n",
       "    <tr>\n",
       "      <th>4</th>\n",
       "      <td>14-11-2018 07:34</td>\n",
       "      <td>NaN</td>\n",
       "      <td>Website</td>\n",
       "      <td>XXXXXXX</td>\n",
       "      <td>cXXXXXXX@gmail.com</td>\n",
       "      <td>Sales-Agent-10</td>\n",
       "      <td>NaN</td>\n",
       "      <td>Mode-5</td>\n",
       "      <td>Open</td>\n",
       "    </tr>\n",
       "  </tbody>\n",
       "</table>\n",
       "</div>"
      ],
      "text/plain": [
       "            Created  Product_ID   Source      Mobile               EMAIL  \\\n",
       "0  14-11-2018 10:05         NaN  Website  984XXXXXXX  aXXXXXXX@gmail.com   \n",
       "1  14-11-2018 09:22         NaN  Website     XXXXXXX             #VALUE!   \n",
       "2  14-11-2018 09:21         NaN  Website     XXXXXXX  dXXXXXXX@yahoo.com   \n",
       "3  14-11-2018 08:46         NaN  Website     XXXXXXX  wXXXXXXX@gmail.com   \n",
       "4  14-11-2018 07:34         NaN  Website     XXXXXXX  cXXXXXXX@gmail.com   \n",
       "\n",
       "      Sales_Agent Location Delivery_Mode Status  \n",
       "0  Sales-Agent-11      NaN        Mode-5   Open  \n",
       "1  Sales-Agent-10      NaN        Mode-5   Open  \n",
       "2  Sales-Agent-10      NaN        Mode-5   Open  \n",
       "3  Sales-Agent-10      NaN        Mode-5   Open  \n",
       "4  Sales-Agent-10      NaN        Mode-5   Open  "
      ]
     },
     "execution_count": 68,
     "metadata": {},
     "output_type": "execute_result"
    }
   ],
   "source": [
    "data.head()"
   ]
  },
  {
   "cell_type": "code",
   "execution_count": 69,
   "id": "ff6c9bdf-6476-4f24-b076-7f471d9d9248",
   "metadata": {},
   "outputs": [
    {
     "data": {
      "text/html": [
       "<div>\n",
       "<style scoped>\n",
       "    .dataframe tbody tr th:only-of-type {\n",
       "        vertical-align: middle;\n",
       "    }\n",
       "\n",
       "    .dataframe tbody tr th {\n",
       "        vertical-align: top;\n",
       "    }\n",
       "\n",
       "    .dataframe thead th {\n",
       "        text-align: right;\n",
       "    }\n",
       "</style>\n",
       "<table border=\"1\" class=\"dataframe\">\n",
       "  <thead>\n",
       "    <tr style=\"text-align: right;\">\n",
       "      <th></th>\n",
       "      <th>Created</th>\n",
       "      <th>Product_ID</th>\n",
       "      <th>Source</th>\n",
       "      <th>Mobile</th>\n",
       "      <th>EMAIL</th>\n",
       "      <th>Sales_Agent</th>\n",
       "      <th>Location</th>\n",
       "      <th>Delivery_Mode</th>\n",
       "      <th>Status</th>\n",
       "    </tr>\n",
       "  </thead>\n",
       "  <tbody>\n",
       "    <tr>\n",
       "      <th>7417</th>\n",
       "      <td>28-04-2018 09:45</td>\n",
       "      <td>9.0</td>\n",
       "      <td>Call</td>\n",
       "      <td>NaN</td>\n",
       "      <td>aXXXXXXX@gmail.com</td>\n",
       "      <td>Sales-Agent-6</td>\n",
       "      <td>Mumbai</td>\n",
       "      <td>Mode-4</td>\n",
       "      <td>LOST</td>\n",
       "    </tr>\n",
       "    <tr>\n",
       "      <th>7418</th>\n",
       "      <td>28-04-2018 09:43</td>\n",
       "      <td>15.0</td>\n",
       "      <td>Call</td>\n",
       "      <td>NaN</td>\n",
       "      <td>#VALUE!</td>\n",
       "      <td>Sales-Agent-12</td>\n",
       "      <td>Other Locations</td>\n",
       "      <td>Mode-5</td>\n",
       "      <td>LOST</td>\n",
       "    </tr>\n",
       "    <tr>\n",
       "      <th>7419</th>\n",
       "      <td>28-04-2018 09:20</td>\n",
       "      <td>5.0</td>\n",
       "      <td>Live Chat-Direct</td>\n",
       "      <td>NaN</td>\n",
       "      <td>sXXXXXXX@gmail.com</td>\n",
       "      <td>Sales-Agent-11</td>\n",
       "      <td>Bangalore</td>\n",
       "      <td>Mode-1</td>\n",
       "      <td>Not Responding</td>\n",
       "    </tr>\n",
       "    <tr>\n",
       "      <th>7420</th>\n",
       "      <td>28-04-2018 08:04</td>\n",
       "      <td>21.0</td>\n",
       "      <td>CRM form</td>\n",
       "      <td>NaN</td>\n",
       "      <td>YXXXXXXX@gmail.com</td>\n",
       "      <td>Sales-Agent-4</td>\n",
       "      <td>Other Locations</td>\n",
       "      <td>Mode-1</td>\n",
       "      <td>Just Enquiry</td>\n",
       "    </tr>\n",
       "    <tr>\n",
       "      <th>7421</th>\n",
       "      <td>28-04-2018 07:54</td>\n",
       "      <td>25.0</td>\n",
       "      <td>Website</td>\n",
       "      <td>NaN</td>\n",
       "      <td>cXXXXXXX@gmail.com</td>\n",
       "      <td>Sales-Agent-3</td>\n",
       "      <td>Chennai</td>\n",
       "      <td>Mode-1</td>\n",
       "      <td>CONVERTED</td>\n",
       "    </tr>\n",
       "  </tbody>\n",
       "</table>\n",
       "</div>"
      ],
      "text/plain": [
       "               Created  Product_ID            Source Mobile  \\\n",
       "7417  28-04-2018 09:45         9.0              Call    NaN   \n",
       "7418  28-04-2018 09:43        15.0              Call    NaN   \n",
       "7419  28-04-2018 09:20         5.0  Live Chat-Direct    NaN   \n",
       "7420  28-04-2018 08:04        21.0          CRM form    NaN   \n",
       "7421  28-04-2018 07:54        25.0           Website    NaN   \n",
       "\n",
       "                   EMAIL     Sales_Agent         Location Delivery_Mode  \\\n",
       "7417  aXXXXXXX@gmail.com   Sales-Agent-6           Mumbai        Mode-4   \n",
       "7418             #VALUE!  Sales-Agent-12  Other Locations        Mode-5   \n",
       "7419  sXXXXXXX@gmail.com  Sales-Agent-11        Bangalore        Mode-1   \n",
       "7420  YXXXXXXX@gmail.com   Sales-Agent-4  Other Locations        Mode-1   \n",
       "7421  cXXXXXXX@gmail.com   Sales-Agent-3          Chennai        Mode-1   \n",
       "\n",
       "              Status  \n",
       "7417            LOST  \n",
       "7418            LOST  \n",
       "7419  Not Responding  \n",
       "7420    Just Enquiry  \n",
       "7421       CONVERTED  "
      ]
     },
     "execution_count": 69,
     "metadata": {},
     "output_type": "execute_result"
    }
   ],
   "source": [
    "data.tail()"
   ]
  },
  {
   "cell_type": "code",
   "execution_count": 70,
   "id": "aa2e48a1-a6ae-4428-a342-da86c3ad62ac",
   "metadata": {},
   "outputs": [
    {
     "data": {
      "text/plain": [
       "Index(['Created', 'Product_ID', 'Source', 'Mobile', 'EMAIL', 'Sales_Agent',\n",
       "       'Location', 'Delivery_Mode', 'Status'],\n",
       "      dtype='object')"
      ]
     },
     "execution_count": 70,
     "metadata": {},
     "output_type": "execute_result"
    }
   ],
   "source": [
    "data.columns"
   ]
  },
  {
   "cell_type": "code",
   "execution_count": 71,
   "id": "b1c6f50f-6447-4329-bb92-f379ec7a6d34",
   "metadata": {},
   "outputs": [
    {
     "data": {
      "text/plain": [
       "Created           object\n",
       "Product_ID       float64\n",
       "Source            object\n",
       "Mobile            object\n",
       "EMAIL             object\n",
       "Sales_Agent       object\n",
       "Location          object\n",
       "Delivery_Mode     object\n",
       "Status            object\n",
       "dtype: object"
      ]
     },
     "execution_count": 71,
     "metadata": {},
     "output_type": "execute_result"
    }
   ],
   "source": [
    "data.dtypes"
   ]
  },
  {
   "cell_type": "code",
   "execution_count": 72,
   "id": "a36b59b4-2e34-4bfc-af3a-95797368bf07",
   "metadata": {},
   "outputs": [
    {
     "data": {
      "text/plain": [
       "(7422, 9)"
      ]
     },
     "execution_count": 72,
     "metadata": {},
     "output_type": "execute_result"
    }
   ],
   "source": [
    "data.shape"
   ]
  },
  {
   "cell_type": "code",
   "execution_count": 73,
   "id": "dadbb7c9-3241-4a59-8b9d-e19b82f2e1ad",
   "metadata": {},
   "outputs": [
    {
     "data": {
      "text/html": [
       "<div>\n",
       "<style scoped>\n",
       "    .dataframe tbody tr th:only-of-type {\n",
       "        vertical-align: middle;\n",
       "    }\n",
       "\n",
       "    .dataframe tbody tr th {\n",
       "        vertical-align: top;\n",
       "    }\n",
       "\n",
       "    .dataframe thead th {\n",
       "        text-align: right;\n",
       "    }\n",
       "</style>\n",
       "<table border=\"1\" class=\"dataframe\">\n",
       "  <thead>\n",
       "    <tr style=\"text-align: right;\">\n",
       "      <th></th>\n",
       "      <th>Created</th>\n",
       "      <th>Source</th>\n",
       "      <th>Mobile</th>\n",
       "      <th>EMAIL</th>\n",
       "      <th>Sales_Agent</th>\n",
       "      <th>Location</th>\n",
       "      <th>Delivery_Mode</th>\n",
       "      <th>Status</th>\n",
       "    </tr>\n",
       "  </thead>\n",
       "  <tbody>\n",
       "    <tr>\n",
       "      <th>count</th>\n",
       "      <td>7422</td>\n",
       "      <td>7405</td>\n",
       "      <td>5612</td>\n",
       "      <td>7422</td>\n",
       "      <td>7399</td>\n",
       "      <td>7364</td>\n",
       "      <td>7422</td>\n",
       "      <td>7422</td>\n",
       "    </tr>\n",
       "    <tr>\n",
       "      <th>unique</th>\n",
       "      <td>6752</td>\n",
       "      <td>25</td>\n",
       "      <td>486</td>\n",
       "      <td>883</td>\n",
       "      <td>12</td>\n",
       "      <td>17</td>\n",
       "      <td>5</td>\n",
       "      <td>11</td>\n",
       "    </tr>\n",
       "    <tr>\n",
       "      <th>top</th>\n",
       "      <td>26-09-2018 11:30</td>\n",
       "      <td>Call</td>\n",
       "      <td>XXXXXXX</td>\n",
       "      <td>#VALUE!</td>\n",
       "      <td>Sales-Agent-4</td>\n",
       "      <td>Other Locations</td>\n",
       "      <td>Mode-5</td>\n",
       "      <td>Junk Lead</td>\n",
       "    </tr>\n",
       "    <tr>\n",
       "      <th>freq</th>\n",
       "      <td>4</td>\n",
       "      <td>2547</td>\n",
       "      <td>222</td>\n",
       "      <td>1701</td>\n",
       "      <td>1500</td>\n",
       "      <td>2500</td>\n",
       "      <td>2975</td>\n",
       "      <td>1536</td>\n",
       "    </tr>\n",
       "  </tbody>\n",
       "</table>\n",
       "</div>"
      ],
      "text/plain": [
       "                 Created Source   Mobile    EMAIL    Sales_Agent  \\\n",
       "count               7422   7405     5612     7422           7399   \n",
       "unique              6752     25      486      883             12   \n",
       "top     26-09-2018 11:30   Call  XXXXXXX  #VALUE!  Sales-Agent-4   \n",
       "freq                   4   2547      222     1701           1500   \n",
       "\n",
       "               Location Delivery_Mode     Status  \n",
       "count              7364          7422       7422  \n",
       "unique               17             5         11  \n",
       "top     Other Locations        Mode-5  Junk Lead  \n",
       "freq               2500          2975       1536  "
      ]
     },
     "execution_count": 73,
     "metadata": {},
     "output_type": "execute_result"
    }
   ],
   "source": [
    "data.describe(include='object')"
   ]
  },
  {
   "cell_type": "code",
   "execution_count": 74,
   "id": "ff97981a-1e1b-42b5-b69a-d021349e4736",
   "metadata": {},
   "outputs": [
    {
     "data": {
      "text/plain": [
       "pandas.core.frame.DataFrame"
      ]
     },
     "execution_count": 74,
     "metadata": {},
     "output_type": "execute_result"
    }
   ],
   "source": [
    "type(data)"
   ]
  },
  {
   "cell_type": "code",
   "execution_count": 75,
   "id": "0d5435bb-9f08-40d9-8ba0-baf52aa2c001",
   "metadata": {},
   "outputs": [
    {
     "name": "stdout",
     "output_type": "stream",
     "text": [
      "<class 'pandas.core.frame.DataFrame'>\n",
      "RangeIndex: 7422 entries, 0 to 7421\n",
      "Data columns (total 9 columns):\n",
      " #   Column         Non-Null Count  Dtype  \n",
      "---  ------         --------------  -----  \n",
      " 0   Created        7422 non-null   object \n",
      " 1   Product_ID     7364 non-null   float64\n",
      " 2   Source         7405 non-null   object \n",
      " 3   Mobile         5612 non-null   object \n",
      " 4   EMAIL          7422 non-null   object \n",
      " 5   Sales_Agent    7399 non-null   object \n",
      " 6   Location       7364 non-null   object \n",
      " 7   Delivery_Mode  7422 non-null   object \n",
      " 8   Status         7422 non-null   object \n",
      "dtypes: float64(1), object(8)\n",
      "memory usage: 522.0+ KB\n"
     ]
    }
   ],
   "source": [
    "data.info()"
   ]
  },
  {
   "cell_type": "code",
   "execution_count": 76,
   "id": "2225423d-c35e-4d0d-a93a-c21e5b7bf15a",
   "metadata": {},
   "outputs": [
    {
     "data": {
      "text/plain": [
       "Created             0\n",
       "Product_ID         58\n",
       "Source             17\n",
       "Mobile           1810\n",
       "EMAIL               0\n",
       "Sales_Agent        23\n",
       "Location           58\n",
       "Delivery_Mode       0\n",
       "Status              0\n",
       "dtype: int64"
      ]
     },
     "execution_count": 76,
     "metadata": {},
     "output_type": "execute_result"
    }
   ],
   "source": [
    "data.isnull().sum()"
   ]
  },
  {
   "cell_type": "code",
   "execution_count": 77,
   "id": "97e337b5-3c5b-4428-b73d-755f18a42c93",
   "metadata": {
    "scrolled": true
   },
   "outputs": [
    {
     "data": {
      "text/plain": [
       "Status\n",
       "Junk Lead               1536\n",
       "Not Responding          1129\n",
       "CONVERTED                834\n",
       "Just Enquiry             760\n",
       "Potential                708\n",
       "Long Term                646\n",
       "In Progress Positive     643\n",
       "In Progress Negative     626\n",
       "LOST                     440\n",
       "Open                      82\n",
       "converted                 18\n",
       "Name: count, dtype: int64"
      ]
     },
     "execution_count": 77,
     "metadata": {},
     "output_type": "execute_result"
    }
   ],
   "source": [
    "data['Status'].value_counts()"
   ]
  },
  {
   "cell_type": "code",
   "execution_count": null,
   "id": "0bb842db-ec18-4a82-b0e1-31e67d4c2cdd",
   "metadata": {},
   "outputs": [],
   "source": []
  },
  {
   "cell_type": "markdown",
   "id": "fabc50de-0148-42e2-a08d-eb4f8934d403",
   "metadata": {},
   "source": [
    "## EDA"
   ]
  },
  {
   "cell_type": "code",
   "execution_count": 79,
   "id": "9c3f495e-1b81-44b2-9445-cd1f12f9b8ce",
   "metadata": {},
   "outputs": [
    {
     "data": {
      "image/png": "[encoded data removed]",
      "text/plain": [
       "<Figure size 1200x500 with 1 Axes>"
      ]
     },
     "metadata": {},
     "output_type": "display_data"
    }
   ],
   "source": [
    "plt.figure(figsize=(12, 5))\n",
    "sns.countplot(x=data['Product_ID'].astype(str), \n",
    "              order=data['Product_ID'].astype(str).value_counts().index, \n",
    "              palette=\"rainbow\")\n",
    "plt.xlabel('PRODUCT ID', fontsize=12, fontweight='bold', color='darkblue')\n",
    "plt.ylabel('Count', fontsize=12, fontweight='bold', color='darkred')\n",
    "plt.xticks(rotation=90, fontsize=10, color='purple')\n",
    "plt.yticks(fontsize=10, color='green')\n",
    "plt.title('Distribution of Product IDs', fontsize=14, fontweight='bold', color='darkblue')\n",
    "plt.show()"
   ]
  },
  {
   "cell_type": "markdown",
   "id": "39951640-f1c1-4c84-a08c-43996cd320c7",
   "metadata": {},
   "source": [
    "### $INSIGHTS$\n",
    "**In the sales dataset, product IDs 18, 15, 19, 9, 27, and 5 have recorded the highest sales volumes, while the remaining product IDs have lower sales figures by comparison.**"
   ]
  },
  {
   "cell_type": "code",
   "execution_count": 81,
   "id": "3d6d2f11-44ae-4e5b-b2a9-0fa624588cdc",
   "metadata": {},
   "outputs": [
    {
     "data": {
      "image/png": "[encoded data removed]",
      "text/plain": [
       "<Figure size 1200x500 with 1 Axes>"
      ]
     },
     "metadata": {},
     "output_type": "display_data"
    }
   ],
   "source": [
    "plt.figure(figsize=(12, 5))\n",
    "sns.countplot(x=data['Source'], order=data['Source'].value_counts().index, palette=\"rainbow\")\n",
    "plt.xlabel('Source', fontsize=12, fontweight='bold', color='darkblue')\n",
    "plt.ylabel('Count', fontsize=12, fontweight='bold', color='darkred')\n",
    "plt.xticks(rotation=90, fontsize=10, color='purple')\n",
    "plt.yticks(fontsize=10, color='green')\n",
    "plt.title('Source', fontsize=14, fontweight='bold', color='darkblue')\n",
    "plt.show()"
   ]
  },
  {
   "cell_type": "markdown",
   "id": "68a5e710-6697-4554-a42d-2a19743dbe46",
   "metadata": {},
   "source": [
    "### $INSIGHTS$\n",
    "**Here CALL, LIVE CHAT-DIRECT, WEBSITE shows majority of sales than the remaining Sources.**"
   ]
  },
  {
   "cell_type": "code",
   "execution_count": 83,
   "id": "1a765c63-894a-4aca-8de0-0da6ecd3c645",
   "metadata": {},
   "outputs": [
    {
     "data": {
      "image/png": "[encoded data removed]",
      "text/plain": [
       "<Figure size 1200x500 with 1 Axes>"
      ]
     },
     "metadata": {},
     "output_type": "display_data"
    }
   ],
   "source": [
    "plt.figure(figsize=(12, 5))\n",
    "sns.countplot(x=data['Sales_Agent'], order=data['Sales_Agent'].value_counts().index, palette=\"rainbow\")\n",
    "plt.xlabel('Sales_Agent', fontsize=12, fontweight='bold', color='darkblue')\n",
    "plt.ylabel('Count', fontsize=12, fontweight='bold', color='darkred')\n",
    "plt.xticks(rotation=90, fontsize=10, color='purple')\n",
    "plt.yticks(fontsize=10, color='green')\n",
    "plt.title('Sales_Agent Count', fontsize=14, fontweight='bold', color='darkblue')\n",
    "plt.show()"
   ]
  },
  {
   "cell_type": "markdown",
   "id": "be4c9eed-62e6-438f-9dc4-f5941e9fcf76",
   "metadata": {},
   "source": [
    "### $INSIGHTS$\n",
    "**Sales-Agent 4,11,5,9,3,7 has done more sales than others**"
   ]
  },
  {
   "cell_type": "code",
   "execution_count": 85,
   "id": "30a9aead-4009-405f-bbab-be4540ed8677",
   "metadata": {},
   "outputs": [
    {
     "data": {
      "image/png": "[encoded data removed]",
      "text/plain": [
       "<Figure size 1200x500 with 1 Axes>"
      ]
     },
     "metadata": {},
     "output_type": "display_data"
    }
   ],
   "source": [
    "plt.figure(figsize=(12, 5))\n",
    "sns.countplot(x=data['Location'], order=data['Location'].value_counts().index, palette=\"rainbow\")\n",
    "plt.xlabel('Location', fontsize=12, fontweight='bold', color='darkblue')\n",
    "plt.ylabel('Count', fontsize=12, fontweight='bold', color='darkred')\n",
    "plt.xticks(rotation=90, fontsize=10, color='purple')\n",
    "plt.yticks(fontsize=10, color='green')\n",
    "plt.title('Location', fontsize=14, fontweight='bold', color='darkblue')\n",
    "plt.show()"
   ]
  },
  {
   "cell_type": "markdown",
   "id": "814b1ca5-a762-489d-98e6-565936bffeb5",
   "metadata": {},
   "source": [
    "### $INSIGHTS$\n",
    "* **Bangalore and Other location exhibit higher sales than other Locations.**\n",
    "* **Chennai, Hyderabad, Delhi, Mumbai contributes good sales than other regions except Bangalore and Other Locations.**"
   ]
  },
  {
   "cell_type": "code",
   "execution_count": 87,
   "id": "d2b4398f-855b-4b48-b1c9-19263a3ab06b",
   "metadata": {},
   "outputs": [
    {
     "data": {
      "image/png": "[encoded data removed]",
      "text/plain": [
       "<Figure size 1200x500 with 1 Axes>"
      ]
     },
     "metadata": {},
     "output_type": "display_data"
    }
   ],
   "source": [
    "plt.figure(figsize=(12, 5))\n",
    "sns.countplot(x=data['Delivery_Mode'], order=data['Delivery_Mode'].value_counts().index, palette=\"rainbow\")\n",
    "plt.xlabel('Delivery_Mode', fontsize=12, fontweight='bold', color='darkblue')\n",
    "plt.ylabel('Count', fontsize=12, fontweight='bold', color='darkred')\n",
    "plt.xticks(rotation=90, fontsize=10, color='purple')\n",
    "plt.yticks(fontsize=10, color='green')\n",
    "plt.title('Delivery_Modes', fontsize=14, fontweight='bold', color='darkblue')\n",
    "plt.show()"
   ]
  },
  {
   "cell_type": "markdown",
   "id": "9612467d-69f7-41a8-aa31-f5cd2b5f004e",
   "metadata": {},
   "source": [
    "### $INSIGHTS$\n",
    "**Modes 5,1,3 have comparitively larger sales than modes 4,2.**"
   ]
  },
  {
   "cell_type": "code",
   "execution_count": 89,
   "id": "9bc70b7b-4a86-4e0f-b0ea-dedd7f837d36",
   "metadata": {
    "jp-MarkdownHeadingCollapsed": true
   },
   "outputs": [
    {
     "data": {
      "image/png": "[encoded data removed]",
      "text/plain": [
       "<Figure size 1200x500 with 1 Axes>"
      ]
     },
     "metadata": {},
     "output_type": "display_data"
    }
   ],
   "source": [
    "plt.figure(figsize=(12, 5))\n",
    "sns.countplot(x=data['Status'], order=data['Status'].value_counts().index, palette=\"rainbow\")\n",
    "plt.xlabel('Status', fontsize=12, fontweight='bold', color='darkblue')\n",
    "plt.ylabel('Count', fontsize=12, fontweight='bold', color='darkred')\n",
    "plt.xticks(rotation=90, fontsize=10, color='purple')\n",
    "plt.yticks(fontsize=10, color='green')\n",
    "plt.title('Status', fontsize=14, fontweight='bold', color='darkblue')\n",
    "plt.show()"
   ]
  },
  {
   "cell_type": "markdown",
   "id": "5d5d1970-b227-486d-b342-200e55fa534a",
   "metadata": {},
   "source": [
    "### $INSIGHTS$\n",
    "* **Junk lead appears to have a high sales.**\n",
    "* **Others have comparably good sales.**"
   ]
  },
  {
   "cell_type": "code",
   "execution_count": 91,
   "id": "e91ae3e3-4f5e-4107-a84f-20ce9583cd54",
   "metadata": {},
   "outputs": [
    {
     "data": {
      "image/png": "[encoded data removed]",
      "text/plain": [
       "<Figure size 1200x800 with 4 Axes>"
      ]
     },
     "metadata": {},
     "output_type": "display_data"
    }
   ],
   "source": [
    "categorical_cols = [\"Source\", \"Sales_Agent\", \"Delivery_Mode\", \"Status\"]\n",
    "plt.figure(figsize=(12, 8))\n",
    "for i, col in enumerate(categorical_cols, 1):\n",
    "    plt.subplot(2, 2, i)\n",
    "    sns.countplot(data=data, x=col, palette=\"viridis\")\n",
    "    plt.xticks(rotation=45)\n",
    "    plt.title(f\"Count Plot for {col}\")\n",
    "plt.tight_layout()\n",
    "plt.show()"
   ]
  },
  {
   "cell_type": "markdown",
   "id": "5fa1fcc7-2136-4101-9b52-20fd2d4f3ea2",
   "metadata": {},
   "source": [
    "## Data Preprocessing"
   ]
  },
  {
   "cell_type": "code",
   "execution_count": 93,
   "id": "d8631414-9dc4-44b1-b959-acff5de8b38d",
   "metadata": {},
   "outputs": [
    {
     "data": {
      "text/html": [
       "<div>\n",
       "<style scoped>\n",
       "    .dataframe tbody tr th:only-of-type {\n",
       "        vertical-align: middle;\n",
       "    }\n",
       "\n",
       "    .dataframe tbody tr th {\n",
       "        vertical-align: top;\n",
       "    }\n",
       "\n",
       "    .dataframe thead th {\n",
       "        text-align: right;\n",
       "    }\n",
       "</style>\n",
       "<table border=\"1\" class=\"dataframe\">\n",
       "  <thead>\n",
       "    <tr style=\"text-align: right;\">\n",
       "      <th></th>\n",
       "      <th>Created</th>\n",
       "      <th>Product_ID</th>\n",
       "      <th>Source</th>\n",
       "      <th>Mobile</th>\n",
       "      <th>EMAIL</th>\n",
       "      <th>Sales_Agent</th>\n",
       "      <th>Location</th>\n",
       "      <th>Delivery_Mode</th>\n",
       "      <th>Status</th>\n",
       "    </tr>\n",
       "  </thead>\n",
       "  <tbody>\n",
       "    <tr>\n",
       "      <th>0</th>\n",
       "      <td>14-11-2018 10:05</td>\n",
       "      <td>NaN</td>\n",
       "      <td>Website</td>\n",
       "      <td>984XXXXXXX</td>\n",
       "      <td>aXXXXXXX@gmail.com</td>\n",
       "      <td>Sales-Agent-11</td>\n",
       "      <td>NaN</td>\n",
       "      <td>Mode-5</td>\n",
       "      <td>Open</td>\n",
       "    </tr>\n",
       "    <tr>\n",
       "      <th>1</th>\n",
       "      <td>14-11-2018 09:22</td>\n",
       "      <td>NaN</td>\n",
       "      <td>Website</td>\n",
       "      <td>XXXXXXX</td>\n",
       "      <td>#VALUE!</td>\n",
       "      <td>Sales-Agent-10</td>\n",
       "      <td>NaN</td>\n",
       "      <td>Mode-5</td>\n",
       "      <td>Open</td>\n",
       "    </tr>\n",
       "    <tr>\n",
       "      <th>2</th>\n",
       "      <td>14-11-2018 09:21</td>\n",
       "      <td>NaN</td>\n",
       "      <td>Website</td>\n",
       "      <td>XXXXXXX</td>\n",
       "      <td>dXXXXXXX@yahoo.com</td>\n",
       "      <td>Sales-Agent-10</td>\n",
       "      <td>NaN</td>\n",
       "      <td>Mode-5</td>\n",
       "      <td>Open</td>\n",
       "    </tr>\n",
       "    <tr>\n",
       "      <th>3</th>\n",
       "      <td>14-11-2018 08:46</td>\n",
       "      <td>NaN</td>\n",
       "      <td>Website</td>\n",
       "      <td>XXXXXXX</td>\n",
       "      <td>wXXXXXXX@gmail.com</td>\n",
       "      <td>Sales-Agent-10</td>\n",
       "      <td>NaN</td>\n",
       "      <td>Mode-5</td>\n",
       "      <td>Open</td>\n",
       "    </tr>\n",
       "    <tr>\n",
       "      <th>4</th>\n",
       "      <td>14-11-2018 07:34</td>\n",
       "      <td>NaN</td>\n",
       "      <td>Website</td>\n",
       "      <td>XXXXXXX</td>\n",
       "      <td>cXXXXXXX@gmail.com</td>\n",
       "      <td>Sales-Agent-10</td>\n",
       "      <td>NaN</td>\n",
       "      <td>Mode-5</td>\n",
       "      <td>Open</td>\n",
       "    </tr>\n",
       "    <tr>\n",
       "      <th>...</th>\n",
       "      <td>...</td>\n",
       "      <td>...</td>\n",
       "      <td>...</td>\n",
       "      <td>...</td>\n",
       "      <td>...</td>\n",
       "      <td>...</td>\n",
       "      <td>...</td>\n",
       "      <td>...</td>\n",
       "      <td>...</td>\n",
       "    </tr>\n",
       "    <tr>\n",
       "      <th>7417</th>\n",
       "      <td>28-04-2018 09:45</td>\n",
       "      <td>9.0</td>\n",
       "      <td>Call</td>\n",
       "      <td>NaN</td>\n",
       "      <td>aXXXXXXX@gmail.com</td>\n",
       "      <td>Sales-Agent-6</td>\n",
       "      <td>Mumbai</td>\n",
       "      <td>Mode-4</td>\n",
       "      <td>LOST</td>\n",
       "    </tr>\n",
       "    <tr>\n",
       "      <th>7418</th>\n",
       "      <td>28-04-2018 09:43</td>\n",
       "      <td>15.0</td>\n",
       "      <td>Call</td>\n",
       "      <td>NaN</td>\n",
       "      <td>#VALUE!</td>\n",
       "      <td>Sales-Agent-12</td>\n",
       "      <td>Other Locations</td>\n",
       "      <td>Mode-5</td>\n",
       "      <td>LOST</td>\n",
       "    </tr>\n",
       "    <tr>\n",
       "      <th>7419</th>\n",
       "      <td>28-04-2018 09:20</td>\n",
       "      <td>5.0</td>\n",
       "      <td>Live Chat-Direct</td>\n",
       "      <td>NaN</td>\n",
       "      <td>sXXXXXXX@gmail.com</td>\n",
       "      <td>Sales-Agent-11</td>\n",
       "      <td>Bangalore</td>\n",
       "      <td>Mode-1</td>\n",
       "      <td>Not Responding</td>\n",
       "    </tr>\n",
       "    <tr>\n",
       "      <th>7420</th>\n",
       "      <td>28-04-2018 08:04</td>\n",
       "      <td>21.0</td>\n",
       "      <td>CRM form</td>\n",
       "      <td>NaN</td>\n",
       "      <td>YXXXXXXX@gmail.com</td>\n",
       "      <td>Sales-Agent-4</td>\n",
       "      <td>Other Locations</td>\n",
       "      <td>Mode-1</td>\n",
       "      <td>Just Enquiry</td>\n",
       "    </tr>\n",
       "    <tr>\n",
       "      <th>7421</th>\n",
       "      <td>28-04-2018 07:54</td>\n",
       "      <td>25.0</td>\n",
       "      <td>Website</td>\n",
       "      <td>NaN</td>\n",
       "      <td>cXXXXXXX@gmail.com</td>\n",
       "      <td>Sales-Agent-3</td>\n",
       "      <td>Chennai</td>\n",
       "      <td>Mode-1</td>\n",
       "      <td>CONVERTED</td>\n",
       "    </tr>\n",
       "  </tbody>\n",
       "</table>\n",
       "<p>7422 rows × 9 columns</p>\n",
       "</div>"
      ],
      "text/plain": [
       "               Created  Product_ID            Source      Mobile  \\\n",
       "0     14-11-2018 10:05         NaN           Website  984XXXXXXX   \n",
       "1     14-11-2018 09:22         NaN           Website     XXXXXXX   \n",
       "2     14-11-2018 09:21         NaN           Website     XXXXXXX   \n",
       "3     14-11-2018 08:46         NaN           Website     XXXXXXX   \n",
       "4     14-11-2018 07:34         NaN           Website     XXXXXXX   \n",
       "...                ...         ...               ...         ...   \n",
       "7417  28-04-2018 09:45         9.0              Call         NaN   \n",
       "7418  28-04-2018 09:43        15.0              Call         NaN   \n",
       "7419  28-04-2018 09:20         5.0  Live Chat-Direct         NaN   \n",
       "7420  28-04-2018 08:04        21.0          CRM form         NaN   \n",
       "7421  28-04-2018 07:54        25.0           Website         NaN   \n",
       "\n",
       "                   EMAIL     Sales_Agent         Location Delivery_Mode  \\\n",
       "0     aXXXXXXX@gmail.com  Sales-Agent-11              NaN        Mode-5   \n",
       "1                #VALUE!  Sales-Agent-10              NaN        Mode-5   \n",
       "2     dXXXXXXX@yahoo.com  Sales-Agent-10              NaN        Mode-5   \n",
       "3     wXXXXXXX@gmail.com  Sales-Agent-10              NaN        Mode-5   \n",
       "4     cXXXXXXX@gmail.com  Sales-Agent-10              NaN        Mode-5   \n",
       "...                  ...             ...              ...           ...   \n",
       "7417  aXXXXXXX@gmail.com   Sales-Agent-6           Mumbai        Mode-4   \n",
       "7418             #VALUE!  Sales-Agent-12  Other Locations        Mode-5   \n",
       "7419  sXXXXXXX@gmail.com  Sales-Agent-11        Bangalore        Mode-1   \n",
       "7420  YXXXXXXX@gmail.com   Sales-Agent-4  Other Locations        Mode-1   \n",
       "7421  cXXXXXXX@gmail.com   Sales-Agent-3          Chennai        Mode-1   \n",
       "\n",
       "              Status  \n",
       "0               Open  \n",
       "1               Open  \n",
       "2               Open  \n",
       "3               Open  \n",
       "4               Open  \n",
       "...              ...  \n",
       "7417            LOST  \n",
       "7418            LOST  \n",
       "7419  Not Responding  \n",
       "7420    Just Enquiry  \n",
       "7421       CONVERTED  \n",
       "\n",
       "[7422 rows x 9 columns]"
      ]
     },
     "execution_count": 93,
     "metadata": {},
     "output_type": "execute_result"
    }
   ],
   "source": [
    "# converted and CONVERTED are same so they can be merged\n",
    "data['Status']=data['Status'].replace({'converted':'CONVERTED'})\n",
    "data"
   ]
  },
  {
   "cell_type": "code",
   "execution_count": 94,
   "id": "d57d78dc-b033-4551-9221-66e0917564bc",
   "metadata": {},
   "outputs": [
    {
     "data": {
      "text/plain": [
       "Status\n",
       "Junk Lead               1536\n",
       "Not Responding          1129\n",
       "CONVERTED                852\n",
       "Just Enquiry             760\n",
       "Potential                708\n",
       "Long Term                646\n",
       "In Progress Positive     643\n",
       "In Progress Negative     626\n",
       "LOST                     440\n",
       "Open                      82\n",
       "Name: count, dtype: int64"
      ]
     },
     "execution_count": 94,
     "metadata": {},
     "output_type": "execute_result"
    }
   ],
   "source": [
    "data['Status'].value_counts()"
   ]
  },
  {
   "cell_type": "markdown",
   "id": "584083c3-c348-4f59-9893-8860a9e19235",
   "metadata": {},
   "source": [
    "* **Junk Lead**  – Leads that are not relevant, fake, or unqualified for the sales process.\n",
    "* **Not Responding**  – Potential customers who have been contacted but are not replying.\n",
    "* **CONVERTED**  – Successful leads that have turned into customers.\n",
    "* **Just Enquiry**  – Leads that have shown interest but haven’t progressed further.\n",
    "* **Potential**  – Leads that are considered promising but are not yet converted.\n",
    "* **Long Term** – Leads that may convert in the future but require nurturing over a longer period.\n",
    "* **In Progress Positive**  – Active leads with a high chance of conversion.\n",
    "* **In Progress Negative**  – Active leads but with a low chance of conversion.\n",
    "* **LOST**  – Leads that were pursued but did not convert.\n",
    "* **Open** – Likely represents leads that are still being worked on and have not yet been classified."
   ]
  },
  {
   "cell_type": "markdown",
   "id": "7920533b-7b2b-4721-9f52-b9a4f24db73c",
   "metadata": {},
   "source": [
    "Categorizing the status of sales to high and low in potential lead to get a target column"
   ]
  },
  {
   "cell_type": "code",
   "execution_count": 97,
   "id": "59be9deb-283d-4817-9ffc-58d811d157a3",
   "metadata": {},
   "outputs": [
    {
     "data": {
      "text/html": [
       "<div>\n",
       "<style scoped>\n",
       "    .dataframe tbody tr th:only-of-type {\n",
       "        vertical-align: middle;\n",
       "    }\n",
       "\n",
       "    .dataframe tbody tr th {\n",
       "        vertical-align: top;\n",
       "    }\n",
       "\n",
       "    .dataframe thead th {\n",
       "        text-align: right;\n",
       "    }\n",
       "</style>\n",
       "<table border=\"1\" class=\"dataframe\">\n",
       "  <thead>\n",
       "    <tr style=\"text-align: right;\">\n",
       "      <th></th>\n",
       "      <th>Created</th>\n",
       "      <th>Product_ID</th>\n",
       "      <th>Source</th>\n",
       "      <th>Mobile</th>\n",
       "      <th>EMAIL</th>\n",
       "      <th>Sales_Agent</th>\n",
       "      <th>Location</th>\n",
       "      <th>Delivery_Mode</th>\n",
       "      <th>Status</th>\n",
       "      <th>Lead</th>\n",
       "    </tr>\n",
       "  </thead>\n",
       "  <tbody>\n",
       "    <tr>\n",
       "      <th>0</th>\n",
       "      <td>14-11-2018 10:05</td>\n",
       "      <td>NaN</td>\n",
       "      <td>Website</td>\n",
       "      <td>984XXXXXXX</td>\n",
       "      <td>aXXXXXXX@gmail.com</td>\n",
       "      <td>Sales-Agent-11</td>\n",
       "      <td>NaN</td>\n",
       "      <td>Mode-5</td>\n",
       "      <td>Open</td>\n",
       "      <td>Low</td>\n",
       "    </tr>\n",
       "    <tr>\n",
       "      <th>1</th>\n",
       "      <td>14-11-2018 09:22</td>\n",
       "      <td>NaN</td>\n",
       "      <td>Website</td>\n",
       "      <td>XXXXXXX</td>\n",
       "      <td>#VALUE!</td>\n",
       "      <td>Sales-Agent-10</td>\n",
       "      <td>NaN</td>\n",
       "      <td>Mode-5</td>\n",
       "      <td>Open</td>\n",
       "      <td>Low</td>\n",
       "    </tr>\n",
       "    <tr>\n",
       "      <th>2</th>\n",
       "      <td>14-11-2018 09:21</td>\n",
       "      <td>NaN</td>\n",
       "      <td>Website</td>\n",
       "      <td>XXXXXXX</td>\n",
       "      <td>dXXXXXXX@yahoo.com</td>\n",
       "      <td>Sales-Agent-10</td>\n",
       "      <td>NaN</td>\n",
       "      <td>Mode-5</td>\n",
       "      <td>Open</td>\n",
       "      <td>Low</td>\n",
       "    </tr>\n",
       "    <tr>\n",
       "      <th>3</th>\n",
       "      <td>14-11-2018 08:46</td>\n",
       "      <td>NaN</td>\n",
       "      <td>Website</td>\n",
       "      <td>XXXXXXX</td>\n",
       "      <td>wXXXXXXX@gmail.com</td>\n",
       "      <td>Sales-Agent-10</td>\n",
       "      <td>NaN</td>\n",
       "      <td>Mode-5</td>\n",
       "      <td>Open</td>\n",
       "      <td>Low</td>\n",
       "    </tr>\n",
       "    <tr>\n",
       "      <th>4</th>\n",
       "      <td>14-11-2018 07:34</td>\n",
       "      <td>NaN</td>\n",
       "      <td>Website</td>\n",
       "      <td>XXXXXXX</td>\n",
       "      <td>cXXXXXXX@gmail.com</td>\n",
       "      <td>Sales-Agent-10</td>\n",
       "      <td>NaN</td>\n",
       "      <td>Mode-5</td>\n",
       "      <td>Open</td>\n",
       "      <td>Low</td>\n",
       "    </tr>\n",
       "    <tr>\n",
       "      <th>...</th>\n",
       "      <td>...</td>\n",
       "      <td>...</td>\n",
       "      <td>...</td>\n",
       "      <td>...</td>\n",
       "      <td>...</td>\n",
       "      <td>...</td>\n",
       "      <td>...</td>\n",
       "      <td>...</td>\n",
       "      <td>...</td>\n",
       "      <td>...</td>\n",
       "    </tr>\n",
       "    <tr>\n",
       "      <th>7417</th>\n",
       "      <td>28-04-2018 09:45</td>\n",
       "      <td>9.0</td>\n",
       "      <td>Call</td>\n",
       "      <td>NaN</td>\n",
       "      <td>aXXXXXXX@gmail.com</td>\n",
       "      <td>Sales-Agent-6</td>\n",
       "      <td>Mumbai</td>\n",
       "      <td>Mode-4</td>\n",
       "      <td>LOST</td>\n",
       "      <td>Low</td>\n",
       "    </tr>\n",
       "    <tr>\n",
       "      <th>7418</th>\n",
       "      <td>28-04-2018 09:43</td>\n",
       "      <td>15.0</td>\n",
       "      <td>Call</td>\n",
       "      <td>NaN</td>\n",
       "      <td>#VALUE!</td>\n",
       "      <td>Sales-Agent-12</td>\n",
       "      <td>Other Locations</td>\n",
       "      <td>Mode-5</td>\n",
       "      <td>LOST</td>\n",
       "      <td>Low</td>\n",
       "    </tr>\n",
       "    <tr>\n",
       "      <th>7419</th>\n",
       "      <td>28-04-2018 09:20</td>\n",
       "      <td>5.0</td>\n",
       "      <td>Live Chat-Direct</td>\n",
       "      <td>NaN</td>\n",
       "      <td>sXXXXXXX@gmail.com</td>\n",
       "      <td>Sales-Agent-11</td>\n",
       "      <td>Bangalore</td>\n",
       "      <td>Mode-1</td>\n",
       "      <td>Not Responding</td>\n",
       "      <td>Low</td>\n",
       "    </tr>\n",
       "    <tr>\n",
       "      <th>7420</th>\n",
       "      <td>28-04-2018 08:04</td>\n",
       "      <td>21.0</td>\n",
       "      <td>CRM form</td>\n",
       "      <td>NaN</td>\n",
       "      <td>YXXXXXXX@gmail.com</td>\n",
       "      <td>Sales-Agent-4</td>\n",
       "      <td>Other Locations</td>\n",
       "      <td>Mode-1</td>\n",
       "      <td>Just Enquiry</td>\n",
       "      <td>Low</td>\n",
       "    </tr>\n",
       "    <tr>\n",
       "      <th>7421</th>\n",
       "      <td>28-04-2018 07:54</td>\n",
       "      <td>25.0</td>\n",
       "      <td>Website</td>\n",
       "      <td>NaN</td>\n",
       "      <td>cXXXXXXX@gmail.com</td>\n",
       "      <td>Sales-Agent-3</td>\n",
       "      <td>Chennai</td>\n",
       "      <td>Mode-1</td>\n",
       "      <td>CONVERTED</td>\n",
       "      <td>High</td>\n",
       "    </tr>\n",
       "  </tbody>\n",
       "</table>\n",
       "<p>7422 rows × 10 columns</p>\n",
       "</div>"
      ],
      "text/plain": [
       "               Created  Product_ID            Source      Mobile  \\\n",
       "0     14-11-2018 10:05         NaN           Website  984XXXXXXX   \n",
       "1     14-11-2018 09:22         NaN           Website     XXXXXXX   \n",
       "2     14-11-2018 09:21         NaN           Website     XXXXXXX   \n",
       "3     14-11-2018 08:46         NaN           Website     XXXXXXX   \n",
       "4     14-11-2018 07:34         NaN           Website     XXXXXXX   \n",
       "...                ...         ...               ...         ...   \n",
       "7417  28-04-2018 09:45         9.0              Call         NaN   \n",
       "7418  28-04-2018 09:43        15.0              Call         NaN   \n",
       "7419  28-04-2018 09:20         5.0  Live Chat-Direct         NaN   \n",
       "7420  28-04-2018 08:04        21.0          CRM form         NaN   \n",
       "7421  28-04-2018 07:54        25.0           Website         NaN   \n",
       "\n",
       "                   EMAIL     Sales_Agent         Location Delivery_Mode  \\\n",
       "0     aXXXXXXX@gmail.com  Sales-Agent-11              NaN        Mode-5   \n",
       "1                #VALUE!  Sales-Agent-10              NaN        Mode-5   \n",
       "2     dXXXXXXX@yahoo.com  Sales-Agent-10              NaN        Mode-5   \n",
       "3     wXXXXXXX@gmail.com  Sales-Agent-10              NaN        Mode-5   \n",
       "4     cXXXXXXX@gmail.com  Sales-Agent-10              NaN        Mode-5   \n",
       "...                  ...             ...              ...           ...   \n",
       "7417  aXXXXXXX@gmail.com   Sales-Agent-6           Mumbai        Mode-4   \n",
       "7418             #VALUE!  Sales-Agent-12  Other Locations        Mode-5   \n",
       "7419  sXXXXXXX@gmail.com  Sales-Agent-11        Bangalore        Mode-1   \n",
       "7420  YXXXXXXX@gmail.com   Sales-Agent-4  Other Locations        Mode-1   \n",
       "7421  cXXXXXXX@gmail.com   Sales-Agent-3          Chennai        Mode-1   \n",
       "\n",
       "              Status  Lead  \n",
       "0               Open   Low  \n",
       "1               Open   Low  \n",
       "2               Open   Low  \n",
       "3               Open   Low  \n",
       "4               Open   Low  \n",
       "...              ...   ...  \n",
       "7417            LOST   Low  \n",
       "7418            LOST   Low  \n",
       "7419  Not Responding   Low  \n",
       "7420    Just Enquiry   Low  \n",
       "7421       CONVERTED  High  \n",
       "\n",
       "[7422 rows x 10 columns]"
      ]
     },
     "execution_count": 97,
     "metadata": {},
     "output_type": "execute_result"
    }
   ],
   "source": [
    "high_pot=['CONVERTED','Potential','In Progress Positive']\n",
    "low_pot=['Junk Lead','Not Responding','Just Enquiry','Long Term','In Progress Negative','LOST','Open']\n",
    "data['Lead']=data['Status'].apply(lambda x:'High' if x in high_pot else 'Low')\n",
    "data"
   ]
  },
  {
   "cell_type": "code",
   "execution_count": 98,
   "id": "e19574b7-5d86-4572-b760-960179065ecf",
   "metadata": {},
   "outputs": [
    {
     "data": {
      "text/plain": [
       "Lead\n",
       "Low     5219\n",
       "High    2203\n",
       "Name: count, dtype: int64"
      ]
     },
     "execution_count": 98,
     "metadata": {},
     "output_type": "execute_result"
    }
   ],
   "source": [
    "data['Lead'].value_counts()"
   ]
  },
  {
   "cell_type": "code",
   "execution_count": 99,
   "id": "3addb605-8b03-4692-867c-a852c0dacc79",
   "metadata": {},
   "outputs": [
    {
     "data": {
      "text/plain": [
       "Created             0\n",
       "Product_ID         58\n",
       "Source             17\n",
       "Mobile           1810\n",
       "EMAIL               0\n",
       "Sales_Agent        23\n",
       "Location           58\n",
       "Delivery_Mode       0\n",
       "Status              0\n",
       "Lead                0\n",
       "dtype: int64"
      ]
     },
     "execution_count": 99,
     "metadata": {},
     "output_type": "execute_result"
    }
   ],
   "source": [
    "data.isnull().sum()"
   ]
  },
  {
   "cell_type": "code",
   "execution_count": 100,
   "id": "b9307b1c-73a5-4430-ab3b-a46616390d03",
   "metadata": {},
   "outputs": [
    {
     "data": {
      "text/plain": [
       "Product_ID\n",
       "18.0    1711\n",
       "15.0    1518\n",
       "19.0    1189\n",
       "9.0      992\n",
       "27.0     739\n",
       "5.0      487\n",
       "10.0     168\n",
       "1.0      105\n",
       "20.0     102\n",
       "25.0      90\n",
       "21.0      66\n",
       "2.0       38\n",
       "12.0      36\n",
       "26.0      31\n",
       "14.0      27\n",
       "11.0      12\n",
       "22.0       8\n",
       "3.0        7\n",
       "17.0       7\n",
       "6.0        7\n",
       "8.0        6\n",
       "13.0       5\n",
       "24.0       3\n",
       "16.0       3\n",
       "23.0       2\n",
       "0.0        2\n",
       "28.0       1\n",
       "7.0        1\n",
       "4.0        1\n",
       "Name: count, dtype: int64"
      ]
     },
     "execution_count": 100,
     "metadata": {},
     "output_type": "execute_result"
    }
   ],
   "source": [
    "data['Product_ID'].value_counts()"
   ]
  },
  {
   "cell_type": "code",
   "execution_count": 101,
   "id": "12703a39-aa77-410d-a575-0a981e1b021f",
   "metadata": {
    "scrolled": true
   },
   "outputs": [
    {
     "data": {
      "text/plain": [
       "Source\n",
       "Call                             2547\n",
       "Live Chat-Direct                 1834\n",
       "Website                          1594\n",
       "Live Chat-Google Organic          274\n",
       "Live Chat -PPC                    249\n",
       "Live Chat-Blog                    237\n",
       "Customer Referral                 180\n",
       "US Website                        137\n",
       "Just Dial                          56\n",
       "Existing Client                    51\n",
       "Personal Contact                   50\n",
       "Live Chat-CPC                      50\n",
       "By Recommendation                  32\n",
       "CRM form                           23\n",
       "Existing Customer                  22\n",
       "Live Chat-Google Ads               21\n",
       "Campaign                           19\n",
       "E-mail Campaign                    12\n",
       "Live Chat-Adwords Remarketing       7\n",
       "Live Chat-Quora                     2\n",
       "Other                               2\n",
       "SMS Campaign                        2\n",
       "Live Chat-Youtube                   2\n",
       "E-Mail Message                      1\n",
       "Live Chat-Justdial                  1\n",
       "Name: count, dtype: int64"
      ]
     },
     "execution_count": 101,
     "metadata": {},
     "output_type": "execute_result"
    }
   ],
   "source": [
    "data['Source'].value_counts()"
   ]
  },
  {
   "cell_type": "markdown",
   "id": "cd81d271-36d6-47f3-b59d-cc0e0cc60bee",
   "metadata": {},
   "source": [
    "* **Call**\t-- Lead came from a phone call inquiry.\n",
    "* **Website** -- Lead was generated from the company’s website.\n",
    "* **Live Chat-Direct**\t-- Lead interacted via live chat on the website.\n",
    "* **Live Chat-Google Organic**\t-- Lead came through live chat after finding the site via Google search.\n",
    "* **Live Chat - PPC**\t-- Lead came from a Pay-Per-Click (PPC) advertisement.\n",
    "* **Live Chat-Blog**\t-- Lead interacted via chat after reading a blog post.\n",
    "* **Customer Referral**\t-- Lead was referred by an existing customer.\n",
    "* **US Website**\t-- Lead came from a US-based version of the website.\n",
    "* **Just Dial** -- Lead found the business via Just Dial (a local business listing service).\n",
    "* **Existing Client**\t-- The lead is an existing customer inquiring about another product/service.\n",
    "* **Personal Contact**\t-- Lead was generated from direct personal connections.\n",
    "* **Live Chat-CPC**\t-- Lead interacted via chat after clicking on a Cost-Per-Click (CPC) ad.\n",
    "* **By Recommendation**\t-- Lead came from a recommendation (word of mouth).\n",
    "* **CRM Form**\t-- Lead filled out a contact form in the Customer Relationship Management (CRM) system.\n",
    "* **Campaign**\t-- Lead came from a marketing campaign (email, social media, etc.).\n",
    "* **E-mail Campaign**\t-- Lead was generated from an email marketing campaign.\n",
    "* **Live Chat-AdWords Remarketing**\t-- Lead interacted via live chat after clicking on a Google AdWords retargeting ad.\n",
    "* **Live Chat-Quora**\t-- Lead found the business via Quora and interacted through chat.\n",
    "* **Other**\t-- Miscellaneous sources that don’t fit into the above categories.\n",
    "* **SMS Campaign**\t-- Lead came from an SMS marketing campaign.\n",
    "* **Live Chat-Youtube**\t-- Lead interacted via live chat after watching a YouTube ad.\n",
    "* **E-Mail Message**\t-- Lead reached out through direct email communication.\n",
    "* **Live Chat-Justdial**\t-- Lead interacted via live chat after finding the business on Just Dial."
   ]
  },
  {
   "cell_type": "code",
   "execution_count": 103,
   "id": "6eebaf0c-cd46-45d7-9ab9-a120c34ebc34",
   "metadata": {},
   "outputs": [
    {
     "data": {
      "text/plain": [
       "Sales_Agent\n",
       "Sales-Agent-4     1500\n",
       "Sales-Agent-11    1420\n",
       "Sales-Agent-5     1190\n",
       "Sales-Agent-9      879\n",
       "Sales-Agent-3      781\n",
       "Sales-Agent-7      736\n",
       "Sales-Agent-2      389\n",
       "Sales-Agent-12     269\n",
       "Sales-Agent-6      114\n",
       "Sales-Agent-8       68\n",
       "Sales-Agent-10      49\n",
       "Sales-Agent-1        4\n",
       "Name: count, dtype: int64"
      ]
     },
     "execution_count": 103,
     "metadata": {},
     "output_type": "execute_result"
    }
   ],
   "source": [
    "data['Sales_Agent'].value_counts()"
   ]
  },
  {
   "cell_type": "code",
   "execution_count": 104,
   "id": "bbfa435b-a9fd-4b48-bae2-a4c3f7597778",
   "metadata": {},
   "outputs": [
    {
     "data": {
      "text/plain": [
       "EMAIL\n",
       "#VALUE!               1701\n",
       "sXXXXXXX@gmail.com     781\n",
       "aXXXXXXX@gmail.com     445\n",
       "rXXXXXXX@gmail.com     342\n",
       "mXXXXXXX@gmail.com     305\n",
       "                      ... \n",
       "dXXXXXXXwal@bt.com       1\n",
       "uXXXXXXXectric.com       1\n",
       "dXXXXXXX9@gmail.co       1\n",
       "pXXXXXXXamaris.com       1\n",
       "mXXXXXXXengira.com       1\n",
       "Name: count, Length: 883, dtype: int64"
      ]
     },
     "execution_count": 104,
     "metadata": {},
     "output_type": "execute_result"
    }
   ],
   "source": [
    "data['EMAIL'].value_counts()"
   ]
  },
  {
   "cell_type": "code",
   "execution_count": 105,
   "id": "d6c6c977-3bbd-450d-9a43-1440cb389d5b",
   "metadata": {
    "scrolled": true
   },
   "outputs": [
    {
     "data": {
      "text/plain": [
       "Location\n",
       "Other Locations    2500\n",
       "Bangalore          2084\n",
       "Chennai             909\n",
       "Hyderabad           528\n",
       "Delhi               471\n",
       "Mumbai              402\n",
       "Pune                142\n",
       "UAE                  79\n",
       "Trivandrum           58\n",
       "Kolkata              55\n",
       "USA                  45\n",
       "UK                   41\n",
       "AUSTRALIA            25\n",
       "Singapore            17\n",
       "Malaysia              4\n",
       "EUROPE                3\n",
       "Howrah                1\n",
       "Name: count, dtype: int64"
      ]
     },
     "execution_count": 105,
     "metadata": {},
     "output_type": "execute_result"
    }
   ],
   "source": [
    "data['Location'].value_counts()"
   ]
  },
  {
   "cell_type": "code",
   "execution_count": 106,
   "id": "719a4776-a645-4dcf-bbab-052c79e3b408",
   "metadata": {},
   "outputs": [
    {
     "data": {
      "text/plain": [
       "Created\n",
       "26-09-2018 11:30    4\n",
       "27-09-2018 11:00    4\n",
       "10-05-2018 12:30    4\n",
       "15-10-2018 10:36    4\n",
       "14-09-2018 12:00    4\n",
       "                   ..\n",
       "29-08-2018 12:52    1\n",
       "29-08-2018 13:08    1\n",
       "29-08-2018 15:26    1\n",
       "29-08-2018 15:39    1\n",
       "28-04-2018 07:54    1\n",
       "Name: count, Length: 6752, dtype: int64"
      ]
     },
     "execution_count": 106,
     "metadata": {},
     "output_type": "execute_result"
    }
   ],
   "source": [
    "data['Created'].value_counts()"
   ]
  },
  {
   "cell_type": "code",
   "execution_count": 107,
   "id": "c079264d-ea70-4053-813d-7b536af2e989",
   "metadata": {},
   "outputs": [
    {
     "data": {
      "text/plain": [
       "Delivery_Mode\n",
       "Mode-5    2975\n",
       "Mode-1    2627\n",
       "Mode-3    1688\n",
       "Mode-4     121\n",
       "Mode-2      11\n",
       "Name: count, dtype: int64"
      ]
     },
     "execution_count": 107,
     "metadata": {},
     "output_type": "execute_result"
    }
   ],
   "source": [
    "data['Delivery_Mode'].value_counts()"
   ]
  },
  {
   "cell_type": "code",
   "execution_count": 108,
   "id": "8a2d3ffe-4187-4ad3-a29d-d63b464699ab",
   "metadata": {},
   "outputs": [
    {
     "data": {
      "text/plain": [
       "Status\n",
       "Junk Lead               1536\n",
       "Not Responding          1129\n",
       "CONVERTED                852\n",
       "Just Enquiry             760\n",
       "Potential                708\n",
       "Long Term                646\n",
       "In Progress Positive     643\n",
       "In Progress Negative     626\n",
       "LOST                     440\n",
       "Open                      82\n",
       "Name: count, dtype: int64"
      ]
     },
     "execution_count": 108,
     "metadata": {},
     "output_type": "execute_result"
    }
   ],
   "source": [
    "data['Status'].value_counts()"
   ]
  },
  {
   "cell_type": "code",
   "execution_count": 109,
   "id": "2196ac27-4c1f-422c-94a3-defa40a15f31",
   "metadata": {},
   "outputs": [],
   "source": [
    "pd.reset_option(\"display.max_rows\")"
   ]
  },
  {
   "cell_type": "code",
   "execution_count": 110,
   "id": "782989db-1179-407d-b403-50ce350aafa3",
   "metadata": {},
   "outputs": [
    {
     "data": {
      "text/plain": [
       "Mobile\n",
       "XXXXXXX       222\n",
       "988XXXXXXX    211\n",
       "984XXXXXXX    177\n",
       "998XXXXXXX    125\n",
       "994XXXXXXX    112\n",
       "             ... \n",
       "747XXXXXXX      1\n",
       "124XXXXXXX      1\n",
       "031XXXXXXX      1\n",
       "(31XXXXXXX      1\n",
       "9535207621      1\n",
       "Name: count, Length: 486, dtype: int64"
      ]
     },
     "execution_count": 110,
     "metadata": {},
     "output_type": "execute_result"
    }
   ],
   "source": [
    "#pd.set_option('display.max_rows', None)\n",
    "data['Mobile'].value_counts()"
   ]
  },
  {
   "cell_type": "code",
   "execution_count": 111,
   "id": "14cad246-b249-4859-a3ce-f9d2df786bdd",
   "metadata": {},
   "outputs": [
    {
     "data": {
      "text/plain": [
       "Source\n",
       "Call                             2547\n",
       "Live Chat-Direct                 1834\n",
       "Website                          1594\n",
       "Live Chat-Google Organic          274\n",
       "Live Chat -PPC                    249\n",
       "Live Chat-Blog                    237\n",
       "Customer Referral                 180\n",
       "US Website                        137\n",
       "Just Dial                          56\n",
       "Existing Client                    51\n",
       "Personal Contact                   50\n",
       "Live Chat-CPC                      50\n",
       "By Recommendation                  32\n",
       "CRM form                           23\n",
       "Existing Customer                  22\n",
       "Live Chat-Google Ads               21\n",
       "Campaign                           19\n",
       "E-mail Campaign                    12\n",
       "Live Chat-Adwords Remarketing       7\n",
       "Live Chat-Quora                     2\n",
       "Other                               2\n",
       "SMS Campaign                        2\n",
       "Live Chat-Youtube                   2\n",
       "E-Mail Message                      1\n",
       "Live Chat-Justdial                  1\n",
       "Name: count, dtype: int64"
      ]
     },
     "execution_count": 111,
     "metadata": {},
     "output_type": "execute_result"
    }
   ],
   "source": [
    "data['Source'].value_counts()"
   ]
  },
  {
   "cell_type": "code",
   "execution_count": 112,
   "id": "06551594-a1dd-41b2-8eac-8d76919e92eb",
   "metadata": {},
   "outputs": [
    {
     "name": "stdout",
     "output_type": "stream",
     "text": [
      "               Created  Product_ID            Source      Mobile  \\\n",
      "0     14-11-2018 10:05         NaN           Website  984XXXXXXX   \n",
      "1     14-11-2018 09:22         NaN           Website     XXXXXXX   \n",
      "2     14-11-2018 09:21         NaN           Website     XXXXXXX   \n",
      "3     14-11-2018 08:46         NaN           Website     XXXXXXX   \n",
      "4     14-11-2018 07:34         NaN           Website     XXXXXXX   \n",
      "5     14-11-2018 07:33         NaN           Website     XXXXXXX   \n",
      "6     14-11-2018 05:58         NaN           Website     XXXXXXX   \n",
      "7     14-11-2018 05:49         NaN           Website     XXXXXXX   \n",
      "8     14-11-2018 05:40         NaN           Website  078XXXXXXX   \n",
      "9     14-11-2018 05:06         NaN           Website     XXXXXXX   \n",
      "10    14-11-2018 05:03         NaN           Website     XXXXXXX   \n",
      "11    14-11-2018 04:52         NaN           Website     XXXXXXX   \n",
      "12    14-11-2018 02:37         NaN           Website  467XXXXXXX   \n",
      "13    13-11-2018 23:40         NaN               NaN     XXXXXXX   \n",
      "14    13-11-2018 21:14         NaN           Website  984XXXXXXX   \n",
      "15    13-11-2018 20:45         NaN               NaN     XXXXXXX   \n",
      "16    13-11-2018 20:15         NaN           Website     XXXXXXX   \n",
      "17    13-11-2018 20:14         NaN           Website     XXXXXXX   \n",
      "20    13-11-2018 18:41         NaN           Website  04.XXXXXXX   \n",
      "21    13-11-2018 18:25         NaN               NaN     XXXXXXX   \n",
      "22    13-11-2018 18:03         NaN           Website  805XXXXXXX   \n",
      "23    13-11-2018 17:25         NaN              Call  +96XXXXXXX   \n",
      "126   10-11-2018 22:34         NaN           Website  988XXXXXXX   \n",
      "127   10-11-2018 21:41         NaN           Website  719XXXXXXX   \n",
      "128   10-11-2018 20:40         NaN               NaN     XXXXXXX   \n",
      "129   10-11-2018 20:27         NaN           Website     XXXXXXX   \n",
      "130   10-11-2018 20:27         NaN           Website     XXXXXXX   \n",
      "131   10-11-2018 20:25         NaN           Website     XXXXXXX   \n",
      "132   10-11-2018 20:20         NaN           Website     XXXXXXX   \n",
      "133   10-11-2018 20:19         NaN           Website     XXXXXXX   \n",
      "134   10-11-2018 20:17         NaN           Website     XXXXXXX   \n",
      "135   10-11-2018 20:17         NaN           Website     XXXXXXX   \n",
      "136   10-11-2018 19:39         NaN           Website  932XXXXXXX   \n",
      "137   10-11-2018 19:13         NaN           Website  999XXXXXXX   \n",
      "138   10-11-2018 18:00         NaN               NaN     XXXXXXX   \n",
      "1888  17-09-2018 18:55         NaN  Live Chat-Direct  704XXXXXXX   \n",
      "2487  31-08-2018 22:31         NaN           Website  704XXXXXXX   \n",
      "2488  31-08-2018 21:26         NaN           Website  932XXXXXXX   \n",
      "2489  31-08-2018 20:34         NaN           Website  01.XXXXXXX   \n",
      "2556  29-08-2018 19:41         NaN               NaN     XXXXXXX   \n",
      "2726  24-08-2018 15:20         NaN           Website  735XXXXXXX   \n",
      "2727  24-08-2018 14:36         NaN        US Website  091XXXXXXX   \n",
      "2729  24-08-2018 13:50         NaN        US Website  077XXXXXXX   \n",
      "3023  16-08-2018 12:08         NaN              Call  948XXXXXXX   \n",
      "3051  15-08-2018 21:44         NaN               NaN     XXXXXXX   \n",
      "3053  15-08-2018 20:36         NaN           Website  037XXXXXXX   \n",
      "3061  14-08-2018 21:43         NaN           Website  893XXXXXXX   \n",
      "3130  13-08-2018 16:59         NaN           Website  889XXXXXXX   \n",
      "3250  09-08-2018 18:26         NaN           Website  990XXXXXXX   \n",
      "3384  06-08-2018 20:42         NaN        US Website  418XXXXXXX   \n",
      "3740  28-07-2018 23:11         NaN           Website  919XXXXXXX   \n",
      "3752  28-07-2018 12:25         NaN  Live Chat-Direct  974XXXXXXX   \n",
      "4979  25-06-2018 16:31         NaN               NaN     XXXXXXX   \n",
      "5086  22-06-2018 15:03         NaN           Website  916XXXXXXX   \n",
      "5235  19-06-2018 23:41         NaN           Website  975XXXXXXX   \n",
      "5258  19-06-2018 17:12         NaN               NaN  987XXXXXXX   \n",
      "5549  12-06-2018 21:00         NaN               NaN  705XXXXXXX   \n",
      "5664  10-06-2018 11:12         NaN        US Website         NaN   \n",
      "\n",
      "                   EMAIL     Sales_Agent         Location Delivery_Mode  \\\n",
      "0     aXXXXXXX@gmail.com  Sales-Agent-11              NaN        Mode-5   \n",
      "1                #VALUE!  Sales-Agent-10              NaN        Mode-5   \n",
      "2     dXXXXXXX@yahoo.com  Sales-Agent-10              NaN        Mode-5   \n",
      "3     wXXXXXXX@gmail.com  Sales-Agent-10              NaN        Mode-5   \n",
      "4     cXXXXXXX@gmail.com  Sales-Agent-10              NaN        Mode-5   \n",
      "5     rXXXXXXX@gmail.com  Sales-Agent-10              NaN        Mode-5   \n",
      "6     aXXXXXXX@gmail.com  Sales-Agent-10              NaN        Mode-5   \n",
      "7     rXXXXXXX@gmail.com  Sales-Agent-10              NaN        Mode-5   \n",
      "8     DXXXXXXXheblue.com  Sales-Agent-10              NaN        Mode-5   \n",
      "9     jXXXXXXX@gmail.com  Sales-Agent-10              NaN        Mode-5   \n",
      "10    dXXXXXXXt9@aol.com  Sales-Agent-10              NaN        Mode-5   \n",
      "11    eXXXXXXX@gmail.com  Sales-Agent-10              NaN        Mode-5   \n",
      "12    bXXXXXXX@gmail.com  Sales-Agent-10              NaN        Mode-5   \n",
      "13               #VALUE!  Sales-Agent-10              NaN        Mode-5   \n",
      "14    SXXXXXXXutlook.com  Sales-Agent-10              NaN        Mode-5   \n",
      "15               #VALUE!  Sales-Agent-10              NaN        Mode-5   \n",
      "16               #VALUE!  Sales-Agent-10              NaN        Mode-5   \n",
      "17               #VALUE!  Sales-Agent-10              NaN        Mode-5   \n",
      "20    WXXXXXXXlowpol.com  Sales-Agent-10              NaN        Mode-5   \n",
      "21               #VALUE!  Sales-Agent-10              NaN        Mode-5   \n",
      "22    eXXXXXXX@gmail.com  Sales-Agent-10              NaN        Mode-5   \n",
      "23    hXXXXXXX@gmail.com   Sales-Agent-9              UAE        Mode-3   \n",
      "126   VXXXXXXX@gmail.com  Sales-Agent-10              NaN        Mode-5   \n",
      "127   AXXXXXXXheblue.com  Sales-Agent-10              NaN        Mode-5   \n",
      "128              #VALUE!  Sales-Agent-10              NaN        Mode-5   \n",
      "129              #VALUE!  Sales-Agent-10              NaN        Mode-5   \n",
      "130              #VALUE!  Sales-Agent-10              NaN        Mode-5   \n",
      "131              #VALUE!  Sales-Agent-10              NaN        Mode-5   \n",
      "132              #VALUE!  Sales-Agent-10              NaN        Mode-5   \n",
      "133              #VALUE!  Sales-Agent-10              NaN        Mode-5   \n",
      "134              #VALUE!  Sales-Agent-10              NaN        Mode-5   \n",
      "135              #VALUE!  Sales-Agent-10              NaN        Mode-5   \n",
      "136   CXXXXXXX@yahoo.com  Sales-Agent-10              NaN        Mode-5   \n",
      "137   aXXXXXXX@gmail.com  Sales-Agent-10              NaN        Mode-5   \n",
      "138              #VALUE!  Sales-Agent-10              NaN        Mode-5   \n",
      "1888  aXXXXXXX4@nitie.ac   Sales-Agent-5           Mumbai        Mode-3   \n",
      "2487  pXXXXXXX@gmail.com  Sales-Agent-10              NaN        Mode-5   \n",
      "2488  pXXXXXXX@gmail.com  Sales-Agent-10              NaN        Mode-5   \n",
      "2489  mXXXXXXXaskpsi.com  Sales-Agent-10              NaN        Mode-5   \n",
      "2556             #VALUE!   Sales-Agent-1              NaN        Mode-5   \n",
      "2726  PXXXXXXXOTMAIL.COM  Sales-Agent-11              NaN        Mode-5   \n",
      "2727  hXXXXXXXailbox.com   Sales-Agent-5              NaN        Mode-5   \n",
      "2729  kXXXXXXXstabbi.com  Sales-Agent-11              NaN        Mode-5   \n",
      "3023             #VALUE!   Sales-Agent-5  Other Locations        Mode-5   \n",
      "3051             #VALUE!   Sales-Agent-1              NaN        Mode-5   \n",
      "3053  bXXXXXXXieblog.com  Sales-Agent-10              NaN        Mode-5   \n",
      "3061  rXXXXXXX@gmail.com  Sales-Agent-10              NaN        Mode-5   \n",
      "3130  tXXXXXXX@gmail.com  Sales-Agent-10              NaN        Mode-5   \n",
      "3250  dXXXXXXXllogic.com  Sales-Agent-10              NaN        Mode-5   \n",
      "3384  sXXXXXXXamiami.com  Sales-Agent-10              NaN        Mode-5   \n",
      "3740  rXXXXXXX@gmail.com  Sales-Agent-10              NaN        Mode-5   \n",
      "3752  sXXXXXXX@yahoo.com   Sales-Agent-5  Other Locations        Mode-5   \n",
      "4979             #VALUE!   Sales-Agent-1              NaN        Mode-5   \n",
      "5086  cXXXXXXX@gmail.com   Sales-Agent-4  Other Locations        Mode-3   \n",
      "5235  SXXXXXXX@gmail.com  Sales-Agent-10              NaN        Mode-5   \n",
      "5258             #VALUE!   Sales-Agent-1              NaN        Mode-5   \n",
      "5549  jXXXXXXX@gmail.com  Sales-Agent-10              NaN        Mode-5   \n",
      "5664  vXXXXXXXaz@mail.ru   Sales-Agent-4  Other Locations        Mode-5   \n",
      "\n",
      "                    Status  Lead  \n",
      "0                     Open   Low  \n",
      "1                     Open   Low  \n",
      "2                     Open   Low  \n",
      "3                     Open   Low  \n",
      "4                     Open   Low  \n",
      "5                     Open   Low  \n",
      "6                     Open   Low  \n",
      "7                     Open   Low  \n",
      "8                     Open   Low  \n",
      "9                     Open   Low  \n",
      "10                    Open   Low  \n",
      "11                    Open   Low  \n",
      "12                    Open   Low  \n",
      "13                    Open   Low  \n",
      "14                    Open   Low  \n",
      "15                    Open   Low  \n",
      "16                    Open   Low  \n",
      "17                    Open   Low  \n",
      "20                    Open   Low  \n",
      "21                    Open   Low  \n",
      "22                    Open   Low  \n",
      "23    In Progress Positive  High  \n",
      "126                   Open   Low  \n",
      "127                   Open   Low  \n",
      "128                   Open   Low  \n",
      "129                   Open   Low  \n",
      "130                   Open   Low  \n",
      "131                   Open   Low  \n",
      "132                   Open   Low  \n",
      "133                   Open   Low  \n",
      "134                   Open   Low  \n",
      "135                   Open   Low  \n",
      "136                   Open   Low  \n",
      "137                   Open   Low  \n",
      "138                   Open   Low  \n",
      "1888             Junk Lead   Low  \n",
      "2487                  Open   Low  \n",
      "2488                  Open   Low  \n",
      "2489                  Open   Low  \n",
      "2556                  Open   Low  \n",
      "2726          Just Enquiry   Low  \n",
      "2727        Not Responding   Low  \n",
      "2729          Just Enquiry   Low  \n",
      "3023             Junk Lead   Low  \n",
      "3051                  Open   Low  \n",
      "3053                  Open   Low  \n",
      "3061                  Open   Low  \n",
      "3130                  Open   Low  \n",
      "3250                  Open   Low  \n",
      "3384                  Open   Low  \n",
      "3740                  Open   Low  \n",
      "3752          Just Enquiry   Low  \n",
      "4979                  Open   Low  \n",
      "5086             Long Term   Low  \n",
      "5235                  Open   Low  \n",
      "5258                  Open   Low  \n",
      "5549                  Open   Low  \n",
      "5664        Not Responding   Low  \n"
     ]
    }
   ],
   "source": [
    "missing_pid_rows = data[data['Product_ID'].isnull()]\n",
    "print(missing_pid_rows)"
   ]
  },
  {
   "cell_type": "code",
   "execution_count": 113,
   "id": "ac1fb0a2-269f-4ca9-809e-0763f06ddc32",
   "metadata": {},
   "outputs": [
    {
     "data": {
      "text/html": [
       "<div>\n",
       "<style scoped>\n",
       "    .dataframe tbody tr th:only-of-type {\n",
       "        vertical-align: middle;\n",
       "    }\n",
       "\n",
       "    .dataframe tbody tr th {\n",
       "        vertical-align: top;\n",
       "    }\n",
       "\n",
       "    .dataframe thead th {\n",
       "        text-align: right;\n",
       "    }\n",
       "</style>\n",
       "<table border=\"1\" class=\"dataframe\">\n",
       "  <thead>\n",
       "    <tr style=\"text-align: right;\">\n",
       "      <th></th>\n",
       "      <th>Created</th>\n",
       "      <th>Product_ID</th>\n",
       "      <th>Source</th>\n",
       "      <th>Mobile</th>\n",
       "      <th>EMAIL</th>\n",
       "      <th>Sales_Agent</th>\n",
       "      <th>Location</th>\n",
       "      <th>Delivery_Mode</th>\n",
       "      <th>Status</th>\n",
       "      <th>Lead</th>\n",
       "    </tr>\n",
       "  </thead>\n",
       "  <tbody>\n",
       "    <tr>\n",
       "      <th>18</th>\n",
       "      <td>13-11-2018 18:51</td>\n",
       "      <td>9.0</td>\n",
       "      <td>Live Chat-Google Organic</td>\n",
       "      <td>971XXXXXXX</td>\n",
       "      <td>mXXXXXXX@gmail.com</td>\n",
       "      <td>Sales-Agent-3</td>\n",
       "      <td>Bangalore</td>\n",
       "      <td>Mode-1</td>\n",
       "      <td>Potential</td>\n",
       "      <td>High</td>\n",
       "    </tr>\n",
       "    <tr>\n",
       "      <th>19</th>\n",
       "      <td>13-11-2018 18:48</td>\n",
       "      <td>19.0</td>\n",
       "      <td>Call</td>\n",
       "      <td>701XXXXXXX</td>\n",
       "      <td>#VALUE!</td>\n",
       "      <td>Sales-Agent-4</td>\n",
       "      <td>Other Locations</td>\n",
       "      <td>Mode-5</td>\n",
       "      <td>Potential</td>\n",
       "      <td>High</td>\n",
       "    </tr>\n",
       "    <tr>\n",
       "      <th>24</th>\n",
       "      <td>13-11-2018 17:09</td>\n",
       "      <td>18.0</td>\n",
       "      <td>Website</td>\n",
       "      <td>790XXXXXXX</td>\n",
       "      <td>gXXXXXXX@gmail.com</td>\n",
       "      <td>Sales-Agent-11</td>\n",
       "      <td>Trivandrum</td>\n",
       "      <td>Mode-1</td>\n",
       "      <td>Potential</td>\n",
       "      <td>High</td>\n",
       "    </tr>\n",
       "    <tr>\n",
       "      <th>25</th>\n",
       "      <td>13-11-2018 16:49</td>\n",
       "      <td>15.0</td>\n",
       "      <td>Website</td>\n",
       "      <td>970XXXXXXX</td>\n",
       "      <td>aXXXXXXX@gmail.com</td>\n",
       "      <td>Sales-Agent-7</td>\n",
       "      <td>Hyderabad</td>\n",
       "      <td>Mode-1</td>\n",
       "      <td>Not Responding</td>\n",
       "      <td>Low</td>\n",
       "    </tr>\n",
       "    <tr>\n",
       "      <th>26</th>\n",
       "      <td>13-11-2018 16:37</td>\n",
       "      <td>18.0</td>\n",
       "      <td>Call</td>\n",
       "      <td>740XXXXXXX</td>\n",
       "      <td>nXXXXXXX@gmail.com</td>\n",
       "      <td>Sales-Agent-7</td>\n",
       "      <td>Bangalore</td>\n",
       "      <td>Mode-1</td>\n",
       "      <td>In Progress Positive</td>\n",
       "      <td>High</td>\n",
       "    </tr>\n",
       "    <tr>\n",
       "      <th>...</th>\n",
       "      <td>...</td>\n",
       "      <td>...</td>\n",
       "      <td>...</td>\n",
       "      <td>...</td>\n",
       "      <td>...</td>\n",
       "      <td>...</td>\n",
       "      <td>...</td>\n",
       "      <td>...</td>\n",
       "      <td>...</td>\n",
       "      <td>...</td>\n",
       "    </tr>\n",
       "    <tr>\n",
       "      <th>7417</th>\n",
       "      <td>28-04-2018 09:45</td>\n",
       "      <td>9.0</td>\n",
       "      <td>Call</td>\n",
       "      <td>NaN</td>\n",
       "      <td>aXXXXXXX@gmail.com</td>\n",
       "      <td>Sales-Agent-6</td>\n",
       "      <td>Mumbai</td>\n",
       "      <td>Mode-4</td>\n",
       "      <td>LOST</td>\n",
       "      <td>Low</td>\n",
       "    </tr>\n",
       "    <tr>\n",
       "      <th>7418</th>\n",
       "      <td>28-04-2018 09:43</td>\n",
       "      <td>15.0</td>\n",
       "      <td>Call</td>\n",
       "      <td>NaN</td>\n",
       "      <td>#VALUE!</td>\n",
       "      <td>Sales-Agent-12</td>\n",
       "      <td>Other Locations</td>\n",
       "      <td>Mode-5</td>\n",
       "      <td>LOST</td>\n",
       "      <td>Low</td>\n",
       "    </tr>\n",
       "    <tr>\n",
       "      <th>7419</th>\n",
       "      <td>28-04-2018 09:20</td>\n",
       "      <td>5.0</td>\n",
       "      <td>Live Chat-Direct</td>\n",
       "      <td>NaN</td>\n",
       "      <td>sXXXXXXX@gmail.com</td>\n",
       "      <td>Sales-Agent-11</td>\n",
       "      <td>Bangalore</td>\n",
       "      <td>Mode-1</td>\n",
       "      <td>Not Responding</td>\n",
       "      <td>Low</td>\n",
       "    </tr>\n",
       "    <tr>\n",
       "      <th>7420</th>\n",
       "      <td>28-04-2018 08:04</td>\n",
       "      <td>21.0</td>\n",
       "      <td>CRM form</td>\n",
       "      <td>NaN</td>\n",
       "      <td>YXXXXXXX@gmail.com</td>\n",
       "      <td>Sales-Agent-4</td>\n",
       "      <td>Other Locations</td>\n",
       "      <td>Mode-1</td>\n",
       "      <td>Just Enquiry</td>\n",
       "      <td>Low</td>\n",
       "    </tr>\n",
       "    <tr>\n",
       "      <th>7421</th>\n",
       "      <td>28-04-2018 07:54</td>\n",
       "      <td>25.0</td>\n",
       "      <td>Website</td>\n",
       "      <td>NaN</td>\n",
       "      <td>cXXXXXXX@gmail.com</td>\n",
       "      <td>Sales-Agent-3</td>\n",
       "      <td>Chennai</td>\n",
       "      <td>Mode-1</td>\n",
       "      <td>CONVERTED</td>\n",
       "      <td>High</td>\n",
       "    </tr>\n",
       "  </tbody>\n",
       "</table>\n",
       "<p>7364 rows × 10 columns</p>\n",
       "</div>"
      ],
      "text/plain": [
       "               Created  Product_ID                    Source      Mobile  \\\n",
       "18    13-11-2018 18:51         9.0  Live Chat-Google Organic  971XXXXXXX   \n",
       "19    13-11-2018 18:48        19.0                      Call  701XXXXXXX   \n",
       "24    13-11-2018 17:09        18.0                   Website  790XXXXXXX   \n",
       "25    13-11-2018 16:49        15.0                   Website  970XXXXXXX   \n",
       "26    13-11-2018 16:37        18.0                      Call  740XXXXXXX   \n",
       "...                ...         ...                       ...         ...   \n",
       "7417  28-04-2018 09:45         9.0                      Call         NaN   \n",
       "7418  28-04-2018 09:43        15.0                      Call         NaN   \n",
       "7419  28-04-2018 09:20         5.0          Live Chat-Direct         NaN   \n",
       "7420  28-04-2018 08:04        21.0                  CRM form         NaN   \n",
       "7421  28-04-2018 07:54        25.0                   Website         NaN   \n",
       "\n",
       "                   EMAIL     Sales_Agent         Location Delivery_Mode  \\\n",
       "18    mXXXXXXX@gmail.com   Sales-Agent-3        Bangalore        Mode-1   \n",
       "19               #VALUE!   Sales-Agent-4  Other Locations        Mode-5   \n",
       "24    gXXXXXXX@gmail.com  Sales-Agent-11       Trivandrum        Mode-1   \n",
       "25    aXXXXXXX@gmail.com   Sales-Agent-7        Hyderabad        Mode-1   \n",
       "26    nXXXXXXX@gmail.com   Sales-Agent-7        Bangalore        Mode-1   \n",
       "...                  ...             ...              ...           ...   \n",
       "7417  aXXXXXXX@gmail.com   Sales-Agent-6           Mumbai        Mode-4   \n",
       "7418             #VALUE!  Sales-Agent-12  Other Locations        Mode-5   \n",
       "7419  sXXXXXXX@gmail.com  Sales-Agent-11        Bangalore        Mode-1   \n",
       "7420  YXXXXXXX@gmail.com   Sales-Agent-4  Other Locations        Mode-1   \n",
       "7421  cXXXXXXX@gmail.com   Sales-Agent-3          Chennai        Mode-1   \n",
       "\n",
       "                    Status  Lead  \n",
       "18               Potential  High  \n",
       "19               Potential  High  \n",
       "24               Potential  High  \n",
       "25          Not Responding   Low  \n",
       "26    In Progress Positive  High  \n",
       "...                    ...   ...  \n",
       "7417                  LOST   Low  \n",
       "7418                  LOST   Low  \n",
       "7419        Not Responding   Low  \n",
       "7420          Just Enquiry   Low  \n",
       "7421             CONVERTED  High  \n",
       "\n",
       "[7364 rows x 10 columns]"
      ]
     },
     "execution_count": 113,
     "metadata": {},
     "output_type": "execute_result"
    }
   ],
   "source": [
    "# Drop rows where Product_ID is missing\n",
    "data1 = data.dropna(subset=['Product_ID'])\n",
    "data1"
   ]
  },
  {
   "cell_type": "code",
   "execution_count": 114,
   "id": "f608b72f-cb7d-42fa-bf28-e684d2d98df7",
   "metadata": {},
   "outputs": [
    {
     "name": "stdout",
     "output_type": "stream",
     "text": [
      "Created             0\n",
      "Product_ID          0\n",
      "Source              7\n",
      "Mobile           1809\n",
      "EMAIL               0\n",
      "Sales_Agent        23\n",
      "Location            6\n",
      "Delivery_Mode       0\n",
      "Status              0\n",
      "Lead                0\n",
      "dtype: int64\n"
     ]
    }
   ],
   "source": [
    "print(data1.isnull().sum())"
   ]
  },
  {
   "cell_type": "code",
   "execution_count": 115,
   "id": "e3fde484-c90f-4498-9f06-cdab5fd782ae",
   "metadata": {
    "scrolled": true
   },
   "outputs": [],
   "source": [
    "# Filling missing values in 'source' with the most frequent value (mode)\n",
    "data1['Source'].fillna(data1['Source'].mode()[0], inplace=True)"
   ]
  },
  {
   "cell_type": "code",
   "execution_count": 116,
   "id": "bd6a409d-ad6f-4ddb-b884-1802bfd529f3",
   "metadata": {},
   "outputs": [
    {
     "name": "stdout",
     "output_type": "stream",
     "text": [
      "Created             0\n",
      "Product_ID          0\n",
      "Source              0\n",
      "Mobile           1809\n",
      "EMAIL               0\n",
      "Sales_Agent        23\n",
      "Location            6\n",
      "Delivery_Mode       0\n",
      "Status              0\n",
      "Lead                0\n",
      "dtype: int64\n"
     ]
    }
   ],
   "source": [
    "print(data1.isnull().sum())"
   ]
  },
  {
   "cell_type": "code",
   "execution_count": 117,
   "id": "d9267d9f-3125-4748-bb88-33dcc4ae03b7",
   "metadata": {},
   "outputs": [],
   "source": [
    "# Filling missing values in 'Sales_agent' with the most frequent value (mode)\n",
    "data1['Sales_Agent'].fillna(data1['Sales_Agent'].mode()[0], inplace=True)"
   ]
  },
  {
   "cell_type": "code",
   "execution_count": 118,
   "id": "1634b336-e348-492b-b0af-2ea14d582618",
   "metadata": {},
   "outputs": [
    {
     "data": {
      "text/plain": [
       "Created             0\n",
       "Product_ID          0\n",
       "Source              0\n",
       "Mobile           1809\n",
       "EMAIL               0\n",
       "Sales_Agent         0\n",
       "Location            6\n",
       "Delivery_Mode       0\n",
       "Status              0\n",
       "Lead                0\n",
       "dtype: int64"
      ]
     },
     "execution_count": 118,
     "metadata": {},
     "output_type": "execute_result"
    }
   ],
   "source": [
    "data1.isnull().sum()"
   ]
  },
  {
   "cell_type": "code",
   "execution_count": 119,
   "id": "547a9b62-8c19-40f6-817b-6ee98877baaa",
   "metadata": {},
   "outputs": [
    {
     "name": "stdout",
     "output_type": "stream",
     "text": [
      "Created          object\n",
      "Product_ID       object\n",
      "Source           object\n",
      "Mobile           object\n",
      "EMAIL            object\n",
      "Sales_Agent      object\n",
      "Location         object\n",
      "Delivery_Mode    object\n",
      "Status           object\n",
      "Lead             object\n",
      "dtype: object\n"
     ]
    }
   ],
   "source": [
    "data1['Product_ID'] = data1['Product_ID'].astype(int)\n",
    "data1['Product_ID'] = data1['Product_ID'].astype(str)\n",
    "print(data1.dtypes)"
   ]
  },
  {
   "cell_type": "code",
   "execution_count": 120,
   "id": "56cc9d30-8925-4cbe-9e86-69d017ea161f",
   "metadata": {},
   "outputs": [],
   "source": [
    "# Filling missing values in 'Location' with the most frequent value (mode)\n",
    "data1['Location'].fillna(data1['Location'].mode()[0], inplace=True)"
   ]
  },
  {
   "cell_type": "code",
   "execution_count": 121,
   "id": "bc02e4d3-9bab-48d1-9695-86ff228d5b46",
   "metadata": {},
   "outputs": [
    {
     "data": {
      "text/plain": [
       "Created             0\n",
       "Product_ID          0\n",
       "Source              0\n",
       "Mobile           1809\n",
       "EMAIL               0\n",
       "Sales_Agent         0\n",
       "Location            0\n",
       "Delivery_Mode       0\n",
       "Status              0\n",
       "Lead                0\n",
       "dtype: int64"
      ]
     },
     "execution_count": 121,
     "metadata": {},
     "output_type": "execute_result"
    }
   ],
   "source": [
    "data1.isnull().sum()"
   ]
  },
  {
   "cell_type": "code",
   "execution_count": 122,
   "id": "096f2397-e71b-4e92-8b7f-2c2f9288548c",
   "metadata": {},
   "outputs": [
    {
     "data": {
      "text/html": [
       "<div>\n",
       "<style scoped>\n",
       "    .dataframe tbody tr th:only-of-type {\n",
       "        vertical-align: middle;\n",
       "    }\n",
       "\n",
       "    .dataframe tbody tr th {\n",
       "        vertical-align: top;\n",
       "    }\n",
       "\n",
       "    .dataframe thead th {\n",
       "        text-align: right;\n",
       "    }\n",
       "</style>\n",
       "<table border=\"1\" class=\"dataframe\">\n",
       "  <thead>\n",
       "    <tr style=\"text-align: right;\">\n",
       "      <th></th>\n",
       "      <th>Created</th>\n",
       "      <th>Product_ID</th>\n",
       "      <th>Source</th>\n",
       "      <th>Mobile</th>\n",
       "      <th>EMAIL</th>\n",
       "      <th>Sales_Agent</th>\n",
       "      <th>Location</th>\n",
       "      <th>Delivery_Mode</th>\n",
       "      <th>Status</th>\n",
       "      <th>Lead</th>\n",
       "    </tr>\n",
       "  </thead>\n",
       "  <tbody>\n",
       "    <tr>\n",
       "      <th>18</th>\n",
       "      <td>13-11-2018 18:51</td>\n",
       "      <td>9</td>\n",
       "      <td>Live Chat-Google Organic</td>\n",
       "      <td>971XXXXXXX</td>\n",
       "      <td>mXXXXXXX@gmail.com</td>\n",
       "      <td>Sales-Agent-3</td>\n",
       "      <td>Bangalore</td>\n",
       "      <td>Mode-1</td>\n",
       "      <td>Potential</td>\n",
       "      <td>High</td>\n",
       "    </tr>\n",
       "    <tr>\n",
       "      <th>19</th>\n",
       "      <td>13-11-2018 18:48</td>\n",
       "      <td>19</td>\n",
       "      <td>Call</td>\n",
       "      <td>701XXXXXXX</td>\n",
       "      <td>#VALUE!</td>\n",
       "      <td>Sales-Agent-4</td>\n",
       "      <td>Other Locations</td>\n",
       "      <td>Mode-5</td>\n",
       "      <td>Potential</td>\n",
       "      <td>High</td>\n",
       "    </tr>\n",
       "    <tr>\n",
       "      <th>24</th>\n",
       "      <td>13-11-2018 17:09</td>\n",
       "      <td>18</td>\n",
       "      <td>Website</td>\n",
       "      <td>790XXXXXXX</td>\n",
       "      <td>gXXXXXXX@gmail.com</td>\n",
       "      <td>Sales-Agent-11</td>\n",
       "      <td>Trivandrum</td>\n",
       "      <td>Mode-1</td>\n",
       "      <td>Potential</td>\n",
       "      <td>High</td>\n",
       "    </tr>\n",
       "    <tr>\n",
       "      <th>25</th>\n",
       "      <td>13-11-2018 16:49</td>\n",
       "      <td>15</td>\n",
       "      <td>Website</td>\n",
       "      <td>970XXXXXXX</td>\n",
       "      <td>aXXXXXXX@gmail.com</td>\n",
       "      <td>Sales-Agent-7</td>\n",
       "      <td>Hyderabad</td>\n",
       "      <td>Mode-1</td>\n",
       "      <td>Not Responding</td>\n",
       "      <td>Low</td>\n",
       "    </tr>\n",
       "    <tr>\n",
       "      <th>26</th>\n",
       "      <td>13-11-2018 16:37</td>\n",
       "      <td>18</td>\n",
       "      <td>Call</td>\n",
       "      <td>740XXXXXXX</td>\n",
       "      <td>nXXXXXXX@gmail.com</td>\n",
       "      <td>Sales-Agent-7</td>\n",
       "      <td>Bangalore</td>\n",
       "      <td>Mode-1</td>\n",
       "      <td>In Progress Positive</td>\n",
       "      <td>High</td>\n",
       "    </tr>\n",
       "    <tr>\n",
       "      <th>...</th>\n",
       "      <td>...</td>\n",
       "      <td>...</td>\n",
       "      <td>...</td>\n",
       "      <td>...</td>\n",
       "      <td>...</td>\n",
       "      <td>...</td>\n",
       "      <td>...</td>\n",
       "      <td>...</td>\n",
       "      <td>...</td>\n",
       "      <td>...</td>\n",
       "    </tr>\n",
       "    <tr>\n",
       "      <th>7417</th>\n",
       "      <td>28-04-2018 09:45</td>\n",
       "      <td>9</td>\n",
       "      <td>Call</td>\n",
       "      <td>NaN</td>\n",
       "      <td>aXXXXXXX@gmail.com</td>\n",
       "      <td>Sales-Agent-6</td>\n",
       "      <td>Mumbai</td>\n",
       "      <td>Mode-4</td>\n",
       "      <td>LOST</td>\n",
       "      <td>Low</td>\n",
       "    </tr>\n",
       "    <tr>\n",
       "      <th>7418</th>\n",
       "      <td>28-04-2018 09:43</td>\n",
       "      <td>15</td>\n",
       "      <td>Call</td>\n",
       "      <td>NaN</td>\n",
       "      <td>#VALUE!</td>\n",
       "      <td>Sales-Agent-12</td>\n",
       "      <td>Other Locations</td>\n",
       "      <td>Mode-5</td>\n",
       "      <td>LOST</td>\n",
       "      <td>Low</td>\n",
       "    </tr>\n",
       "    <tr>\n",
       "      <th>7419</th>\n",
       "      <td>28-04-2018 09:20</td>\n",
       "      <td>5</td>\n",
       "      <td>Live Chat-Direct</td>\n",
       "      <td>NaN</td>\n",
       "      <td>sXXXXXXX@gmail.com</td>\n",
       "      <td>Sales-Agent-11</td>\n",
       "      <td>Bangalore</td>\n",
       "      <td>Mode-1</td>\n",
       "      <td>Not Responding</td>\n",
       "      <td>Low</td>\n",
       "    </tr>\n",
       "    <tr>\n",
       "      <th>7420</th>\n",
       "      <td>28-04-2018 08:04</td>\n",
       "      <td>21</td>\n",
       "      <td>CRM form</td>\n",
       "      <td>NaN</td>\n",
       "      <td>YXXXXXXX@gmail.com</td>\n",
       "      <td>Sales-Agent-4</td>\n",
       "      <td>Other Locations</td>\n",
       "      <td>Mode-1</td>\n",
       "      <td>Just Enquiry</td>\n",
       "      <td>Low</td>\n",
       "    </tr>\n",
       "    <tr>\n",
       "      <th>7421</th>\n",
       "      <td>28-04-2018 07:54</td>\n",
       "      <td>25</td>\n",
       "      <td>Website</td>\n",
       "      <td>NaN</td>\n",
       "      <td>cXXXXXXX@gmail.com</td>\n",
       "      <td>Sales-Agent-3</td>\n",
       "      <td>Chennai</td>\n",
       "      <td>Mode-1</td>\n",
       "      <td>CONVERTED</td>\n",
       "      <td>High</td>\n",
       "    </tr>\n",
       "  </tbody>\n",
       "</table>\n",
       "<p>7364 rows × 10 columns</p>\n",
       "</div>"
      ],
      "text/plain": [
       "               Created Product_ID                    Source      Mobile  \\\n",
       "18    13-11-2018 18:51          9  Live Chat-Google Organic  971XXXXXXX   \n",
       "19    13-11-2018 18:48         19                      Call  701XXXXXXX   \n",
       "24    13-11-2018 17:09         18                   Website  790XXXXXXX   \n",
       "25    13-11-2018 16:49         15                   Website  970XXXXXXX   \n",
       "26    13-11-2018 16:37         18                      Call  740XXXXXXX   \n",
       "...                ...        ...                       ...         ...   \n",
       "7417  28-04-2018 09:45          9                      Call         NaN   \n",
       "7418  28-04-2018 09:43         15                      Call         NaN   \n",
       "7419  28-04-2018 09:20          5          Live Chat-Direct         NaN   \n",
       "7420  28-04-2018 08:04         21                  CRM form         NaN   \n",
       "7421  28-04-2018 07:54         25                   Website         NaN   \n",
       "\n",
       "                   EMAIL     Sales_Agent         Location Delivery_Mode  \\\n",
       "18    mXXXXXXX@gmail.com   Sales-Agent-3        Bangalore        Mode-1   \n",
       "19               #VALUE!   Sales-Agent-4  Other Locations        Mode-5   \n",
       "24    gXXXXXXX@gmail.com  Sales-Agent-11       Trivandrum        Mode-1   \n",
       "25    aXXXXXXX@gmail.com   Sales-Agent-7        Hyderabad        Mode-1   \n",
       "26    nXXXXXXX@gmail.com   Sales-Agent-7        Bangalore        Mode-1   \n",
       "...                  ...             ...              ...           ...   \n",
       "7417  aXXXXXXX@gmail.com   Sales-Agent-6           Mumbai        Mode-4   \n",
       "7418             #VALUE!  Sales-Agent-12  Other Locations        Mode-5   \n",
       "7419  sXXXXXXX@gmail.com  Sales-Agent-11        Bangalore        Mode-1   \n",
       "7420  YXXXXXXX@gmail.com   Sales-Agent-4  Other Locations        Mode-1   \n",
       "7421  cXXXXXXX@gmail.com   Sales-Agent-3          Chennai        Mode-1   \n",
       "\n",
       "                    Status  Lead  \n",
       "18               Potential  High  \n",
       "19               Potential  High  \n",
       "24               Potential  High  \n",
       "25          Not Responding   Low  \n",
       "26    In Progress Positive  High  \n",
       "...                    ...   ...  \n",
       "7417                  LOST   Low  \n",
       "7418                  LOST   Low  \n",
       "7419        Not Responding   Low  \n",
       "7420          Just Enquiry   Low  \n",
       "7421             CONVERTED  High  \n",
       "\n",
       "[7364 rows x 10 columns]"
      ]
     },
     "execution_count": 122,
     "metadata": {},
     "output_type": "execute_result"
    }
   ],
   "source": [
    "data1"
   ]
  },
  {
   "cell_type": "code",
   "execution_count": 123,
   "id": "88547739-5d17-4990-8200-4aaaf685817c",
   "metadata": {},
   "outputs": [
    {
     "data": {
      "text/html": [
       "<div>\n",
       "<style scoped>\n",
       "    .dataframe tbody tr th:only-of-type {\n",
       "        vertical-align: middle;\n",
       "    }\n",
       "\n",
       "    .dataframe tbody tr th {\n",
       "        vertical-align: top;\n",
       "    }\n",
       "\n",
       "    .dataframe thead th {\n",
       "        text-align: right;\n",
       "    }\n",
       "</style>\n",
       "<table border=\"1\" class=\"dataframe\">\n",
       "  <thead>\n",
       "    <tr style=\"text-align: right;\">\n",
       "      <th></th>\n",
       "      <th>Created</th>\n",
       "      <th>Product_ID</th>\n",
       "      <th>Source</th>\n",
       "      <th>Mobile</th>\n",
       "      <th>EMAIL</th>\n",
       "      <th>Sales_Agent</th>\n",
       "      <th>Location</th>\n",
       "      <th>Delivery_Mode</th>\n",
       "      <th>Status</th>\n",
       "      <th>Lead</th>\n",
       "    </tr>\n",
       "  </thead>\n",
       "  <tbody>\n",
       "    <tr>\n",
       "      <th>18</th>\n",
       "      <td>13112018 1851</td>\n",
       "      <td>9</td>\n",
       "      <td>Live ChatGoogle Organic</td>\n",
       "      <td>971XXXXXXX</td>\n",
       "      <td>mXXXXXXXgmailcom</td>\n",
       "      <td>SalesAgent3</td>\n",
       "      <td>Bangalore</td>\n",
       "      <td>Mode1</td>\n",
       "      <td>Potential</td>\n",
       "      <td>High</td>\n",
       "    </tr>\n",
       "    <tr>\n",
       "      <th>19</th>\n",
       "      <td>13112018 1848</td>\n",
       "      <td>19</td>\n",
       "      <td>Call</td>\n",
       "      <td>701XXXXXXX</td>\n",
       "      <td>VALUE!</td>\n",
       "      <td>SalesAgent4</td>\n",
       "      <td>Other Locations</td>\n",
       "      <td>Mode5</td>\n",
       "      <td>Potential</td>\n",
       "      <td>High</td>\n",
       "    </tr>\n",
       "    <tr>\n",
       "      <th>24</th>\n",
       "      <td>13112018 1709</td>\n",
       "      <td>18</td>\n",
       "      <td>Website</td>\n",
       "      <td>790XXXXXXX</td>\n",
       "      <td>gXXXXXXXgmailcom</td>\n",
       "      <td>SalesAgent11</td>\n",
       "      <td>Trivandrum</td>\n",
       "      <td>Mode1</td>\n",
       "      <td>Potential</td>\n",
       "      <td>High</td>\n",
       "    </tr>\n",
       "    <tr>\n",
       "      <th>25</th>\n",
       "      <td>13112018 1649</td>\n",
       "      <td>15</td>\n",
       "      <td>Website</td>\n",
       "      <td>970XXXXXXX</td>\n",
       "      <td>aXXXXXXXgmailcom</td>\n",
       "      <td>SalesAgent7</td>\n",
       "      <td>Hyderabad</td>\n",
       "      <td>Mode1</td>\n",
       "      <td>Not Responding</td>\n",
       "      <td>Low</td>\n",
       "    </tr>\n",
       "    <tr>\n",
       "      <th>26</th>\n",
       "      <td>13112018 1637</td>\n",
       "      <td>18</td>\n",
       "      <td>Call</td>\n",
       "      <td>740XXXXXXX</td>\n",
       "      <td>nXXXXXXXgmailcom</td>\n",
       "      <td>SalesAgent7</td>\n",
       "      <td>Bangalore</td>\n",
       "      <td>Mode1</td>\n",
       "      <td>In Progress Positive</td>\n",
       "      <td>High</td>\n",
       "    </tr>\n",
       "  </tbody>\n",
       "</table>\n",
       "</div>"
      ],
      "text/plain": [
       "          Created Product_ID                   Source      Mobile  \\\n",
       "18  13112018 1851          9  Live ChatGoogle Organic  971XXXXXXX   \n",
       "19  13112018 1848         19                     Call  701XXXXXXX   \n",
       "24  13112018 1709         18                  Website  790XXXXXXX   \n",
       "25  13112018 1649         15                  Website  970XXXXXXX   \n",
       "26  13112018 1637         18                     Call  740XXXXXXX   \n",
       "\n",
       "               EMAIL   Sales_Agent         Location Delivery_Mode  \\\n",
       "18  mXXXXXXXgmailcom   SalesAgent3        Bangalore         Mode1   \n",
       "19            VALUE!   SalesAgent4  Other Locations         Mode5   \n",
       "24  gXXXXXXXgmailcom  SalesAgent11       Trivandrum         Mode1   \n",
       "25  aXXXXXXXgmailcom   SalesAgent7        Hyderabad         Mode1   \n",
       "26  nXXXXXXXgmailcom   SalesAgent7        Bangalore         Mode1   \n",
       "\n",
       "                  Status  Lead  \n",
       "18             Potential  High  \n",
       "19             Potential  High  \n",
       "24             Potential  High  \n",
       "25        Not Responding   Low  \n",
       "26  In Progress Positive  High  "
      ]
     },
     "execution_count": 123,
     "metadata": {},
     "output_type": "execute_result"
    }
   ],
   "source": [
    "# Replace special character with NaN\n",
    "data1 = data1.replace('[\\£#$%&\\'()*+,-./:;<=>?@[\\\\]^_`{|}~]','',regex=True) # Remove special character\n",
    "data1.head()"
   ]
  },
  {
   "cell_type": "code",
   "execution_count": 124,
   "id": "5ebb06ef-9c76-4cb8-a5dc-65858f338132",
   "metadata": {},
   "outputs": [
    {
     "data": {
      "text/html": [
       "<div>\n",
       "<style scoped>\n",
       "    .dataframe tbody tr th:only-of-type {\n",
       "        vertical-align: middle;\n",
       "    }\n",
       "\n",
       "    .dataframe tbody tr th {\n",
       "        vertical-align: top;\n",
       "    }\n",
       "\n",
       "    .dataframe thead th {\n",
       "        text-align: right;\n",
       "    }\n",
       "</style>\n",
       "<table border=\"1\" class=\"dataframe\">\n",
       "  <thead>\n",
       "    <tr style=\"text-align: right;\">\n",
       "      <th></th>\n",
       "      <th>Created</th>\n",
       "      <th>Product_ID</th>\n",
       "      <th>Source</th>\n",
       "      <th>Mobile</th>\n",
       "      <th>EMAIL</th>\n",
       "      <th>Sales_Agent</th>\n",
       "      <th>Location</th>\n",
       "      <th>Delivery_Mode</th>\n",
       "      <th>Lead</th>\n",
       "    </tr>\n",
       "  </thead>\n",
       "  <tbody>\n",
       "    <tr>\n",
       "      <th>18</th>\n",
       "      <td>13112018 1851</td>\n",
       "      <td>9</td>\n",
       "      <td>Live ChatGoogle Organic</td>\n",
       "      <td>971XXXXXXX</td>\n",
       "      <td>mXXXXXXXgmailcom</td>\n",
       "      <td>SalesAgent3</td>\n",
       "      <td>Bangalore</td>\n",
       "      <td>Mode1</td>\n",
       "      <td>High</td>\n",
       "    </tr>\n",
       "    <tr>\n",
       "      <th>19</th>\n",
       "      <td>13112018 1848</td>\n",
       "      <td>19</td>\n",
       "      <td>Call</td>\n",
       "      <td>701XXXXXXX</td>\n",
       "      <td>VALUE!</td>\n",
       "      <td>SalesAgent4</td>\n",
       "      <td>Other Locations</td>\n",
       "      <td>Mode5</td>\n",
       "      <td>High</td>\n",
       "    </tr>\n",
       "    <tr>\n",
       "      <th>24</th>\n",
       "      <td>13112018 1709</td>\n",
       "      <td>18</td>\n",
       "      <td>Website</td>\n",
       "      <td>790XXXXXXX</td>\n",
       "      <td>gXXXXXXXgmailcom</td>\n",
       "      <td>SalesAgent11</td>\n",
       "      <td>Trivandrum</td>\n",
       "      <td>Mode1</td>\n",
       "      <td>High</td>\n",
       "    </tr>\n",
       "    <tr>\n",
       "      <th>25</th>\n",
       "      <td>13112018 1649</td>\n",
       "      <td>15</td>\n",
       "      <td>Website</td>\n",
       "      <td>970XXXXXXX</td>\n",
       "      <td>aXXXXXXXgmailcom</td>\n",
       "      <td>SalesAgent7</td>\n",
       "      <td>Hyderabad</td>\n",
       "      <td>Mode1</td>\n",
       "      <td>Low</td>\n",
       "    </tr>\n",
       "    <tr>\n",
       "      <th>26</th>\n",
       "      <td>13112018 1637</td>\n",
       "      <td>18</td>\n",
       "      <td>Call</td>\n",
       "      <td>740XXXXXXX</td>\n",
       "      <td>nXXXXXXXgmailcom</td>\n",
       "      <td>SalesAgent7</td>\n",
       "      <td>Bangalore</td>\n",
       "      <td>Mode1</td>\n",
       "      <td>High</td>\n",
       "    </tr>\n",
       "    <tr>\n",
       "      <th>...</th>\n",
       "      <td>...</td>\n",
       "      <td>...</td>\n",
       "      <td>...</td>\n",
       "      <td>...</td>\n",
       "      <td>...</td>\n",
       "      <td>...</td>\n",
       "      <td>...</td>\n",
       "      <td>...</td>\n",
       "      <td>...</td>\n",
       "    </tr>\n",
       "    <tr>\n",
       "      <th>7417</th>\n",
       "      <td>28042018 0945</td>\n",
       "      <td>9</td>\n",
       "      <td>Call</td>\n",
       "      <td>NaN</td>\n",
       "      <td>aXXXXXXXgmailcom</td>\n",
       "      <td>SalesAgent6</td>\n",
       "      <td>Mumbai</td>\n",
       "      <td>Mode4</td>\n",
       "      <td>Low</td>\n",
       "    </tr>\n",
       "    <tr>\n",
       "      <th>7418</th>\n",
       "      <td>28042018 0943</td>\n",
       "      <td>15</td>\n",
       "      <td>Call</td>\n",
       "      <td>NaN</td>\n",
       "      <td>VALUE!</td>\n",
       "      <td>SalesAgent12</td>\n",
       "      <td>Other Locations</td>\n",
       "      <td>Mode5</td>\n",
       "      <td>Low</td>\n",
       "    </tr>\n",
       "    <tr>\n",
       "      <th>7419</th>\n",
       "      <td>28042018 0920</td>\n",
       "      <td>5</td>\n",
       "      <td>Live ChatDirect</td>\n",
       "      <td>NaN</td>\n",
       "      <td>sXXXXXXXgmailcom</td>\n",
       "      <td>SalesAgent11</td>\n",
       "      <td>Bangalore</td>\n",
       "      <td>Mode1</td>\n",
       "      <td>Low</td>\n",
       "    </tr>\n",
       "    <tr>\n",
       "      <th>7420</th>\n",
       "      <td>28042018 0804</td>\n",
       "      <td>21</td>\n",
       "      <td>CRM form</td>\n",
       "      <td>NaN</td>\n",
       "      <td>YXXXXXXXgmailcom</td>\n",
       "      <td>SalesAgent4</td>\n",
       "      <td>Other Locations</td>\n",
       "      <td>Mode1</td>\n",
       "      <td>Low</td>\n",
       "    </tr>\n",
       "    <tr>\n",
       "      <th>7421</th>\n",
       "      <td>28042018 0754</td>\n",
       "      <td>25</td>\n",
       "      <td>Website</td>\n",
       "      <td>NaN</td>\n",
       "      <td>cXXXXXXXgmailcom</td>\n",
       "      <td>SalesAgent3</td>\n",
       "      <td>Chennai</td>\n",
       "      <td>Mode1</td>\n",
       "      <td>High</td>\n",
       "    </tr>\n",
       "  </tbody>\n",
       "</table>\n",
       "<p>7364 rows × 9 columns</p>\n",
       "</div>"
      ],
      "text/plain": [
       "            Created Product_ID                   Source      Mobile  \\\n",
       "18    13112018 1851          9  Live ChatGoogle Organic  971XXXXXXX   \n",
       "19    13112018 1848         19                     Call  701XXXXXXX   \n",
       "24    13112018 1709         18                  Website  790XXXXXXX   \n",
       "25    13112018 1649         15                  Website  970XXXXXXX   \n",
       "26    13112018 1637         18                     Call  740XXXXXXX   \n",
       "...             ...        ...                      ...         ...   \n",
       "7417  28042018 0945          9                     Call         NaN   \n",
       "7418  28042018 0943         15                     Call         NaN   \n",
       "7419  28042018 0920          5          Live ChatDirect         NaN   \n",
       "7420  28042018 0804         21                 CRM form         NaN   \n",
       "7421  28042018 0754         25                  Website         NaN   \n",
       "\n",
       "                 EMAIL   Sales_Agent         Location Delivery_Mode  Lead  \n",
       "18    mXXXXXXXgmailcom   SalesAgent3        Bangalore         Mode1  High  \n",
       "19              VALUE!   SalesAgent4  Other Locations         Mode5  High  \n",
       "24    gXXXXXXXgmailcom  SalesAgent11       Trivandrum         Mode1  High  \n",
       "25    aXXXXXXXgmailcom   SalesAgent7        Hyderabad         Mode1   Low  \n",
       "26    nXXXXXXXgmailcom   SalesAgent7        Bangalore         Mode1  High  \n",
       "...                ...           ...              ...           ...   ...  \n",
       "7417  aXXXXXXXgmailcom   SalesAgent6           Mumbai         Mode4   Low  \n",
       "7418            VALUE!  SalesAgent12  Other Locations         Mode5   Low  \n",
       "7419  sXXXXXXXgmailcom  SalesAgent11        Bangalore         Mode1   Low  \n",
       "7420  YXXXXXXXgmailcom   SalesAgent4  Other Locations         Mode1   Low  \n",
       "7421  cXXXXXXXgmailcom   SalesAgent3          Chennai         Mode1  High  \n",
       "\n",
       "[7364 rows x 9 columns]"
      ]
     },
     "execution_count": 124,
     "metadata": {},
     "output_type": "execute_result"
    }
   ],
   "source": [
    "#Remove Status as it is converted to Lead\n",
    "data1 = data1.drop(columns=['Status'])\n",
    "data1"
   ]
  },
  {
   "cell_type": "code",
   "execution_count": 125,
   "id": "bbc5f0e2-8854-487a-8150-cd5ec3aa1a45",
   "metadata": {},
   "outputs": [
    {
     "data": {
      "text/html": [
       "<div>\n",
       "<style scoped>\n",
       "    .dataframe tbody tr th:only-of-type {\n",
       "        vertical-align: middle;\n",
       "    }\n",
       "\n",
       "    .dataframe tbody tr th {\n",
       "        vertical-align: top;\n",
       "    }\n",
       "\n",
       "    .dataframe thead th {\n",
       "        text-align: right;\n",
       "    }\n",
       "</style>\n",
       "<table border=\"1\" class=\"dataframe\">\n",
       "  <thead>\n",
       "    <tr style=\"text-align: right;\">\n",
       "      <th></th>\n",
       "      <th>Created</th>\n",
       "      <th>Product_ID</th>\n",
       "      <th>Source</th>\n",
       "      <th>EMAIL</th>\n",
       "      <th>Sales_Agent</th>\n",
       "      <th>Location</th>\n",
       "      <th>Delivery_Mode</th>\n",
       "      <th>Lead</th>\n",
       "    </tr>\n",
       "  </thead>\n",
       "  <tbody>\n",
       "    <tr>\n",
       "      <th>18</th>\n",
       "      <td>13112018 1851</td>\n",
       "      <td>9</td>\n",
       "      <td>Live ChatGoogle Organic</td>\n",
       "      <td>mXXXXXXXgmailcom</td>\n",
       "      <td>SalesAgent3</td>\n",
       "      <td>Bangalore</td>\n",
       "      <td>Mode1</td>\n",
       "      <td>High</td>\n",
       "    </tr>\n",
       "    <tr>\n",
       "      <th>19</th>\n",
       "      <td>13112018 1848</td>\n",
       "      <td>19</td>\n",
       "      <td>Call</td>\n",
       "      <td>VALUE!</td>\n",
       "      <td>SalesAgent4</td>\n",
       "      <td>Other Locations</td>\n",
       "      <td>Mode5</td>\n",
       "      <td>High</td>\n",
       "    </tr>\n",
       "    <tr>\n",
       "      <th>24</th>\n",
       "      <td>13112018 1709</td>\n",
       "      <td>18</td>\n",
       "      <td>Website</td>\n",
       "      <td>gXXXXXXXgmailcom</td>\n",
       "      <td>SalesAgent11</td>\n",
       "      <td>Trivandrum</td>\n",
       "      <td>Mode1</td>\n",
       "      <td>High</td>\n",
       "    </tr>\n",
       "    <tr>\n",
       "      <th>25</th>\n",
       "      <td>13112018 1649</td>\n",
       "      <td>15</td>\n",
       "      <td>Website</td>\n",
       "      <td>aXXXXXXXgmailcom</td>\n",
       "      <td>SalesAgent7</td>\n",
       "      <td>Hyderabad</td>\n",
       "      <td>Mode1</td>\n",
       "      <td>Low</td>\n",
       "    </tr>\n",
       "    <tr>\n",
       "      <th>26</th>\n",
       "      <td>13112018 1637</td>\n",
       "      <td>18</td>\n",
       "      <td>Call</td>\n",
       "      <td>nXXXXXXXgmailcom</td>\n",
       "      <td>SalesAgent7</td>\n",
       "      <td>Bangalore</td>\n",
       "      <td>Mode1</td>\n",
       "      <td>High</td>\n",
       "    </tr>\n",
       "    <tr>\n",
       "      <th>...</th>\n",
       "      <td>...</td>\n",
       "      <td>...</td>\n",
       "      <td>...</td>\n",
       "      <td>...</td>\n",
       "      <td>...</td>\n",
       "      <td>...</td>\n",
       "      <td>...</td>\n",
       "      <td>...</td>\n",
       "    </tr>\n",
       "    <tr>\n",
       "      <th>7417</th>\n",
       "      <td>28042018 0945</td>\n",
       "      <td>9</td>\n",
       "      <td>Call</td>\n",
       "      <td>aXXXXXXXgmailcom</td>\n",
       "      <td>SalesAgent6</td>\n",
       "      <td>Mumbai</td>\n",
       "      <td>Mode4</td>\n",
       "      <td>Low</td>\n",
       "    </tr>\n",
       "    <tr>\n",
       "      <th>7418</th>\n",
       "      <td>28042018 0943</td>\n",
       "      <td>15</td>\n",
       "      <td>Call</td>\n",
       "      <td>VALUE!</td>\n",
       "      <td>SalesAgent12</td>\n",
       "      <td>Other Locations</td>\n",
       "      <td>Mode5</td>\n",
       "      <td>Low</td>\n",
       "    </tr>\n",
       "    <tr>\n",
       "      <th>7419</th>\n",
       "      <td>28042018 0920</td>\n",
       "      <td>5</td>\n",
       "      <td>Live ChatDirect</td>\n",
       "      <td>sXXXXXXXgmailcom</td>\n",
       "      <td>SalesAgent11</td>\n",
       "      <td>Bangalore</td>\n",
       "      <td>Mode1</td>\n",
       "      <td>Low</td>\n",
       "    </tr>\n",
       "    <tr>\n",
       "      <th>7420</th>\n",
       "      <td>28042018 0804</td>\n",
       "      <td>21</td>\n",
       "      <td>CRM form</td>\n",
       "      <td>YXXXXXXXgmailcom</td>\n",
       "      <td>SalesAgent4</td>\n",
       "      <td>Other Locations</td>\n",
       "      <td>Mode1</td>\n",
       "      <td>Low</td>\n",
       "    </tr>\n",
       "    <tr>\n",
       "      <th>7421</th>\n",
       "      <td>28042018 0754</td>\n",
       "      <td>25</td>\n",
       "      <td>Website</td>\n",
       "      <td>cXXXXXXXgmailcom</td>\n",
       "      <td>SalesAgent3</td>\n",
       "      <td>Chennai</td>\n",
       "      <td>Mode1</td>\n",
       "      <td>High</td>\n",
       "    </tr>\n",
       "  </tbody>\n",
       "</table>\n",
       "<p>7364 rows × 8 columns</p>\n",
       "</div>"
      ],
      "text/plain": [
       "            Created Product_ID                   Source             EMAIL  \\\n",
       "18    13112018 1851          9  Live ChatGoogle Organic  mXXXXXXXgmailcom   \n",
       "19    13112018 1848         19                     Call            VALUE!   \n",
       "24    13112018 1709         18                  Website  gXXXXXXXgmailcom   \n",
       "25    13112018 1649         15                  Website  aXXXXXXXgmailcom   \n",
       "26    13112018 1637         18                     Call  nXXXXXXXgmailcom   \n",
       "...             ...        ...                      ...               ...   \n",
       "7417  28042018 0945          9                     Call  aXXXXXXXgmailcom   \n",
       "7418  28042018 0943         15                     Call            VALUE!   \n",
       "7419  28042018 0920          5          Live ChatDirect  sXXXXXXXgmailcom   \n",
       "7420  28042018 0804         21                 CRM form  YXXXXXXXgmailcom   \n",
       "7421  28042018 0754         25                  Website  cXXXXXXXgmailcom   \n",
       "\n",
       "       Sales_Agent         Location Delivery_Mode  Lead  \n",
       "18     SalesAgent3        Bangalore         Mode1  High  \n",
       "19     SalesAgent4  Other Locations         Mode5  High  \n",
       "24    SalesAgent11       Trivandrum         Mode1  High  \n",
       "25     SalesAgent7        Hyderabad         Mode1   Low  \n",
       "26     SalesAgent7        Bangalore         Mode1  High  \n",
       "...            ...              ...           ...   ...  \n",
       "7417   SalesAgent6           Mumbai         Mode4   Low  \n",
       "7418  SalesAgent12  Other Locations         Mode5   Low  \n",
       "7419  SalesAgent11        Bangalore         Mode1   Low  \n",
       "7420   SalesAgent4  Other Locations         Mode1   Low  \n",
       "7421   SalesAgent3          Chennai         Mode1  High  \n",
       "\n",
       "[7364 rows x 8 columns]"
      ]
     },
     "execution_count": 125,
     "metadata": {},
     "output_type": "execute_result"
    }
   ],
   "source": [
    "# Remove mobile number as it has a lot of Missing Values\n",
    "data1 = data1.drop(columns=['Mobile'])\n",
    "data1"
   ]
  },
  {
   "cell_type": "code",
   "execution_count": 126,
   "id": "2fddf65b-3bf0-4c60-a6e6-cbbe52ead6bd",
   "metadata": {},
   "outputs": [
    {
     "data": {
      "text/plain": [
       "Created          0\n",
       "Product_ID       0\n",
       "Source           0\n",
       "EMAIL            0\n",
       "Sales_Agent      0\n",
       "Location         0\n",
       "Delivery_Mode    0\n",
       "Lead             0\n",
       "dtype: int64"
      ]
     },
     "execution_count": 126,
     "metadata": {},
     "output_type": "execute_result"
    }
   ],
   "source": [
    "data1.isnull().sum()"
   ]
  },
  {
   "cell_type": "code",
   "execution_count": 127,
   "id": "7890599b-f94c-4169-a074-a890a8d73c13",
   "metadata": {},
   "outputs": [
    {
     "data": {
      "text/plain": [
       "EMAIL\n",
       "VALUE!               1681\n",
       "sXXXXXXXgmailcom      781\n",
       "aXXXXXXXgmailcom      442\n",
       "rXXXXXXXgmailcom      338\n",
       "mXXXXXXXgmailcom      305\n",
       "                     ... \n",
       "pXXXXXXXamariscom       1\n",
       "mXXXXXXX0mailcom        1\n",
       "MXXXXXXXipapercom       1\n",
       "kXXXXXXXilevercom       1\n",
       "mXXXXXXXengiracom       1\n",
       "Name: count, Length: 870, dtype: int64"
      ]
     },
     "execution_count": 127,
     "metadata": {},
     "output_type": "execute_result"
    }
   ],
   "source": [
    "data1['EMAIL'].value_counts()"
   ]
  },
  {
   "cell_type": "code",
   "execution_count": 128,
   "id": "1bb1d155-7597-4924-946d-aec97c25d599",
   "metadata": {},
   "outputs": [
    {
     "data": {
      "text/html": [
       "<div>\n",
       "<style scoped>\n",
       "    .dataframe tbody tr th:only-of-type {\n",
       "        vertical-align: middle;\n",
       "    }\n",
       "\n",
       "    .dataframe tbody tr th {\n",
       "        vertical-align: top;\n",
       "    }\n",
       "\n",
       "    .dataframe thead th {\n",
       "        text-align: right;\n",
       "    }\n",
       "</style>\n",
       "<table border=\"1\" class=\"dataframe\">\n",
       "  <thead>\n",
       "    <tr style=\"text-align: right;\">\n",
       "      <th></th>\n",
       "      <th>Created</th>\n",
       "      <th>Product_ID</th>\n",
       "      <th>Source</th>\n",
       "      <th>Sales_Agent</th>\n",
       "      <th>Location</th>\n",
       "      <th>Delivery_Mode</th>\n",
       "      <th>Lead</th>\n",
       "    </tr>\n",
       "  </thead>\n",
       "  <tbody>\n",
       "    <tr>\n",
       "      <th>18</th>\n",
       "      <td>13112018 1851</td>\n",
       "      <td>9</td>\n",
       "      <td>Live ChatGoogle Organic</td>\n",
       "      <td>SalesAgent3</td>\n",
       "      <td>Bangalore</td>\n",
       "      <td>Mode1</td>\n",
       "      <td>High</td>\n",
       "    </tr>\n",
       "    <tr>\n",
       "      <th>19</th>\n",
       "      <td>13112018 1848</td>\n",
       "      <td>19</td>\n",
       "      <td>Call</td>\n",
       "      <td>SalesAgent4</td>\n",
       "      <td>Other Locations</td>\n",
       "      <td>Mode5</td>\n",
       "      <td>High</td>\n",
       "    </tr>\n",
       "    <tr>\n",
       "      <th>24</th>\n",
       "      <td>13112018 1709</td>\n",
       "      <td>18</td>\n",
       "      <td>Website</td>\n",
       "      <td>SalesAgent11</td>\n",
       "      <td>Trivandrum</td>\n",
       "      <td>Mode1</td>\n",
       "      <td>High</td>\n",
       "    </tr>\n",
       "    <tr>\n",
       "      <th>25</th>\n",
       "      <td>13112018 1649</td>\n",
       "      <td>15</td>\n",
       "      <td>Website</td>\n",
       "      <td>SalesAgent7</td>\n",
       "      <td>Hyderabad</td>\n",
       "      <td>Mode1</td>\n",
       "      <td>Low</td>\n",
       "    </tr>\n",
       "    <tr>\n",
       "      <th>26</th>\n",
       "      <td>13112018 1637</td>\n",
       "      <td>18</td>\n",
       "      <td>Call</td>\n",
       "      <td>SalesAgent7</td>\n",
       "      <td>Bangalore</td>\n",
       "      <td>Mode1</td>\n",
       "      <td>High</td>\n",
       "    </tr>\n",
       "    <tr>\n",
       "      <th>...</th>\n",
       "      <td>...</td>\n",
       "      <td>...</td>\n",
       "      <td>...</td>\n",
       "      <td>...</td>\n",
       "      <td>...</td>\n",
       "      <td>...</td>\n",
       "      <td>...</td>\n",
       "    </tr>\n",
       "    <tr>\n",
       "      <th>7417</th>\n",
       "      <td>28042018 0945</td>\n",
       "      <td>9</td>\n",
       "      <td>Call</td>\n",
       "      <td>SalesAgent6</td>\n",
       "      <td>Mumbai</td>\n",
       "      <td>Mode4</td>\n",
       "      <td>Low</td>\n",
       "    </tr>\n",
       "    <tr>\n",
       "      <th>7418</th>\n",
       "      <td>28042018 0943</td>\n",
       "      <td>15</td>\n",
       "      <td>Call</td>\n",
       "      <td>SalesAgent12</td>\n",
       "      <td>Other Locations</td>\n",
       "      <td>Mode5</td>\n",
       "      <td>Low</td>\n",
       "    </tr>\n",
       "    <tr>\n",
       "      <th>7419</th>\n",
       "      <td>28042018 0920</td>\n",
       "      <td>5</td>\n",
       "      <td>Live ChatDirect</td>\n",
       "      <td>SalesAgent11</td>\n",
       "      <td>Bangalore</td>\n",
       "      <td>Mode1</td>\n",
       "      <td>Low</td>\n",
       "    </tr>\n",
       "    <tr>\n",
       "      <th>7420</th>\n",
       "      <td>28042018 0804</td>\n",
       "      <td>21</td>\n",
       "      <td>CRM form</td>\n",
       "      <td>SalesAgent4</td>\n",
       "      <td>Other Locations</td>\n",
       "      <td>Mode1</td>\n",
       "      <td>Low</td>\n",
       "    </tr>\n",
       "    <tr>\n",
       "      <th>7421</th>\n",
       "      <td>28042018 0754</td>\n",
       "      <td>25</td>\n",
       "      <td>Website</td>\n",
       "      <td>SalesAgent3</td>\n",
       "      <td>Chennai</td>\n",
       "      <td>Mode1</td>\n",
       "      <td>High</td>\n",
       "    </tr>\n",
       "  </tbody>\n",
       "</table>\n",
       "<p>7364 rows × 7 columns</p>\n",
       "</div>"
      ],
      "text/plain": [
       "            Created Product_ID                   Source   Sales_Agent  \\\n",
       "18    13112018 1851          9  Live ChatGoogle Organic   SalesAgent3   \n",
       "19    13112018 1848         19                     Call   SalesAgent4   \n",
       "24    13112018 1709         18                  Website  SalesAgent11   \n",
       "25    13112018 1649         15                  Website   SalesAgent7   \n",
       "26    13112018 1637         18                     Call   SalesAgent7   \n",
       "...             ...        ...                      ...           ...   \n",
       "7417  28042018 0945          9                     Call   SalesAgent6   \n",
       "7418  28042018 0943         15                     Call  SalesAgent12   \n",
       "7419  28042018 0920          5          Live ChatDirect  SalesAgent11   \n",
       "7420  28042018 0804         21                 CRM form   SalesAgent4   \n",
       "7421  28042018 0754         25                  Website   SalesAgent3   \n",
       "\n",
       "             Location Delivery_Mode  Lead  \n",
       "18          Bangalore         Mode1  High  \n",
       "19    Other Locations         Mode5  High  \n",
       "24         Trivandrum         Mode1  High  \n",
       "25          Hyderabad         Mode1   Low  \n",
       "26          Bangalore         Mode1  High  \n",
       "...               ...           ...   ...  \n",
       "7417           Mumbai         Mode4   Low  \n",
       "7418  Other Locations         Mode5   Low  \n",
       "7419        Bangalore         Mode1   Low  \n",
       "7420  Other Locations         Mode1   Low  \n",
       "7421          Chennai         Mode1  High  \n",
       "\n",
       "[7364 rows x 7 columns]"
      ]
     },
     "execution_count": 128,
     "metadata": {},
     "output_type": "execute_result"
    }
   ],
   "source": [
    "# Remove EMAIL as it has a lot of invalid values in it.\n",
    "data1 = data1.drop(columns=['EMAIL'])\n",
    "data1"
   ]
  },
  {
   "cell_type": "code",
   "execution_count": 129,
   "id": "792c4d91-509a-4ca8-8d8e-85af469580d7",
   "metadata": {},
   "outputs": [
    {
     "data": {
      "text/html": [
       "<div>\n",
       "<style scoped>\n",
       "    .dataframe tbody tr th:only-of-type {\n",
       "        vertical-align: middle;\n",
       "    }\n",
       "\n",
       "    .dataframe tbody tr th {\n",
       "        vertical-align: top;\n",
       "    }\n",
       "\n",
       "    .dataframe thead th {\n",
       "        text-align: right;\n",
       "    }\n",
       "</style>\n",
       "<table border=\"1\" class=\"dataframe\">\n",
       "  <thead>\n",
       "    <tr style=\"text-align: right;\">\n",
       "      <th></th>\n",
       "      <th>Created</th>\n",
       "      <th>Product_ID</th>\n",
       "      <th>Source</th>\n",
       "      <th>Sales_Agent</th>\n",
       "      <th>Location</th>\n",
       "      <th>Delivery_Mode</th>\n",
       "      <th>Lead</th>\n",
       "    </tr>\n",
       "  </thead>\n",
       "  <tbody>\n",
       "    <tr>\n",
       "      <th>18</th>\n",
       "      <td>13112018 1851</td>\n",
       "      <td>9</td>\n",
       "      <td>Live ChatGoogle Organic</td>\n",
       "      <td>SalesAgent3</td>\n",
       "      <td>Bangalore</td>\n",
       "      <td>Mode1</td>\n",
       "      <td>High</td>\n",
       "    </tr>\n",
       "    <tr>\n",
       "      <th>19</th>\n",
       "      <td>13112018 1848</td>\n",
       "      <td>19</td>\n",
       "      <td>Call</td>\n",
       "      <td>SalesAgent4</td>\n",
       "      <td>Other Locations</td>\n",
       "      <td>Mode5</td>\n",
       "      <td>High</td>\n",
       "    </tr>\n",
       "    <tr>\n",
       "      <th>24</th>\n",
       "      <td>13112018 1709</td>\n",
       "      <td>18</td>\n",
       "      <td>Website</td>\n",
       "      <td>SalesAgent11</td>\n",
       "      <td>Trivandrum</td>\n",
       "      <td>Mode1</td>\n",
       "      <td>High</td>\n",
       "    </tr>\n",
       "    <tr>\n",
       "      <th>25</th>\n",
       "      <td>13112018 1649</td>\n",
       "      <td>15</td>\n",
       "      <td>Website</td>\n",
       "      <td>SalesAgent7</td>\n",
       "      <td>Hyderabad</td>\n",
       "      <td>Mode1</td>\n",
       "      <td>Low</td>\n",
       "    </tr>\n",
       "    <tr>\n",
       "      <th>26</th>\n",
       "      <td>13112018 1637</td>\n",
       "      <td>18</td>\n",
       "      <td>Call</td>\n",
       "      <td>SalesAgent7</td>\n",
       "      <td>Bangalore</td>\n",
       "      <td>Mode1</td>\n",
       "      <td>High</td>\n",
       "    </tr>\n",
       "    <tr>\n",
       "      <th>...</th>\n",
       "      <td>...</td>\n",
       "      <td>...</td>\n",
       "      <td>...</td>\n",
       "      <td>...</td>\n",
       "      <td>...</td>\n",
       "      <td>...</td>\n",
       "      <td>...</td>\n",
       "    </tr>\n",
       "    <tr>\n",
       "      <th>7417</th>\n",
       "      <td>28042018 0945</td>\n",
       "      <td>9</td>\n",
       "      <td>Call</td>\n",
       "      <td>SalesAgent6</td>\n",
       "      <td>Mumbai</td>\n",
       "      <td>Mode4</td>\n",
       "      <td>Low</td>\n",
       "    </tr>\n",
       "    <tr>\n",
       "      <th>7418</th>\n",
       "      <td>28042018 0943</td>\n",
       "      <td>15</td>\n",
       "      <td>Call</td>\n",
       "      <td>SalesAgent12</td>\n",
       "      <td>Other Locations</td>\n",
       "      <td>Mode5</td>\n",
       "      <td>Low</td>\n",
       "    </tr>\n",
       "    <tr>\n",
       "      <th>7419</th>\n",
       "      <td>28042018 0920</td>\n",
       "      <td>5</td>\n",
       "      <td>Live ChatDirect</td>\n",
       "      <td>SalesAgent11</td>\n",
       "      <td>Bangalore</td>\n",
       "      <td>Mode1</td>\n",
       "      <td>Low</td>\n",
       "    </tr>\n",
       "    <tr>\n",
       "      <th>7420</th>\n",
       "      <td>28042018 0804</td>\n",
       "      <td>21</td>\n",
       "      <td>CRM form</td>\n",
       "      <td>SalesAgent4</td>\n",
       "      <td>Other Locations</td>\n",
       "      <td>Mode1</td>\n",
       "      <td>Low</td>\n",
       "    </tr>\n",
       "    <tr>\n",
       "      <th>7421</th>\n",
       "      <td>28042018 0754</td>\n",
       "      <td>25</td>\n",
       "      <td>Website</td>\n",
       "      <td>SalesAgent3</td>\n",
       "      <td>Chennai</td>\n",
       "      <td>Mode1</td>\n",
       "      <td>High</td>\n",
       "    </tr>\n",
       "  </tbody>\n",
       "</table>\n",
       "<p>7364 rows × 7 columns</p>\n",
       "</div>"
      ],
      "text/plain": [
       "            Created Product_ID                   Source   Sales_Agent  \\\n",
       "18    13112018 1851          9  Live ChatGoogle Organic   SalesAgent3   \n",
       "19    13112018 1848         19                     Call   SalesAgent4   \n",
       "24    13112018 1709         18                  Website  SalesAgent11   \n",
       "25    13112018 1649         15                  Website   SalesAgent7   \n",
       "26    13112018 1637         18                     Call   SalesAgent7   \n",
       "...             ...        ...                      ...           ...   \n",
       "7417  28042018 0945          9                     Call   SalesAgent6   \n",
       "7418  28042018 0943         15                     Call  SalesAgent12   \n",
       "7419  28042018 0920          5          Live ChatDirect  SalesAgent11   \n",
       "7420  28042018 0804         21                 CRM form   SalesAgent4   \n",
       "7421  28042018 0754         25                  Website   SalesAgent3   \n",
       "\n",
       "             Location Delivery_Mode  Lead  \n",
       "18          Bangalore         Mode1  High  \n",
       "19    Other Locations         Mode5  High  \n",
       "24         Trivandrum         Mode1  High  \n",
       "25          Hyderabad         Mode1   Low  \n",
       "26          Bangalore         Mode1  High  \n",
       "...               ...           ...   ...  \n",
       "7417           Mumbai         Mode4   Low  \n",
       "7418  Other Locations         Mode5   Low  \n",
       "7419        Bangalore         Mode1   Low  \n",
       "7420  Other Locations         Mode1   Low  \n",
       "7421          Chennai         Mode1  High  \n",
       "\n",
       "[7364 rows x 7 columns]"
      ]
     },
     "execution_count": 129,
     "metadata": {},
     "output_type": "execute_result"
    }
   ],
   "source": [
    "data1"
   ]
  },
  {
   "cell_type": "markdown",
   "id": "7fb6b53a-06a9-4349-ad10-9c843a1775fc",
   "metadata": {},
   "source": [
    "#### Source have many distinct categories so they can be classified into main categories"
   ]
  },
  {
   "cell_type": "code",
   "execution_count": 131,
   "id": "79f0603e-504e-42e3-8376-af4a37ea97cb",
   "metadata": {},
   "outputs": [],
   "source": [
    "LiveChat= {'Live ChatDirect': 'Live chat',\n",
    "    'Live ChatGoogle Organic': 'Live chat',\n",
    "    'Live Chat PPC': 'Live chat',\n",
    "    'Live ChatBlog': 'Live chat',\n",
    "    'Live ChatCPC': 'Live chat',\n",
    "    'Live ChatGoogle Ads': 'Live chat',\n",
    "    'Live ChatAdwords Remarketing': 'Live chat',\n",
    "    'Live ChatQuora': 'Live chat',\n",
    "    'Live ChatYoutube': 'Live chat',\n",
    "    'Live ChatJustdial': 'Live chat'\n",
    "}\n",
    "data1['Source'].replace(LiveChat, inplace= True)"
   ]
  },
  {
   "cell_type": "code",
   "execution_count": 132,
   "id": "fb73972a-685e-48e2-aa0d-a98d1f79ccba",
   "metadata": {},
   "outputs": [
    {
     "data": {
      "text/plain": [
       "Source\n",
       "Live chat            2675\n",
       "Call                 2552\n",
       "Website              1554\n",
       "Customer Referral     180\n",
       "US Website            133\n",
       "Just Dial              56\n",
       "Existing Client        51\n",
       "Personal Contact       50\n",
       "By Recommendation      32\n",
       "CRM form               23\n",
       "Existing Customer      22\n",
       "Campaign               19\n",
       "Email Campaign         12\n",
       "Other                   2\n",
       "SMS Campaign            2\n",
       "EMail Message           1\n",
       "Name: count, dtype: int64"
      ]
     },
     "execution_count": 132,
     "metadata": {},
     "output_type": "execute_result"
    }
   ],
   "source": [
    "data1['Source'].value_counts()"
   ]
  },
  {
   "cell_type": "code",
   "execution_count": 133,
   "id": "488a27a5-b6da-4a51-8793-25cab2fc406c",
   "metadata": {},
   "outputs": [
    {
     "data": {
      "text/plain": [
       "Source\n",
       "Live chat            2675\n",
       "Call                 2552\n",
       "Website              1554\n",
       "Customer Referral     180\n",
       "New client            146\n",
       "US Website            133\n",
       "Just Dial              56\n",
       "By Recommendation      32\n",
       "Campaign               19\n",
       "Email Campaign         12\n",
       "Other                   2\n",
       "SMS Campaign            2\n",
       "EMail Message           1\n",
       "Name: count, dtype: int64"
      ]
     },
     "execution_count": 133,
     "metadata": {},
     "output_type": "execute_result"
    }
   ],
   "source": [
    "replace_NC = ['Existing Client', 'Personal Contact', 'CRM form', 'Existing Customer']\n",
    "data1['Source'] = data1['Source'].apply(lambda x: 'New client' if x in replace_NC else x)\n",
    "data1['Source'].value_counts()"
   ]
  },
  {
   "cell_type": "code",
   "execution_count": 134,
   "id": "df8c0d94-4019-4f13-9c72-6608e12efc35",
   "metadata": {
    "scrolled": true
   },
   "outputs": [
    {
     "data": {
      "text/plain": [
       "Source\n",
       "Live chat            2675\n",
       "Call                 2552\n",
       "Website              1554\n",
       "Social                189\n",
       "Customer Referral     180\n",
       "New client            146\n",
       "By Recommendation      32\n",
       "Campaign               19\n",
       "Email Campaign         12\n",
       "Other                   2\n",
       "SMS Campaign            2\n",
       "EMail Message           1\n",
       "Name: count, dtype: int64"
      ]
     },
     "execution_count": 134,
     "metadata": {},
     "output_type": "execute_result"
    }
   ],
   "source": [
    "replace_Soc = ['US Website', 'Just Dial']\n",
    "data1['Source'] = data1['Source'].apply(lambda x: 'Social' if x in replace_Soc else x)\n",
    "data1['Source'].value_counts()"
   ]
  },
  {
   "cell_type": "code",
   "execution_count": 135,
   "id": "e0f5e1e6-1542-4a30-957f-94f74a7b283b",
   "metadata": {},
   "outputs": [
    {
     "data": {
      "text/plain": [
       "Source\n",
       "Live chat         2675\n",
       "Call              2552\n",
       "Website           1554\n",
       "Recommendation     212\n",
       "Social             189\n",
       "New client         146\n",
       "Campaign            19\n",
       "Email Campaign      12\n",
       "Other                2\n",
       "SMS Campaign         2\n",
       "EMail Message        1\n",
       "Name: count, dtype: int64"
      ]
     },
     "execution_count": 135,
     "metadata": {},
     "output_type": "execute_result"
    }
   ],
   "source": [
    "replace_recom = ['Customer Referral', 'By Recommendation','']\n",
    "data1['Source'] = data1['Source'].apply(lambda x: 'Recommendation' if x in replace_recom else x)\n",
    "data1['Source'].value_counts()"
   ]
  },
  {
   "cell_type": "code",
   "execution_count": 136,
   "id": "53b48d43-b567-4d84-9b21-7d37aeaea5b2",
   "metadata": {},
   "outputs": [
    {
     "data": {
      "text/plain": [
       "Source\n",
       "Live chat         2675\n",
       "Call              2552\n",
       "Website           1554\n",
       "Recommendation     212\n",
       "Social             189\n",
       "New client         146\n",
       "Campaign            36\n",
       "Name: count, dtype: int64"
      ]
     },
     "execution_count": 136,
     "metadata": {},
     "output_type": "execute_result"
    }
   ],
   "source": [
    "replace_cam = ['Campaign', 'Email Campaign', 'SMS Campaign','Other','EMail Message']\n",
    "data1['Source'] = data1['Source'].apply(lambda x: 'Campaign' if x in replace_cam else x)\n",
    "data1['Source'].value_counts()"
   ]
  },
  {
   "cell_type": "markdown",
   "id": "2ac337f1-bee7-4568-bab7-5cca8a716905",
   "metadata": {},
   "source": [
    "#### Location have many distinct categories so they can be classified into main regions"
   ]
  },
  {
   "cell_type": "code",
   "execution_count": 138,
   "id": "3da1b356-1037-43d2-b69c-80442f2fe984",
   "metadata": {},
   "outputs": [
    {
     "data": {
      "text/plain": [
       "Location\n",
       "Other Locations    2502\n",
       "Bangalore          2084\n",
       "Chennai             909\n",
       "Hyderabad           528\n",
       "Delhi               471\n",
       "Mumbai              401\n",
       "Pune                142\n",
       "UAE                  78\n",
       "Trivandrum           58\n",
       "Kolkata              55\n",
       "USA                  45\n",
       "UK                   41\n",
       "AUSTRALIA            25\n",
       "Singapore            17\n",
       "Malaysia              4\n",
       "EUROPE                3\n",
       "Howrah                1\n",
       "Name: count, dtype: int64"
      ]
     },
     "execution_count": 138,
     "metadata": {},
     "output_type": "execute_result"
    }
   ],
   "source": [
    "data1['Location'].value_counts()"
   ]
  },
  {
   "cell_type": "code",
   "execution_count": 139,
   "id": "4cd6a9c4-2ee7-4429-bf1e-b4190f2abe18",
   "metadata": {},
   "outputs": [
    {
     "data": {
      "text/plain": [
       "Location\n",
       "Other Locations      2502\n",
       "Bangalore            2084\n",
       "Chennai               909\n",
       "Hyderabad             528\n",
       "Delhi                 471\n",
       "Mumbai                401\n",
       "Pune                  142\n",
       "Western countries     114\n",
       "UAE                    78\n",
       "Trivandrum             58\n",
       "Kolkata                55\n",
       "Singapore              17\n",
       "Malaysia                4\n",
       "Howrah                  1\n",
       "Name: count, dtype: int64"
      ]
     },
     "execution_count": 139,
     "metadata": {},
     "output_type": "execute_result"
    }
   ],
   "source": [
    "data1.Location.replace(['USA','UK','AUSTRALIA','EUROPE'],'Western countries',inplace=True)\n",
    "data1['Location'].value_counts()"
   ]
  },
  {
   "cell_type": "code",
   "execution_count": 140,
   "id": "ff948bce-8b9a-413d-bd84-039c05258e5a",
   "metadata": {
    "scrolled": true
   },
   "outputs": [
    {
     "data": {
      "text/plain": [
       "Location\n",
       "Other Locations      2502\n",
       "Bangalore            2084\n",
       "Chennai               909\n",
       "Hyderabad             528\n",
       "Delhi                 471\n",
       "Mumbai                401\n",
       "Pune                  142\n",
       "Western countries     114\n",
       "Asia                   99\n",
       "Trivandrum             58\n",
       "Kolkata                55\n",
       "Howrah                  1\n",
       "Name: count, dtype: int64"
      ]
     },
     "execution_count": 140,
     "metadata": {},
     "output_type": "execute_result"
    }
   ],
   "source": [
    "data1.Location.replace(['UAE','Singapore','Malaysia'],'Asia',inplace=True)\n",
    "data1['Location'].value_counts()"
   ]
  },
  {
   "cell_type": "code",
   "execution_count": 141,
   "id": "9ad150ac-4fdd-488e-a7a8-b076915831c8",
   "metadata": {},
   "outputs": [
    {
     "data": {
      "text/plain": [
       "Location\n",
       "Other Locations      2502\n",
       "Bangalore            2084\n",
       "North India          1070\n",
       "Chennai               909\n",
       "Hyderabad             528\n",
       "Western countries     114\n",
       "Asia                   99\n",
       "Trivandrum             58\n",
       "Name: count, dtype: int64"
      ]
     },
     "execution_count": 141,
     "metadata": {},
     "output_type": "execute_result"
    }
   ],
   "source": [
    "data1.Location.replace(['Delhi','Mumbai','Pune','Kolkata','Howrah'],'North India',inplace=True)\n",
    "data1['Location'].value_counts()"
   ]
  },
  {
   "cell_type": "code",
   "execution_count": 142,
   "id": "a2b19ec2-4205-4e12-93d5-98070f041678",
   "metadata": {},
   "outputs": [
    {
     "data": {
      "text/plain": [
       "Location\n",
       "Other Locations      2502\n",
       "Bangalore            2084\n",
       "South India          1495\n",
       "North India          1070\n",
       "Western countries     114\n",
       "Asia                   99\n",
       "Name: count, dtype: int64"
      ]
     },
     "execution_count": 142,
     "metadata": {},
     "output_type": "execute_result"
    }
   ],
   "source": [
    "data1.Location.replace(['Hyderabad','Chennai','Trivandrum',''],'South India',inplace=True)\n",
    "data1['Location'].value_counts()"
   ]
  },
  {
   "cell_type": "markdown",
   "id": "13910726-41ee-4bd0-a6bc-873398072e93",
   "metadata": {},
   "source": [
    "#### Since Bangalore has a high count It is not merged."
   ]
  },
  {
   "cell_type": "markdown",
   "id": "4167e2ae-723f-4788-8529-6d4771ed6fdf",
   "metadata": {},
   "source": [
    "## Handling Categorical Data"
   ]
  },
  {
   "cell_type": "code",
   "execution_count": 145,
   "id": "640f5956-da68-44a5-941a-d4bb4d82f26f",
   "metadata": {},
   "outputs": [
    {
     "name": "stdout",
     "output_type": "stream",
     "text": [
      "<class 'pandas.core.frame.DataFrame'>\n",
      "Index: 7364 entries, 18 to 7421\n",
      "Data columns (total 7 columns):\n",
      " #   Column         Non-Null Count  Dtype \n",
      "---  ------         --------------  ----- \n",
      " 0   Created        7364 non-null   object\n",
      " 1   Product_ID     7364 non-null   object\n",
      " 2   Source         7364 non-null   object\n",
      " 3   Sales_Agent    7364 non-null   object\n",
      " 4   Location       7364 non-null   object\n",
      " 5   Delivery_Mode  7364 non-null   object\n",
      " 6   Lead           7364 non-null   object\n",
      "dtypes: object(7)\n",
      "memory usage: 460.2+ KB\n"
     ]
    }
   ],
   "source": [
    "data1.info()"
   ]
  },
  {
   "cell_type": "markdown",
   "id": "7731e9d8-fe70-4a7a-9b05-6bf0d652d46e",
   "metadata": {},
   "source": [
    "#### Source"
   ]
  },
  {
   "cell_type": "code",
   "execution_count": 147,
   "id": "e9951123-82c5-495f-9a5a-5ba8d5b3430b",
   "metadata": {},
   "outputs": [
    {
     "data": {
      "text/plain": [
       "Source\n",
       "0    2675\n",
       "1    2552\n",
       "2    1554\n",
       "3     212\n",
       "4     189\n",
       "5     146\n",
       "6      36\n",
       "Name: count, dtype: int64"
      ]
     },
     "execution_count": 147,
     "metadata": {},
     "output_type": "execute_result"
    }
   ],
   "source": [
    "data1.loc[data1['Source']=='Live chat','Source']=0\n",
    "data1.loc[data1['Source']=='Call','Source']=1\n",
    "data1.loc[data1['Source']=='Website','Source']=2\n",
    "data1.loc[data1['Source']=='Recommendation','Source']=3\n",
    "data1.loc[data1['Source']=='Social','Source']=4\n",
    "data1.loc[data1['Source']=='New client','Source']=5\n",
    "data1.loc[data1['Source']=='Campaign','Source']=6\n",
    "data1['Source'].value_counts()"
   ]
  },
  {
   "cell_type": "markdown",
   "id": "1fd035f0-e496-45bd-9cc9-34dc2be37173",
   "metadata": {},
   "source": [
    "#### Sales_Agent"
   ]
  },
  {
   "cell_type": "code",
   "execution_count": 149,
   "id": "df9bfa5a-397a-48e6-aa65-9358c22ced71",
   "metadata": {},
   "outputs": [
    {
     "data": {
      "text/plain": [
       "Sales_Agent\n",
       "3     1521\n",
       "10    1417\n",
       "4     1186\n",
       "8      878\n",
       "2      781\n",
       "6      736\n",
       "1      389\n",
       "11     269\n",
       "5      114\n",
       "7       68\n",
       "9        5\n",
       "Name: count, dtype: int64"
      ]
     },
     "execution_count": 149,
     "metadata": {},
     "output_type": "execute_result"
    }
   ],
   "source": [
    "data1.loc[data1['Sales_Agent']=='SalesAgent1','Sales_Agent']=0\n",
    "data1.loc[data1['Sales_Agent']=='SalesAgent2','Sales_Agent']=1\n",
    "data1.loc[data1['Sales_Agent']=='SalesAgent3','Sales_Agent']=2\n",
    "data1.loc[data1['Sales_Agent']=='SalesAgent4','Sales_Agent']=3\n",
    "data1.loc[data1['Sales_Agent']=='SalesAgent5','Sales_Agent']=4\n",
    "data1.loc[data1['Sales_Agent']=='SalesAgent6','Sales_Agent']=5\n",
    "data1.loc[data1['Sales_Agent']=='SalesAgent7','Sales_Agent']=6\n",
    "data1.loc[data1['Sales_Agent']=='SalesAgent8','Sales_Agent']=7\n",
    "data1.loc[data1['Sales_Agent']=='SalesAgent9','Sales_Agent']=8\n",
    "data1.loc[data1['Sales_Agent']=='SalesAgent10','Sales_Agent']=9\n",
    "data1.loc[data1['Sales_Agent']=='SalesAgent11','Sales_Agent']=10\n",
    "data1.loc[data1['Sales_Agent']=='SalesAgent12','Sales_Agent']=11\n",
    "data1['Sales_Agent'].value_counts()"
   ]
  },
  {
   "cell_type": "markdown",
   "id": "0a782319-12ff-4fc6-829c-f09bc70d2c3e",
   "metadata": {},
   "source": [
    "#### Location"
   ]
  },
  {
   "cell_type": "code",
   "execution_count": 151,
   "id": "bc757369-e615-4ccb-811a-d79e5f56667a",
   "metadata": {},
   "outputs": [
    {
     "data": {
      "text/plain": [
       "Location\n",
       "5    2502\n",
       "4    2084\n",
       "3    1495\n",
       "2    1070\n",
       "1     114\n",
       "0      99\n",
       "Name: count, dtype: int64"
      ]
     },
     "execution_count": 151,
     "metadata": {},
     "output_type": "execute_result"
    }
   ],
   "source": [
    "data1.loc[data1['Location']=='Other Locations','Location']=5\n",
    "data1.loc[data1['Location']=='Bangalore','Location']=4\n",
    "data1.loc[data1['Location']=='South India','Location']=3\n",
    "data1.loc[data1['Location']=='North India','Location']=2\n",
    "data1.loc[data1['Location']=='Western countries','Location']=1\n",
    "data1.loc[data1['Location']=='Asia','Location']=0\n",
    "data1['Location'].value_counts()"
   ]
  },
  {
   "cell_type": "markdown",
   "id": "3193ad51-8a63-4120-ade0-cd5309b8dcd4",
   "metadata": {},
   "source": [
    "#### Delivery Mode"
   ]
  },
  {
   "cell_type": "code",
   "execution_count": 153,
   "id": "e2362376-ca6e-4fe5-9cd7-ed8c19fc943c",
   "metadata": {},
   "outputs": [
    {
     "data": {
      "text/plain": [
       "Delivery_Mode\n",
       "4    2920\n",
       "3    2627\n",
       "2    1685\n",
       "1     121\n",
       "0      11\n",
       "Name: count, dtype: int64"
      ]
     },
     "execution_count": 153,
     "metadata": {},
     "output_type": "execute_result"
    }
   ],
   "source": [
    "data1.loc[data1['Delivery_Mode'] == 'Mode5','Delivery_Mode']=4\n",
    "data1.loc[data1['Delivery_Mode'] == 'Mode1','Delivery_Mode']=3\n",
    "data1.loc[data1['Delivery_Mode'] == 'Mode3','Delivery_Mode']=2\n",
    "data1.loc[data1['Delivery_Mode'] == 'Mode4','Delivery_Mode']=1\n",
    "data1.loc[data1['Delivery_Mode'] == 'Mode2','Delivery_Mode']=0\n",
    "data1['Delivery_Mode'].value_counts()"
   ]
  },
  {
   "cell_type": "markdown",
   "id": "ed3ebcc9-161c-47c3-87a7-4b421faccc76",
   "metadata": {},
   "source": [
    "#### Lead"
   ]
  },
  {
   "cell_type": "code",
   "execution_count": 155,
   "id": "0431e1a3-1dee-44da-922f-099d3e17241c",
   "metadata": {},
   "outputs": [
    {
     "data": {
      "text/plain": [
       "Lead\n",
       "Low     5162\n",
       "High    2202\n",
       "Name: count, dtype: int64"
      ]
     },
     "execution_count": 155,
     "metadata": {},
     "output_type": "execute_result"
    }
   ],
   "source": [
    "data1.loc[data1['Lead']=='low','Lead']=1\n",
    "data1.loc[data1['Lead']=='high','Lead']=0\n",
    "data1['Lead'].value_counts()"
   ]
  },
  {
   "cell_type": "code",
   "execution_count": 156,
   "id": "816383c3-d93e-4db7-b3fd-2f44585eba85",
   "metadata": {},
   "outputs": [
    {
     "data": {
      "text/plain": [
       "Lead\n",
       "1    5162\n",
       "0    2202\n",
       "Name: count, dtype: int64"
      ]
     },
     "execution_count": 156,
     "metadata": {},
     "output_type": "execute_result"
    }
   ],
   "source": [
    "data1['Lead'] = data1['Lead'].map({'High': 0, 'Low': 1})\n",
    "data1['Lead'].value_counts()"
   ]
  },
  {
   "cell_type": "code",
   "execution_count": 157,
   "id": "6a1a07dd-a91e-4c92-b9dd-cf94059dedfc",
   "metadata": {
    "jp-MarkdownHeadingCollapsed": true
   },
   "outputs": [
    {
     "name": "stdout",
     "output_type": "stream",
     "text": [
      "<class 'pandas.core.frame.DataFrame'>\n",
      "Index: 7364 entries, 18 to 7421\n",
      "Data columns (total 6 columns):\n",
      " #   Column         Non-Null Count  Dtype \n",
      "---  ------         --------------  ----- \n",
      " 0   Product_ID     7364 non-null   object\n",
      " 1   Source         7364 non-null   object\n",
      " 2   Sales_Agent    7364 non-null   object\n",
      " 3   Location       7364 non-null   object\n",
      " 4   Delivery_Mode  7364 non-null   object\n",
      " 5   Lead           7364 non-null   int64 \n",
      "dtypes: int64(1), object(5)\n",
      "memory usage: 402.7+ KB\n"
     ]
    }
   ],
   "source": [
    "# The Created column does not contribute useful information for model training.so it can be removed\n",
    "data1.drop(['Created'],axis=1,inplace=True)\n",
    "data1.info()"
   ]
  },
  {
   "cell_type": "code",
   "execution_count": 158,
   "id": "02109c6e-6030-4300-abcb-553989c97136",
   "metadata": {},
   "outputs": [],
   "source": [
    "data1 = data1.astype('int64', errors='ignore')"
   ]
  },
  {
   "cell_type": "code",
   "execution_count": 159,
   "id": "92c428a6-5f3f-4a3f-b013-4bd6985e0d96",
   "metadata": {},
   "outputs": [
    {
     "name": "stdout",
     "output_type": "stream",
     "text": [
      "Product_ID       int64\n",
      "Source           int64\n",
      "Sales_Agent      int64\n",
      "Location         int64\n",
      "Delivery_Mode    int64\n",
      "Lead             int64\n",
      "dtype: object\n"
     ]
    }
   ],
   "source": [
    "cols_to_convert = ['Product_ID','Lead']  # Replace with actual column names\n",
    "data1[cols_to_convert] = data1[cols_to_convert].astype('int64')\n",
    "print(data1.dtypes)"
   ]
  },
  {
   "cell_type": "markdown",
   "id": "a05d4dc2-6d5e-4e81-8ab9-c83490e53a01",
   "metadata": {},
   "source": [
    "#### Checking Correlation"
   ]
  },
  {
   "cell_type": "code",
   "execution_count": 161,
   "id": "4ea6a889-1a25-4ca5-aab1-de38d5fbd1e1",
   "metadata": {},
   "outputs": [
    {
     "data": {
      "text/html": [
       "<div>\n",
       "<style scoped>\n",
       "    .dataframe tbody tr th:only-of-type {\n",
       "        vertical-align: middle;\n",
       "    }\n",
       "\n",
       "    .dataframe tbody tr th {\n",
       "        vertical-align: top;\n",
       "    }\n",
       "\n",
       "    .dataframe thead th {\n",
       "        text-align: right;\n",
       "    }\n",
       "</style>\n",
       "<table border=\"1\" class=\"dataframe\">\n",
       "  <thead>\n",
       "    <tr style=\"text-align: right;\">\n",
       "      <th></th>\n",
       "      <th>Product_ID</th>\n",
       "      <th>Source</th>\n",
       "      <th>Sales_Agent</th>\n",
       "      <th>Location</th>\n",
       "      <th>Delivery_Mode</th>\n",
       "      <th>Lead</th>\n",
       "    </tr>\n",
       "  </thead>\n",
       "  <tbody>\n",
       "    <tr>\n",
       "      <th>Product_ID</th>\n",
       "      <td>1.000000</td>\n",
       "      <td>0.006007</td>\n",
       "      <td>-0.030523</td>\n",
       "      <td>-0.047987</td>\n",
       "      <td>-0.025821</td>\n",
       "      <td>-0.064427</td>\n",
       "    </tr>\n",
       "    <tr>\n",
       "      <th>Source</th>\n",
       "      <td>0.006007</td>\n",
       "      <td>1.000000</td>\n",
       "      <td>0.042888</td>\n",
       "      <td>0.152124</td>\n",
       "      <td>0.030468</td>\n",
       "      <td>-0.090394</td>\n",
       "    </tr>\n",
       "    <tr>\n",
       "      <th>Sales_Agent</th>\n",
       "      <td>-0.030523</td>\n",
       "      <td>0.042888</td>\n",
       "      <td>1.000000</td>\n",
       "      <td>0.003651</td>\n",
       "      <td>0.122834</td>\n",
       "      <td>-0.083051</td>\n",
       "    </tr>\n",
       "    <tr>\n",
       "      <th>Location</th>\n",
       "      <td>-0.047987</td>\n",
       "      <td>0.152124</td>\n",
       "      <td>0.003651</td>\n",
       "      <td>1.000000</td>\n",
       "      <td>0.222567</td>\n",
       "      <td>0.127101</td>\n",
       "    </tr>\n",
       "    <tr>\n",
       "      <th>Delivery_Mode</th>\n",
       "      <td>-0.025821</td>\n",
       "      <td>0.030468</td>\n",
       "      <td>0.122834</td>\n",
       "      <td>0.222567</td>\n",
       "      <td>1.000000</td>\n",
       "      <td>0.158134</td>\n",
       "    </tr>\n",
       "    <tr>\n",
       "      <th>Lead</th>\n",
       "      <td>-0.064427</td>\n",
       "      <td>-0.090394</td>\n",
       "      <td>-0.083051</td>\n",
       "      <td>0.127101</td>\n",
       "      <td>0.158134</td>\n",
       "      <td>1.000000</td>\n",
       "    </tr>\n",
       "  </tbody>\n",
       "</table>\n",
       "</div>"
      ],
      "text/plain": [
       "               Product_ID    Source  Sales_Agent  Location  Delivery_Mode  \\\n",
       "Product_ID       1.000000  0.006007    -0.030523 -0.047987      -0.025821   \n",
       "Source           0.006007  1.000000     0.042888  0.152124       0.030468   \n",
       "Sales_Agent     -0.030523  0.042888     1.000000  0.003651       0.122834   \n",
       "Location        -0.047987  0.152124     0.003651  1.000000       0.222567   \n",
       "Delivery_Mode   -0.025821  0.030468     0.122834  0.222567       1.000000   \n",
       "Lead            -0.064427 -0.090394    -0.083051  0.127101       0.158134   \n",
       "\n",
       "                   Lead  \n",
       "Product_ID    -0.064427  \n",
       "Source        -0.090394  \n",
       "Sales_Agent   -0.083051  \n",
       "Location       0.127101  \n",
       "Delivery_Mode  0.158134  \n",
       "Lead           1.000000  "
      ]
     },
     "execution_count": 161,
     "metadata": {},
     "output_type": "execute_result"
    }
   ],
   "source": [
    "data1.corr()"
   ]
  },
  {
   "cell_type": "code",
   "execution_count": 162,
   "id": "30a52bd8-b596-49c3-b435-a6498d8714db",
   "metadata": {},
   "outputs": [
    {
     "data": {
      "image/png": "[encoded data removed]",
      "text/plain": [
       "<Figure size 640x480 with 2 Axes>"
      ]
     },
     "metadata": {},
     "output_type": "display_data"
    }
   ],
   "source": [
    "sns.heatmap(data1.corr(),annot=True,cmap=\"PiYG\",annot_kws={\"size\":10})\n",
    "plt.show()"
   ]
  },
  {
   "cell_type": "markdown",
   "id": "4d36e615-1204-431e-9347-c1271f849c41",
   "metadata": {},
   "source": [
    " * **It appears that there are no highly correlated features present. Therefore,no need to drop any feature based on correlation.**"
   ]
  },
  {
   "cell_type": "markdown",
   "id": "6d5db9f1-374d-4f93-bfbd-7b40a5059172",
   "metadata": {},
   "source": [
    "### Saving preprocessed data"
   ]
  },
  {
   "cell_type": "code",
   "execution_count": 165,
   "id": "94ddfa30-b86d-4dc9-905e-2c553e5bd6cd",
   "metadata": {},
   "outputs": [
    {
     "data": {
      "text/html": [
       "<div>\n",
       "<style scoped>\n",
       "    .dataframe tbody tr th:only-of-type {\n",
       "        vertical-align: middle;\n",
       "    }\n",
       "\n",
       "    .dataframe tbody tr th {\n",
       "        vertical-align: top;\n",
       "    }\n",
       "\n",
       "    .dataframe thead th {\n",
       "        text-align: right;\n",
       "    }\n",
       "</style>\n",
       "<table border=\"1\" class=\"dataframe\">\n",
       "  <thead>\n",
       "    <tr style=\"text-align: right;\">\n",
       "      <th></th>\n",
       "      <th>Product_ID</th>\n",
       "      <th>Source</th>\n",
       "      <th>Sales_Agent</th>\n",
       "      <th>Location</th>\n",
       "      <th>Delivery_Mode</th>\n",
       "      <th>Lead</th>\n",
       "    </tr>\n",
       "  </thead>\n",
       "  <tbody>\n",
       "    <tr>\n",
       "      <th>0</th>\n",
       "      <td>9</td>\n",
       "      <td>0</td>\n",
       "      <td>2</td>\n",
       "      <td>4</td>\n",
       "      <td>3</td>\n",
       "      <td>0</td>\n",
       "    </tr>\n",
       "    <tr>\n",
       "      <th>1</th>\n",
       "      <td>19</td>\n",
       "      <td>1</td>\n",
       "      <td>3</td>\n",
       "      <td>5</td>\n",
       "      <td>4</td>\n",
       "      <td>0</td>\n",
       "    </tr>\n",
       "    <tr>\n",
       "      <th>2</th>\n",
       "      <td>18</td>\n",
       "      <td>2</td>\n",
       "      <td>10</td>\n",
       "      <td>3</td>\n",
       "      <td>3</td>\n",
       "      <td>0</td>\n",
       "    </tr>\n",
       "    <tr>\n",
       "      <th>3</th>\n",
       "      <td>15</td>\n",
       "      <td>2</td>\n",
       "      <td>6</td>\n",
       "      <td>3</td>\n",
       "      <td>3</td>\n",
       "      <td>1</td>\n",
       "    </tr>\n",
       "    <tr>\n",
       "      <th>4</th>\n",
       "      <td>18</td>\n",
       "      <td>1</td>\n",
       "      <td>6</td>\n",
       "      <td>4</td>\n",
       "      <td>3</td>\n",
       "      <td>0</td>\n",
       "    </tr>\n",
       "  </tbody>\n",
       "</table>\n",
       "</div>"
      ],
      "text/plain": [
       "   Product_ID  Source  Sales_Agent  Location  Delivery_Mode  Lead\n",
       "0           9       0            2         4              3     0\n",
       "1          19       1            3         5              4     0\n",
       "2          18       2           10         3              3     0\n",
       "3          15       2            6         3              3     1\n",
       "4          18       1            6         4              3     0"
      ]
     },
     "execution_count": 165,
     "metadata": {},
     "output_type": "execute_result"
    }
   ],
   "source": [
    "data1.to_csv('Preprocessdata.csv', index=False)\n",
    "df = pd.read_csv(\"Preprocessdata.csv\")\n",
    "df.head()"
   ]
  },
  {
   "cell_type": "markdown",
   "id": "a170a634-c5a3-4fef-b012-e574f8a9b62b",
   "metadata": {},
   "source": [
    "### Standard scaling "
   ]
  },
  {
   "cell_type": "code",
   "execution_count": 167,
   "id": "75f20c62-bb0f-4d44-9c17-ca5157450f91",
   "metadata": {},
   "outputs": [
    {
     "name": "stdout",
     "output_type": "stream",
     "text": [
      "Product_ID       int64\n",
      "Source           int64\n",
      "Sales_Agent      int64\n",
      "Location         int64\n",
      "Delivery_Mode    int64\n",
      "Lead             int64\n",
      "dtype: object\n"
     ]
    }
   ],
   "source": [
    "print(df.dtypes)"
   ]
  },
  {
   "cell_type": "code",
   "execution_count": 168,
   "id": "c464410d-e52e-4226-a0c5-6666b19a7285",
   "metadata": {},
   "outputs": [
    {
     "name": "stdout",
     "output_type": "stream",
     "text": [
      "        Product_ID       Source  Sales_Agent     Location  Delivery_Mode  \\\n",
      "count  7364.000000  7364.000000  7364.000000  7364.000000    7364.000000   \n",
      "mean     15.947311     1.086095     5.556491     3.745926       3.130364   \n",
      "std       6.072937     1.163026     3.134486     1.189137       0.829221   \n",
      "min       0.000000     0.000000     1.000000     0.000000       0.000000   \n",
      "25%      12.000000     0.000000     3.000000     3.000000       3.000000   \n",
      "50%      18.000000     1.000000     4.000000     4.000000       3.000000   \n",
      "75%      19.000000     2.000000     8.000000     5.000000       4.000000   \n",
      "max      28.000000     6.000000    11.000000     5.000000       4.000000   \n",
      "\n",
      "              Lead  \n",
      "count  7364.000000  \n",
      "mean      0.700978  \n",
      "std       0.457861  \n",
      "min       0.000000  \n",
      "25%       0.000000  \n",
      "50%       1.000000  \n",
      "75%       1.000000  \n",
      "max       1.000000  \n"
     ]
    }
   ],
   "source": [
    "print(df.describe())"
   ]
  },
  {
   "cell_type": "code",
   "execution_count": 169,
   "id": "9ba64609-42e5-4502-aed7-26b1db1bdc8f",
   "metadata": {},
   "outputs": [
    {
     "name": "stdout",
     "output_type": "stream",
     "text": [
      "Numeric Columns: ['Product_ID', 'Source', 'Sales_Agent', 'Location', 'Delivery_Mode', 'Lead']\n"
     ]
    }
   ],
   "source": [
    "numeric_cols = df.select_dtypes(include=['int64', 'float64']).columns.tolist()\n",
    "print(\"Numeric Columns:\", numeric_cols)"
   ]
  },
  {
   "cell_type": "markdown",
   "id": "9c1fd864-5373-4580-9443-4aec1d31985d",
   "metadata": {},
   "source": [
    "### Use standard scaler to scale data for distance based models "
   ]
  },
  {
   "cell_type": "code",
   "execution_count": 171,
   "id": "4bdb2e24-ca0d-4119-ac1d-5eeceb75fab5",
   "metadata": {},
   "outputs": [],
   "source": [
    "scaler = StandardScaler()\n",
    "numeric_cols = ['Product_ID','Source','Sales_Agent','Location','Delivery_Mode']\n",
    "# Apply StandardScaler\n",
    "df[numeric_cols] = scaler.fit_transform(df[numeric_cols])"
   ]
  },
  {
   "cell_type": "code",
   "execution_count": 172,
   "id": "5f798fc1-695a-41e3-b555-0a92c06febd3",
   "metadata": {},
   "outputs": [
    {
     "name": "stdout",
     "output_type": "stream",
     "text": [
      "   Product_ID    Source  Sales_Agent  Location  Delivery_Mode  Lead\n",
      "0   -1.144057 -0.933915    -1.134710  0.213677      -0.157223     0\n",
      "1    0.502705 -0.074031    -0.815657  1.054680       1.048810     0\n",
      "2    0.338029  0.785853     1.417716 -0.627326      -0.157223     0\n",
      "3   -0.156000  0.785853     0.141503 -0.627326      -0.157223     1\n",
      "4    0.338029 -0.074031     0.141503  0.213677      -0.157223     0\n"
     ]
    }
   ],
   "source": [
    "print(df.head())  # Check if 'Product_ID' values are scaled properly"
   ]
  },
  {
   "cell_type": "markdown",
   "id": "3ca9f644-5b7d-43fc-872e-be4b227ae327",
   "metadata": {},
   "source": [
    "### Model Creation and Evaluation"
   ]
  },
  {
   "cell_type": "code",
   "execution_count": 174,
   "id": "50bfd2e4-f92c-4c3e-8a06-068084823b24",
   "metadata": {},
   "outputs": [
    {
     "data": {
      "text/html": [
       "<div>\n",
       "<style scoped>\n",
       "    .dataframe tbody tr th:only-of-type {\n",
       "        vertical-align: middle;\n",
       "    }\n",
       "\n",
       "    .dataframe tbody tr th {\n",
       "        vertical-align: top;\n",
       "    }\n",
       "\n",
       "    .dataframe thead th {\n",
       "        text-align: right;\n",
       "    }\n",
       "</style>\n",
       "<table border=\"1\" class=\"dataframe\">\n",
       "  <thead>\n",
       "    <tr style=\"text-align: right;\">\n",
       "      <th></th>\n",
       "      <th>Product_ID</th>\n",
       "      <th>Source</th>\n",
       "      <th>Sales_Agent</th>\n",
       "      <th>Location</th>\n",
       "      <th>Delivery_Mode</th>\n",
       "    </tr>\n",
       "  </thead>\n",
       "  <tbody>\n",
       "    <tr>\n",
       "      <th>0</th>\n",
       "      <td>-1.144057</td>\n",
       "      <td>-0.933915</td>\n",
       "      <td>-1.134710</td>\n",
       "      <td>0.213677</td>\n",
       "      <td>-0.157223</td>\n",
       "    </tr>\n",
       "    <tr>\n",
       "      <th>1</th>\n",
       "      <td>0.502705</td>\n",
       "      <td>-0.074031</td>\n",
       "      <td>-0.815657</td>\n",
       "      <td>1.054680</td>\n",
       "      <td>1.048810</td>\n",
       "    </tr>\n",
       "    <tr>\n",
       "      <th>2</th>\n",
       "      <td>0.338029</td>\n",
       "      <td>0.785853</td>\n",
       "      <td>1.417716</td>\n",
       "      <td>-0.627326</td>\n",
       "      <td>-0.157223</td>\n",
       "    </tr>\n",
       "    <tr>\n",
       "      <th>3</th>\n",
       "      <td>-0.156000</td>\n",
       "      <td>0.785853</td>\n",
       "      <td>0.141503</td>\n",
       "      <td>-0.627326</td>\n",
       "      <td>-0.157223</td>\n",
       "    </tr>\n",
       "    <tr>\n",
       "      <th>4</th>\n",
       "      <td>0.338029</td>\n",
       "      <td>-0.074031</td>\n",
       "      <td>0.141503</td>\n",
       "      <td>0.213677</td>\n",
       "      <td>-0.157223</td>\n",
       "    </tr>\n",
       "  </tbody>\n",
       "</table>\n",
       "</div>"
      ],
      "text/plain": [
       "   Product_ID    Source  Sales_Agent  Location  Delivery_Mode\n",
       "0   -1.144057 -0.933915    -1.134710  0.213677      -0.157223\n",
       "1    0.502705 -0.074031    -0.815657  1.054680       1.048810\n",
       "2    0.338029  0.785853     1.417716 -0.627326      -0.157223\n",
       "3   -0.156000  0.785853     0.141503 -0.627326      -0.157223\n",
       "4    0.338029 -0.074031     0.141503  0.213677      -0.157223"
      ]
     },
     "execution_count": 174,
     "metadata": {},
     "output_type": "execute_result"
    }
   ],
   "source": [
    "x = df.drop(columns=[\"Lead\"])\n",
    "y = df[\"Lead\"]\n",
    "x.head()"
   ]
  },
  {
   "cell_type": "code",
   "execution_count": 175,
   "id": "db1846a8-8b2e-475f-aa95-b0c880c241e8",
   "metadata": {},
   "outputs": [
    {
     "data": {
      "text/plain": [
       "0    0\n",
       "1    0\n",
       "2    0\n",
       "3    1\n",
       "4    0\n",
       "Name: Lead, dtype: int64"
      ]
     },
     "execution_count": 175,
     "metadata": {},
     "output_type": "execute_result"
    }
   ],
   "source": [
    "y.head()"
   ]
  },
  {
   "cell_type": "code",
   "execution_count": 176,
   "id": "637b5d31-fe4e-410d-993a-71b78dd5f8d0",
   "metadata": {},
   "outputs": [
    {
     "data": {
      "text/plain": [
       "pandas.core.series.Series"
      ]
     },
     "execution_count": 176,
     "metadata": {},
     "output_type": "execute_result"
    }
   ],
   "source": [
    "type(y)"
   ]
  },
  {
   "cell_type": "code",
   "execution_count": 177,
   "id": "6a235f9a-ca0f-4996-9a89-bff6b113920a",
   "metadata": {},
   "outputs": [
    {
     "data": {
      "text/plain": [
       "pandas.core.frame.DataFrame"
      ]
     },
     "execution_count": 177,
     "metadata": {},
     "output_type": "execute_result"
    }
   ],
   "source": [
    "type(x)"
   ]
  },
  {
   "cell_type": "markdown",
   "id": "65dfdd34-9a81-4dd6-98d3-5e88424bc1df",
   "metadata": {},
   "source": [
    "### Train Test Split"
   ]
  },
  {
   "cell_type": "code",
   "execution_count": 179,
   "id": "ad45a1a9-88c4-4e3d-89dd-ac2169d26100",
   "metadata": {},
   "outputs": [],
   "source": [
    "x_train,x_test,y_train,y_test=train_test_split(x,y,test_size=0.20,random_state=42,stratify=y)"
   ]
  },
  {
   "cell_type": "code",
   "execution_count": 180,
   "id": "be08f6b7-d75e-476c-9e65-6aa07cc95273",
   "metadata": {},
   "outputs": [
    {
     "data": {
      "text/plain": [
       "(5891, 5)"
      ]
     },
     "execution_count": 180,
     "metadata": {},
     "output_type": "execute_result"
    }
   ],
   "source": [
    "x_train.shape"
   ]
  },
  {
   "cell_type": "code",
   "execution_count": 181,
   "id": "60105a23-32e2-442d-a5ad-ec727fde301e",
   "metadata": {},
   "outputs": [
    {
     "data": {
      "text/plain": [
       "(1473, 5)"
      ]
     },
     "execution_count": 181,
     "metadata": {},
     "output_type": "execute_result"
    }
   ],
   "source": [
    "x_test.shape"
   ]
  },
  {
   "cell_type": "code",
   "execution_count": 182,
   "id": "118e7d62-9985-40c4-a102-485cfae85044",
   "metadata": {},
   "outputs": [
    {
     "data": {
      "image/png": "[encoded data removed]",
      "text/plain": [
       "<Figure size 500x300 with 1 Axes>"
      ]
     },
     "metadata": {},
     "output_type": "display_data"
    }
   ],
   "source": [
    "plt.figure(figsize=(5,3))\n",
    "ax = sns.countplot(x=df[\"Lead\"], palette=\"rainbow\")\n",
    "for p in ax.containers:\n",
    "    ax.bar_label(p, label_type='center', color='black', fontsize=10)\n",
    "plt.show()"
   ]
  },
  {
   "cell_type": "markdown",
   "id": "a522b876-9442-4eeb-b592-707ba38f8d74",
   "metadata": {},
   "source": [
    "* **The Target values are not balanced**"
   ]
  },
  {
   "cell_type": "markdown",
   "id": "31c9c2b7-1285-49f3-972f-be5ad91cea4c",
   "metadata": {},
   "source": [
    "**Use SMOTE to get the data balanced**"
   ]
  },
  {
   "cell_type": "code",
   "execution_count": 185,
   "id": "46d783cb-77ed-4d6d-9d59-455fc34c9ad0",
   "metadata": {},
   "outputs": [
    {
     "name": "stdout",
     "output_type": "stream",
     "text": [
      "Actual class Counter({1: 4129, 0: 1762})\n",
      "Smote class Counter({0: 4129, 1: 4129})\n"
     ]
    }
   ],
   "source": [
    "smote=SMOTE()\n",
    "x_smote,y_smote=smote.fit_resample(x_train,y_train)\n",
    "print(\"Actual class\",Counter(y_train))\n",
    "print(\"Smote class\",Counter(y_smote))"
   ]
  },
  {
   "cell_type": "markdown",
   "id": "1a963797-23e6-4e93-a415-deff6c96ae8c",
   "metadata": {},
   "source": [
    "## Model Building"
   ]
  },
  {
   "cell_type": "markdown",
   "id": "e5a0e1da-d32e-4f17-8744-2e776e064ea0",
   "metadata": {},
   "source": [
    "### Logistic regression"
   ]
  },
  {
   "cell_type": "code",
   "execution_count": 188,
   "id": "046fb5e4-efd5-4b8d-9dc9-35e9709637e7",
   "metadata": {},
   "outputs": [
    {
     "name": "stdout",
     "output_type": "stream",
     "text": [
      "Logistic Regression Classification Report:\n",
      "              precision    recall  f1-score   support\n",
      "\n",
      "           0       0.61      0.10      0.17       440\n",
      "           1       0.72      0.97      0.83      1033\n",
      "\n",
      "    accuracy                           0.71      1473\n",
      "   macro avg       0.66      0.54      0.50      1473\n",
      "weighted avg       0.68      0.71      0.63      1473\n",
      "\n",
      "Accuracy: 0.7115\n",
      "\n"
     ]
    }
   ],
   "source": [
    "log_reg = LogisticRegression()\n",
    "log_reg.fit(x_train, y_train)\n",
    "y_pred_log = log_reg.predict(x_test)\n",
    "\n",
    "# Classification Report\n",
    "print(\"Logistic Regression Classification Report:\")\n",
    "print(classification_report(y_test, y_pred_log))\n",
    "print(f\"Accuracy: {accuracy_score(y_test, y_pred_log):.4f}\\n\")"
   ]
  },
  {
   "cell_type": "markdown",
   "id": "18fca8c8-657b-48d1-ba7c-ae2dde41ffab",
   "metadata": {},
   "source": [
    "### Decision Tree Classifier"
   ]
  },
  {
   "cell_type": "code",
   "execution_count": 190,
   "id": "d1317bfe-1498-4f8f-b7a5-383ec7ce82be",
   "metadata": {},
   "outputs": [
    {
     "name": "stdout",
     "output_type": "stream",
     "text": [
      "Decision Tree Classification Report:\n",
      "              precision    recall  f1-score   support\n",
      "\n",
      "           0       0.54      0.52      0.53       440\n",
      "           1       0.80      0.81      0.81      1033\n",
      "\n",
      "    accuracy                           0.72      1473\n",
      "   macro avg       0.67      0.67      0.67      1473\n",
      "weighted avg       0.72      0.72      0.72      1473\n",
      "\n",
      "Accuracy: 0.7244\n",
      "\n"
     ]
    }
   ],
   "source": [
    "dt = DecisionTreeClassifier(random_state=42)\n",
    "dt.fit(x_train, y_train)\n",
    "y_pred_dt = dt.predict(x_test)\n",
    "\n",
    "# Classification Report\n",
    "print(\"Decision Tree Classification Report:\")\n",
    "print(classification_report(y_test, y_pred_dt))\n",
    "print(f\"Accuracy: {accuracy_score(y_test, y_pred_dt):.4f}\\n\")"
   ]
  },
  {
   "cell_type": "markdown",
   "id": "f9eece2b-26ef-4f38-bceb-0bfbf31e11f2",
   "metadata": {},
   "source": [
    "### Random Forest Classifier"
   ]
  },
  {
   "cell_type": "code",
   "execution_count": 192,
   "id": "b8dd3fce-4e22-4712-9199-f45b87747c9f",
   "metadata": {},
   "outputs": [
    {
     "name": "stdout",
     "output_type": "stream",
     "text": [
      "Random Forest Classification Report:\n",
      "              precision    recall  f1-score   support\n",
      "\n",
      "           0       0.57      0.47      0.52       440\n",
      "           1       0.79      0.85      0.82      1033\n",
      "\n",
      "    accuracy                           0.74      1473\n",
      "   macro avg       0.68      0.66      0.67      1473\n",
      "weighted avg       0.73      0.74      0.73      1473\n",
      "\n",
      "Accuracy: 0.7379\n",
      "\n"
     ]
    }
   ],
   "source": [
    "rf = RandomForestClassifier(n_estimators=100, random_state=42)\n",
    "rf.fit(x_train, y_train)\n",
    "y_pred_rf = rf.predict(x_test)\n",
    "\n",
    "# Classification Report\n",
    "print(\"Random Forest Classification Report:\")\n",
    "print(classification_report(y_test, y_pred_rf))\n",
    "print(f\"Accuracy: {accuracy_score(y_test, y_pred_rf):.4f}\\n\")"
   ]
  },
  {
   "cell_type": "markdown",
   "id": "434a08ff-2dba-4a54-9b59-6ef799ced7b4",
   "metadata": {},
   "source": [
    "### Gradient Boosting Classifier"
   ]
  },
  {
   "cell_type": "code",
   "execution_count": 194,
   "id": "84129d7e-11e2-40ab-94e6-e70c4a3e5e3d",
   "metadata": {},
   "outputs": [
    {
     "name": "stdout",
     "output_type": "stream",
     "text": [
      "Gradient Boosting Classification Report:\n",
      "              precision    recall  f1-score   support\n",
      "\n",
      "           0       0.74      0.34      0.46       440\n",
      "           1       0.77      0.95      0.85      1033\n",
      "\n",
      "    accuracy                           0.77      1473\n",
      "   macro avg       0.76      0.64      0.66      1473\n",
      "weighted avg       0.76      0.77      0.73      1473\n",
      "\n",
      "Accuracy: 0.7665\n",
      "\n"
     ]
    }
   ],
   "source": [
    "gb = GradientBoostingClassifier(n_estimators=100, random_state=42)\n",
    "gb.fit(x_train, y_train)\n",
    "y_pred_gb = gb.predict(x_test)\n",
    "\n",
    "# Classification Report\n",
    "print(\"Gradient Boosting Classification Report:\")\n",
    "print(classification_report(y_test, y_pred_gb))\n",
    "print(f\"Accuracy: {accuracy_score(y_test, y_pred_gb):.4f}\\n\")"
   ]
  },
  {
   "cell_type": "markdown",
   "id": "694688e1-05ba-489a-ba45-8ead71266f2e",
   "metadata": {},
   "source": [
    "###  XGBoost Classifier"
   ]
  },
  {
   "cell_type": "code",
   "execution_count": 196,
   "id": "e499986c-a4e7-44f1-acc7-e19424a06b63",
   "metadata": {},
   "outputs": [
    {
     "name": "stdout",
     "output_type": "stream",
     "text": [
      "XGBoost Classification Report:\n",
      "              precision    recall  f1-score   support\n",
      "\n",
      "           0       0.61      0.44      0.51       440\n",
      "           1       0.79      0.88      0.83      1033\n",
      "\n",
      "    accuracy                           0.75      1473\n",
      "   macro avg       0.70      0.66      0.67      1473\n",
      "weighted avg       0.73      0.75      0.74      1473\n",
      "\n",
      "Accuracy: 0.7495\n",
      "\n"
     ]
    }
   ],
   "source": [
    "xgb = XGBClassifier(use_label_encoder=False, eval_metric='logloss', random_state=42)\n",
    "xgb.fit(x_train, y_train)\n",
    "y_pred_xgb = xgb.predict(x_test)\n",
    "\n",
    "# Classification Report\n",
    "print(\"XGBoost Classification Report:\")\n",
    "print(classification_report(y_test, y_pred_xgb))\n",
    "print(f\"Accuracy: {accuracy_score(y_test, y_pred_xgb):.4f}\\n\")"
   ]
  },
  {
   "cell_type": "markdown",
   "id": "f74fc396-d277-413f-8b66-0df8c428c49c",
   "metadata": {},
   "source": [
    "###  K-Nearest Neighbors (KNN)"
   ]
  },
  {
   "cell_type": "code",
   "execution_count": 198,
   "id": "3c68f58f-68ef-4dcf-810a-805fcfafb354",
   "metadata": {},
   "outputs": [
    {
     "name": "stdout",
     "output_type": "stream",
     "text": [
      "K-Nearest Neighbors Classification Report:\n",
      "              precision    recall  f1-score   support\n",
      "\n",
      "           0       0.53      0.42      0.47       440\n",
      "           1       0.77      0.84      0.81      1033\n",
      "\n",
      "    accuracy                           0.72      1473\n",
      "   macro avg       0.65      0.63      0.64      1473\n",
      "weighted avg       0.70      0.72      0.71      1473\n",
      "\n",
      "Accuracy: 0.7169\n",
      "\n"
     ]
    }
   ],
   "source": [
    "knn = KNeighborsClassifier(n_neighbors=5)\n",
    "knn.fit(x_train, y_train)\n",
    "y_pred_knn = knn.predict(x_test)\n",
    "\n",
    "# Classification Report\n",
    "print(\"K-Nearest Neighbors Classification Report:\")\n",
    "print(classification_report(y_test, y_pred_knn))\n",
    "print(f\"Accuracy: {accuracy_score(y_test, y_pred_knn):.4f}\\n\")"
   ]
  },
  {
   "cell_type": "markdown",
   "id": "b6a12d8a-d121-41d4-ac9f-a876819d7080",
   "metadata": {},
   "source": [
    "### Bagging Classifier"
   ]
  },
  {
   "cell_type": "code",
   "execution_count": 200,
   "id": "f1e226bc-1949-421e-9508-138005b7e7d4",
   "metadata": {},
   "outputs": [
    {
     "name": "stdout",
     "output_type": "stream",
     "text": [
      "Bagging Classifier Classification Report:\n",
      "              precision    recall  f1-score   support\n",
      "\n",
      "           0       0.58      0.48      0.53       440\n",
      "           1       0.79      0.85      0.82      1033\n",
      "\n",
      "    accuracy                           0.74      1473\n",
      "   macro avg       0.69      0.67      0.67      1473\n",
      "weighted avg       0.73      0.74      0.73      1473\n",
      "\n",
      "Accuracy: 0.7413\n",
      "\n"
     ]
    }
   ],
   "source": [
    "bagging = BaggingClassifier(estimator=DecisionTreeClassifier(), n_estimators=50, random_state=42)\n",
    "bagging.fit(x_train, y_train)\n",
    "y_pred_bagging = bagging.predict(x_test)\n",
    "\n",
    "# classification report\n",
    "print(\"Bagging Classifier Classification Report:\")\n",
    "print(classification_report(y_test, y_pred_bagging))\n",
    "print(f\"Accuracy: {accuracy_score(y_test, y_pred_bagging):.4f}\\n\")"
   ]
  },
  {
   "cell_type": "markdown",
   "id": "9c651131-c6f3-44b3-803a-4fd84cdf5ade",
   "metadata": {},
   "source": [
    "### Artificial Neural Network (ANN)"
   ]
  },
  {
   "cell_type": "code",
   "execution_count": 202,
   "id": "ab3c875f-ae0f-4e3e-b5c5-9f58cb284594",
   "metadata": {
    "scrolled": true
   },
   "outputs": [
    {
     "name": "stdout",
     "output_type": "stream",
     "text": [
      "Epoch 1/10\n",
      "\u001b[1m185/185\u001b[0m \u001b[32m━━━━━━━━━━━━━━━━━━━━\u001b[0m\u001b[37m\u001b[0m \u001b[1m2s\u001b[0m 3ms/step - accuracy: 0.7021 - loss: 0.5911 - val_accuracy: 0.7155 - val_loss: 0.5517\n",
      "Epoch 2/10\n",
      "\u001b[1m185/185\u001b[0m \u001b[32m━━━━━━━━━━━━━━━━━━━━\u001b[0m\u001b[37m\u001b[0m \u001b[1m0s\u001b[0m 2ms/step - accuracy: 0.7111 - loss: 0.5569 - val_accuracy: 0.7135 - val_loss: 0.5439\n",
      "Epoch 3/10\n",
      "\u001b[1m185/185\u001b[0m \u001b[32m━━━━━━━━━━━━━━━━━━━━\u001b[0m\u001b[37m\u001b[0m \u001b[1m0s\u001b[0m 2ms/step - accuracy: 0.7103 - loss: 0.5563 - val_accuracy: 0.7142 - val_loss: 0.5379\n",
      "Epoch 4/10\n",
      "\u001b[1m185/185\u001b[0m \u001b[32m━━━━━━━━━━━━━━━━━━━━\u001b[0m\u001b[37m\u001b[0m \u001b[1m1s\u001b[0m 3ms/step - accuracy: 0.7280 - loss: 0.5361 - val_accuracy: 0.7257 - val_loss: 0.5343\n",
      "Epoch 5/10\n",
      "\u001b[1m185/185\u001b[0m \u001b[32m━━━━━━━━━━━━━━━━━━━━\u001b[0m\u001b[37m\u001b[0m \u001b[1m0s\u001b[0m 2ms/step - accuracy: 0.7282 - loss: 0.5409 - val_accuracy: 0.7183 - val_loss: 0.5288\n",
      "Epoch 6/10\n",
      "\u001b[1m185/185\u001b[0m \u001b[32m━━━━━━━━━━━━━━━━━━━━\u001b[0m\u001b[37m\u001b[0m \u001b[1m0s\u001b[0m 2ms/step - accuracy: 0.7282 - loss: 0.5437 - val_accuracy: 0.7237 - val_loss: 0.5268\n",
      "Epoch 7/10\n",
      "\u001b[1m185/185\u001b[0m \u001b[32m━━━━━━━━━━━━━━━━━━━━\u001b[0m\u001b[37m\u001b[0m \u001b[1m0s\u001b[0m 2ms/step - accuracy: 0.7381 - loss: 0.5276 - val_accuracy: 0.7244 - val_loss: 0.5271\n",
      "Epoch 8/10\n",
      "\u001b[1m185/185\u001b[0m \u001b[32m━━━━━━━━━━━━━━━━━━━━\u001b[0m\u001b[37m\u001b[0m \u001b[1m0s\u001b[0m 2ms/step - accuracy: 0.7264 - loss: 0.5381 - val_accuracy: 0.7217 - val_loss: 0.5237\n",
      "Epoch 9/10\n",
      "\u001b[1m185/185\u001b[0m \u001b[32m━━━━━━━━━━━━━━━━━━━━\u001b[0m\u001b[37m\u001b[0m \u001b[1m0s\u001b[0m 2ms/step - accuracy: 0.7270 - loss: 0.5409 - val_accuracy: 0.7251 - val_loss: 0.5240\n",
      "Epoch 10/10\n",
      "\u001b[1m185/185\u001b[0m \u001b[32m━━━━━━━━━━━━━━━━━━━━\u001b[0m\u001b[37m\u001b[0m \u001b[1m0s\u001b[0m 2ms/step - accuracy: 0.7384 - loss: 0.5242 - val_accuracy: 0.7223 - val_loss: 0.5236\n",
      "\u001b[1m47/47\u001b[0m \u001b[32m━━━━━━━━━━━━━━━━━━━━\u001b[0m\u001b[37m\u001b[0m \u001b[1m0s\u001b[0m 2ms/step\n",
      "Artificial Neural Network Classification Report:\n",
      "              precision    recall  f1-score   support\n",
      "\n",
      "           0       0.62      0.18      0.28       440\n",
      "           1       0.73      0.95      0.83      1033\n",
      "\n",
      "    accuracy                           0.72      1473\n",
      "   macro avg       0.68      0.57      0.55      1473\n",
      "weighted avg       0.70      0.72      0.66      1473\n",
      "\n",
      "Accuracy: 0.7223\n",
      "\n"
     ]
    }
   ],
   "source": [
    "#Neural Network\n",
    "ann = Sequential([\n",
    "    Dense(64, activation='relu', input_shape=(x_train.shape[1],)),\n",
    "    Dense(32, activation='relu'),\n",
    "    Dense(1, activation='sigmoid')  # Binary Classification\n",
    "])\n",
    "# Compile Model\n",
    "ann.compile(optimizer='adam', loss='binary_crossentropy', metrics=['accuracy'])\n",
    "# Train Model\n",
    "ann.fit(x_train, y_train, epochs=10, batch_size=32, validation_data=(x_test, y_test), verbose=1)\n",
    "# Predictions\n",
    "y_pred_ann = (ann.predict(x_test) > 0.5).astype(int)\n",
    "\n",
    "# Classification Report\n",
    "print(\"Artificial Neural Network Classification Report:\")\n",
    "print(classification_report(y_test, y_pred_ann))\n",
    "print(f\"Accuracy: {accuracy_score(y_test, y_pred_ann):.4f}\\n\")"
   ]
  },
  {
   "cell_type": "markdown",
   "id": "0aba0471-5f41-4481-8dc5-8e43cfe9ceb2",
   "metadata": {},
   "source": [
    "### Comparison Report"
   ]
  },
  {
   "cell_type": "code",
   "execution_count": 204,
   "id": "df0ca60f-9d0c-42fb-b9e3-5fd73712e45a",
   "metadata": {},
   "outputs": [
    {
     "name": "stdout",
     "output_type": "stream",
     "text": [
      "\n",
      "Overall Model Comparison Report:\n",
      "                     Accuracy  Precision (Macro Avg)  Recall (Macro Avg)  \\\n",
      "Logistic Regression    0.7115                 0.6612              0.5353   \n",
      "Decision Tree          0.7244                 0.6693              0.6652   \n",
      "Random Forest          0.7379                 0.6829              0.6618   \n",
      "Gradient Boosting      0.7665                 0.7553              0.6430   \n",
      "XGBoost                0.7495                 0.6997              0.6603   \n",
      "K-Nearest Neighbors    0.7169                 0.6536              0.6331   \n",
      "Bagging Classifier     0.7413                 0.6875              0.6669   \n",
      "\n",
      "                     F1-Score (Macro Avg)  \n",
      "Logistic Regression                0.4969  \n",
      "Decision Tree                      0.6671  \n",
      "Random Forest                      0.6693  \n",
      "Gradient Boosting                  0.6567  \n",
      "XGBoost                            0.6714  \n",
      "K-Nearest Neighbors                0.6397  \n",
      "Bagging Classifier                 0.6744  \n"
     ]
    }
   ],
   "source": [
    "from sklearn.metrics import accuracy_score, classification_report\n",
    "models = {\n",
    "    \"Logistic Regression\": LogisticRegression(),\n",
    "    \"Decision Tree\": DecisionTreeClassifier(random_state=42),\n",
    "    \"Random Forest\": RandomForestClassifier(n_estimators=100, random_state=42),\n",
    "    \"Gradient Boosting\": GradientBoostingClassifier(n_estimators=100, random_state=42),\n",
    "    \"XGBoost\": XGBClassifier(use_label_encoder=False, eval_metric='logloss', random_state=42),\n",
    "    \"K-Nearest Neighbors\": KNeighborsClassifier(n_neighbors=5),\n",
    "    \"Bagging Classifier\": BaggingClassifier(estimator=DecisionTreeClassifier(), n_estimators=50, random_state=42)\n",
    "}\n",
    "model_results = {} # Store results\n",
    "# Train and evaluate each model\n",
    "for name, model in models.items():\n",
    "    model.fit(x_train, y_train)\n",
    "    y_pred = model.predict(x_test)\n",
    "    accuracy = accuracy_score(y_test, y_pred)\n",
    "    report = classification_report(y_test, y_pred, output_dict=True)  # Get precision, recall, F1-score\n",
    "    # Store results in dictionary\n",
    "    model_results[name] = {\n",
    "        \"Accuracy\": round(accuracy, 4),\n",
    "        \"Precision (Macro Avg)\": round(report[\"macro avg\"][\"precision\"], 4),\n",
    "        \"Recall (Macro Avg)\": round(report[\"macro avg\"][\"recall\"], 4),\n",
    "        \"F1-Score (Macro Avg)\": round(report[\"macro avg\"][\"f1-score\"], 4)\n",
    "    }\n",
    "# Convert results into a DataFrame\n",
    "results_df = pd.DataFrame(model_results).T \n",
    "print(\"\\nOverall Model Comparison Report:\")\n",
    "print(results_df)"
   ]
  },
  {
   "cell_type": "code",
   "execution_count": 205,
   "id": "c27dff6d-6168-4cef-8578-3a02eda88a33",
   "metadata": {},
   "outputs": [
    {
     "data": {
      "image/png": "[encoded data removed]",
      "text/plain": [
       "<Figure size 1000x500 with 1 Axes>"
      ]
     },
     "metadata": {},
     "output_type": "display_data"
    }
   ],
   "source": [
    "# Sort models by accuracy\n",
    "results_df = results_df.sort_values(by=\"Accuracy\", ascending=False)\n",
    "# Plot accuracy\n",
    "plt.figure(figsize=(10, 5))\n",
    "plt.barh(results_df.index, results_df[\"Accuracy\"], color=\"skyblue\")\n",
    "plt.xlabel(\"Accuracy\")\n",
    "plt.title(\"Model Accuracy Comparison\")\n",
    "plt.xlim(0, 1) \n",
    "plt.show()"
   ]
  },
  {
   "cell_type": "markdown",
   "id": "15177a45-57bb-4bd7-9a51-393c7956b70a",
   "metadata": {},
   "source": [
    "### Hyperparametric Tuning for better Accuracy"
   ]
  },
  {
   "cell_type": "markdown",
   "id": "425674c7-dc04-49b4-a263-5bcfb62a5e3e",
   "metadata": {},
   "source": [
    "### Tuning of Gradient Boost Classifier"
   ]
  },
  {
   "cell_type": "code",
   "execution_count": 208,
   "id": "383e4fb7-c617-4735-99c8-9eae90459965",
   "metadata": {},
   "outputs": [
    {
     "name": "stdout",
     "output_type": "stream",
     "text": [
      "Fitting 5 folds for each of 81 candidates, totalling 405 fits\n",
      "Best Hyperparameters: {'learning_rate': 0.05, 'max_depth': 3, 'min_samples_split': 10, 'n_estimators': 300}\n",
      "Optimized Gradient Boosting Classification Report:\n",
      "              precision    recall  f1-score   support\n",
      "\n",
      "           0       0.69      0.36      0.47       440\n",
      "           1       0.77      0.93      0.84      1033\n",
      "\n",
      "    accuracy                           0.76      1473\n",
      "   macro avg       0.73      0.65      0.66      1473\n",
      "weighted avg       0.75      0.76      0.73      1473\n",
      "\n",
      "Optimized Accuracy: 0.7604\n"
     ]
    }
   ],
   "source": [
    "# Define hyperparameter grid\n",
    "param_grid = {\n",
    "    'n_estimators': [100, 200, 300],  # Number of trees\n",
    "    'learning_rate': [0.01, 0.05, 0.1],  # Step size at each iteration\n",
    "    'max_depth': [3, 5, 7],  # Maximum depth of each tree\n",
    "    'min_samples_split': [2, 5, 10]  # Minimum number of samples to split a node\n",
    "}\n",
    "# Initialize the model\n",
    "gb = GradientBoostingClassifier(random_state=42)\n",
    "# Grid Search with 5-Fold Cross-Validation\n",
    "grid_search = GridSearchCV(estimator=gb, param_grid=param_grid, cv=5, scoring='accuracy', n_jobs=-1, verbose=1)\n",
    "grid_search.fit(x_train, y_train)\n",
    "# Get the best parameters\n",
    "best_params = grid_search.best_params_\n",
    "print(f\"Best Hyperparameters: {best_params}\")\n",
    "# Train the best model\n",
    "best_gb = GradientBoostingClassifier(**best_params, random_state=42)\n",
    "best_gb.fit(x_train, y_train)\n",
    "# Predict on test data\n",
    "y_pred_best_gb = best_gb.predict(x_test)\n",
    "\n",
    "# Evaluate Performance\n",
    "print(\"Optimized Gradient Boosting Classification Report:\")\n",
    "print(classification_report(y_test, y_pred_best_gb))\n",
    "print(f\"Optimized Accuracy: {accuracy_score(y_test, y_pred_best_gb):.4f}\")"
   ]
  },
  {
   "cell_type": "markdown",
   "id": "4a2431b5-c612-42c1-9eb6-4984ca7a4bec",
   "metadata": {},
   "source": [
    "### Tuning of XG Boost"
   ]
  },
  {
   "cell_type": "code",
   "execution_count": 210,
   "id": "6b3d0c05-c1ea-496d-b3c8-e531aea7276a",
   "metadata": {},
   "outputs": [
    {
     "name": "stdout",
     "output_type": "stream",
     "text": [
      "Fitting 5 folds for each of 243 candidates, totalling 1215 fits\n",
      "Best Hyperparameters for XGBoost: {'gamma': 0.2, 'learning_rate': 0.05, 'max_depth': 5, 'min_child_weight': 3, 'n_estimators': 200}\n",
      "Optimized XGBoost Classification Report:\n",
      "              precision    recall  f1-score   support\n",
      "\n",
      "           0       0.66      0.40      0.50       440\n",
      "           1       0.78      0.91      0.84      1033\n",
      "\n",
      "    accuracy                           0.76      1473\n",
      "   macro avg       0.72      0.66      0.67      1473\n",
      "weighted avg       0.74      0.76      0.74      1473\n",
      "\n",
      "Optimized Accuracy: 0.7590\n"
     ]
    }
   ],
   "source": [
    "param_grid = {\n",
    "    'n_estimators': [100, 200, 300],  \n",
    "    'learning_rate': [0.01, 0.05, 0.1],  \n",
    "    'max_depth': [3, 5, 7],  \n",
    "    'min_child_weight': [1, 3, 5],  \n",
    "    'gamma': [0, 0.1, 0.2]  \n",
    "}\n",
    "# Initialize the model\n",
    "xgb = XGBClassifier(use_label_encoder=False, eval_metric='logloss', random_state=42)\n",
    "# Grid Search with 5-Fold Cross-Validation\n",
    "grid_search_xgb = GridSearchCV(estimator=xgb, param_grid=param_grid, cv=5, scoring='accuracy', n_jobs=-1, verbose=1)\n",
    "grid_search_xgb.fit(x_train, y_train)\n",
    "# Get the best parameters\n",
    "best_params_xgb = grid_search_xgb.best_params_\n",
    "print(f\"Best Hyperparameters for XGBoost: {best_params_xgb}\")\n",
    "# Train the best model\n",
    "best_xgb = XGBClassifier(**best_params_xgb, use_label_encoder=False, eval_metric='logloss', random_state=42)\n",
    "best_xgb.fit(x_train, y_train)\n",
    "# Predict on test data\n",
    "y_pred_best_xgb = best_xgb.predict(x_test)\n",
    "\n",
    "# Evaluate Performance\n",
    "print(\"Optimized XGBoost Classification Report:\")\n",
    "print(classification_report(y_test, y_pred_best_xgb))\n",
    "print(f\"Optimized Accuracy: {accuracy_score(y_test, y_pred_best_xgb):.4f}\")"
   ]
  },
  {
   "cell_type": "markdown",
   "id": "d111239b-6142-4e82-8eec-60335503112d",
   "metadata": {},
   "source": [
    "### Tuning Decision Tree"
   ]
  },
  {
   "cell_type": "code",
   "execution_count": 212,
   "id": "13b8c919-9da8-4480-b28b-58baf2b04ca0",
   "metadata": {},
   "outputs": [
    {
     "name": "stdout",
     "output_type": "stream",
     "text": [
      "Fitting 5 folds for each of 72 candidates, totalling 360 fits\n",
      "Best Hyperparameters for Decision Tree: {'criterion': 'gini', 'max_depth': 10, 'min_samples_leaf': 2, 'min_samples_split': 10}\n",
      "Optimized Decision Tree Classification Report:\n",
      "              precision    recall  f1-score   support\n",
      "\n",
      "           0       0.60      0.46      0.52       440\n",
      "           1       0.79      0.87      0.83      1033\n",
      "\n",
      "    accuracy                           0.75      1473\n",
      "   macro avg       0.69      0.66      0.67      1473\n",
      "weighted avg       0.73      0.75      0.74      1473\n",
      "\n",
      "Optimized Accuracy: 0.7461\n"
     ]
    }
   ],
   "source": [
    "param_grid_dt = {\n",
    "    'max_depth': [3, 5, 10, None],  \n",
    "    'min_samples_split': [2, 5, 10],  \n",
    "    'min_samples_leaf': [1, 2, 4],  \n",
    "    'criterion': ['gini', 'entropy']\n",
    "}\n",
    "# Grid Search\n",
    "dt = DecisionTreeClassifier(random_state=42)\n",
    "grid_search_dt = GridSearchCV(estimator=dt, param_grid=param_grid_dt, cv=5, scoring='accuracy', n_jobs=-1, verbose=1)\n",
    "grid_search_dt.fit(x_train, y_train)\n",
    "# Get the best parameters\n",
    "best_params_dt = grid_search_dt.best_params_\n",
    "print(f\"Best Hyperparameters for Decision Tree: {best_params_dt}\")\n",
    "# Train best model\n",
    "best_dt = DecisionTreeClassifier(**best_params_dt, random_state=42)\n",
    "best_dt.fit(x_train, y_train)\n",
    "y_pred_best_dt = best_dt.predict(x_test)\n",
    "\n",
    "# Evaluate Performance\n",
    "print(\"Optimized Decision Tree Classification Report:\")\n",
    "print(classification_report(y_test, y_pred_best_dt))\n",
    "print(f\"Optimized Accuracy: {accuracy_score(y_test, y_pred_best_dt):.4f}\")"
   ]
  },
  {
   "cell_type": "markdown",
   "id": "d398f1bf-6d37-446e-8fe5-3f6fbdd47b5b",
   "metadata": {},
   "source": [
    "### Tuning Random Forest"
   ]
  },
  {
   "cell_type": "code",
   "execution_count": 214,
   "id": "279f1546-905f-4a78-a2fc-d11fdbc39e36",
   "metadata": {},
   "outputs": [
    {
     "name": "stdout",
     "output_type": "stream",
     "text": [
      "Fitting 5 folds for each of 108 candidates, totalling 540 fits\n",
      "Best Hyperparameters for Random Forest: {'max_depth': 10, 'min_samples_leaf': 4, 'min_samples_split': 10, 'n_estimators': 300}\n",
      "Optimized Random Forest Classification Report:\n",
      "              precision    recall  f1-score   support\n",
      "\n",
      "           0       0.69      0.35      0.47       440\n",
      "           1       0.77      0.93      0.84      1033\n",
      "\n",
      "    accuracy                           0.76      1473\n",
      "   macro avg       0.73      0.64      0.66      1473\n",
      "weighted avg       0.75      0.76      0.73      1473\n",
      "\n",
      "Optimized Accuracy: 0.7590\n"
     ]
    }
   ],
   "source": [
    "param_grid_rf = {\n",
    "    'n_estimators': [100, 200, 300],  \n",
    "    'max_depth': [3, 5, 10, None],  \n",
    "    'min_samples_split': [2, 5, 10],  \n",
    "    'min_samples_leaf': [1, 2, 4]\n",
    "}\n",
    "# Grid Search\n",
    "rf = RandomForestClassifier(random_state=42)\n",
    "grid_search_rf = GridSearchCV(estimator=rf, param_grid=param_grid_rf, cv=5, scoring='accuracy', n_jobs=-1, verbose=1)\n",
    "grid_search_rf.fit(x_train, y_train)\n",
    "# Get the best parameters\n",
    "best_params_rf = grid_search_rf.best_params_\n",
    "print(f\"Best Hyperparameters for Random Forest: {best_params_rf}\")\n",
    "# Train best model\n",
    "best_rf = RandomForestClassifier(**best_params_rf, random_state=42)\n",
    "best_rf.fit(x_train, y_train)\n",
    "y_pred_best_rf = best_rf.predict(x_test)\n",
    "\n",
    "# Evaluate Performance\n",
    "print(\"Optimized Random Forest Classification Report:\")\n",
    "print(classification_report(y_test, y_pred_best_rf))\n",
    "print(f\"Optimized Accuracy: {accuracy_score(y_test, y_pred_best_rf):.4f}\")"
   ]
  },
  {
   "cell_type": "markdown",
   "id": "c80aed4e-c467-42bb-a638-bab76295198a",
   "metadata": {},
   "source": [
    "### Tuning K-Nearest Neighbors (KNN)"
   ]
  },
  {
   "cell_type": "code",
   "execution_count": 216,
   "id": "5292948a-90c6-4c50-840c-f6b23674d29a",
   "metadata": {},
   "outputs": [
    {
     "name": "stdout",
     "output_type": "stream",
     "text": [
      "Fitting 5 folds for each of 24 candidates, totalling 120 fits\n",
      "Best Hyperparameters for KNN: {'metric': 'manhattan', 'n_neighbors': 7, 'weights': 'uniform'}\n",
      "Optimized KNN Classification Report:\n",
      "              precision    recall  f1-score   support\n",
      "\n",
      "           0       0.55      0.43      0.48       440\n",
      "           1       0.78      0.85      0.81      1033\n",
      "\n",
      "    accuracy                           0.72      1473\n",
      "   macro avg       0.66      0.64      0.65      1473\n",
      "weighted avg       0.71      0.72      0.71      1473\n",
      "\n",
      "Optimized Accuracy: 0.7244\n"
     ]
    }
   ],
   "source": [
    "param_grid_knn = {\n",
    "    'n_neighbors': [3, 5, 7, 9],  \n",
    "    'weights': ['uniform', 'distance'],  \n",
    "    'metric': ['euclidean', 'manhattan', 'minkowski']\n",
    "}\n",
    "# Grid Search\n",
    "knn = KNeighborsClassifier()\n",
    "grid_search_knn = GridSearchCV(estimator=knn, param_grid=param_grid_knn, cv=5, scoring='accuracy', n_jobs=-1, verbose=1)\n",
    "grid_search_knn.fit(x_train, y_train)\n",
    "# Get the best parameters\n",
    "best_params_knn = grid_search_knn.best_params_\n",
    "print(f\"Best Hyperparameters for KNN: {best_params_knn}\")\n",
    "# Train best model\n",
    "best_knn = KNeighborsClassifier(**best_params_knn)\n",
    "best_knn.fit(x_train, y_train)\n",
    "y_pred_best_knn = best_knn.predict(x_test)\n",
    "\n",
    "# Evaluate Performance\n",
    "print(\"Optimized KNN Classification Report:\")\n",
    "print(classification_report(y_test, y_pred_best_knn))\n",
    "print(f\"Optimized Accuracy: {accuracy_score(y_test, y_pred_best_knn):.4f}\")"
   ]
  },
  {
   "cell_type": "markdown",
   "id": "5e3e28a8-8f4c-4b7f-829b-b40ea28f9403",
   "metadata": {},
   "source": [
    "### Tuning Bagging Classifier"
   ]
  },
  {
   "cell_type": "code",
   "execution_count": 218,
   "id": "124e5f73-2564-4cff-ba6e-c2f1af517db3",
   "metadata": {},
   "outputs": [
    {
     "name": "stdout",
     "output_type": "stream",
     "text": [
      "Fitting 5 folds for each of 18 candidates, totalling 90 fits\n",
      "Best Hyperparameters for Bagging Classifier: {'bootstrap': True, 'max_samples': 0.5, 'n_estimators': 200}\n",
      "Optimized Bagging Classifier Classification Report:\n",
      "              precision    recall  f1-score   support\n",
      "\n",
      "           0       0.61      0.48      0.54       440\n",
      "           1       0.80      0.87      0.83      1033\n",
      "\n",
      "    accuracy                           0.75      1473\n",
      "   macro avg       0.70      0.67      0.68      1473\n",
      "weighted avg       0.74      0.75      0.74      1473\n",
      "\n",
      "Optimized Accuracy: 0.7515\n"
     ]
    }
   ],
   "source": [
    "param_grid_bagging = {\n",
    "    'n_estimators': [50, 100, 200],  \n",
    "    'max_samples': [0.5, 0.7, 1.0],  \n",
    "    'bootstrap': [True, False]\n",
    "}\n",
    "# Grid Search\n",
    "bagging = BaggingClassifier(estimator=DecisionTreeClassifier(), random_state=42)\n",
    "grid_search_bagging = GridSearchCV(estimator=bagging, param_grid=param_grid_bagging, cv=5, scoring='accuracy', n_jobs=-1, verbose=1)\n",
    "grid_search_bagging.fit(x_train, y_train)\n",
    "# Get the best parameters\n",
    "best_params_bagging = grid_search_bagging.best_params_\n",
    "print(f\"Best Hyperparameters for Bagging Classifier: {best_params_bagging}\")\n",
    "# Train best model\n",
    "best_bagging = BaggingClassifier(estimator=DecisionTreeClassifier(), **best_params_bagging, random_state=42)\n",
    "best_bagging.fit(x_train, y_train)\n",
    "y_pred_best_bagging = best_bagging.predict(x_test)\n",
    "\n",
    "# Evaluate Performance\n",
    "print(\"Optimized Bagging Classifier Classification Report:\")\n",
    "print(classification_report(y_test, y_pred_best_bagging))\n",
    "print(f\"Optimized Accuracy: {accuracy_score(y_test, y_pred_best_bagging):.4f}\")"
   ]
  },
  {
   "cell_type": "markdown",
   "id": "b45b1ba0-7513-469c-904a-3ef720834883",
   "metadata": {},
   "source": [
    "### Tuning Artificial Neural Network (ANN)"
   ]
  },
  {
   "cell_type": "code",
   "execution_count": 220,
   "id": "cadf2afb-1e32-45f8-a200-2e8f695d1133",
   "metadata": {},
   "outputs": [
    {
     "name": "stdout",
     "output_type": "stream",
     "text": [
      "Fitting 3 folds for each of 27 candidates, totalling 81 fits\n",
      "Best Hyperparameters for ANN: {'batch_size': 32, 'epochs': 20, 'model__learning_rate': 0.01}\n",
      "Epoch 1/20\n",
      "\u001b[1m185/185\u001b[0m \u001b[32m━━━━━━━━━━━━━━━━━━━━\u001b[0m\u001b[37m\u001b[0m \u001b[1m1s\u001b[0m 2ms/step - accuracy: 0.7034 - loss: 0.5697\n",
      "Epoch 2/20\n",
      "\u001b[1m185/185\u001b[0m \u001b[32m━━━━━━━━━━━━━━━━━━━━\u001b[0m\u001b[37m\u001b[0m \u001b[1m0s\u001b[0m 2ms/step - accuracy: 0.7089 - loss: 0.5523\n",
      "Epoch 3/20\n",
      "\u001b[1m185/185\u001b[0m \u001b[32m━━━━━━━━━━━━━━━━━━━━\u001b[0m\u001b[37m\u001b[0m \u001b[1m0s\u001b[0m 2ms/step - accuracy: 0.7170 - loss: 0.5467\n",
      "Epoch 4/20\n",
      "\u001b[1m185/185\u001b[0m \u001b[32m━━━━━━━━━━━━━━━━━━━━\u001b[0m\u001b[37m\u001b[0m \u001b[1m0s\u001b[0m 2ms/step - accuracy: 0.7372 - loss: 0.5287\n",
      "Epoch 5/20\n",
      "\u001b[1m185/185\u001b[0m \u001b[32m━━━━━━━━━━━━━━━━━━━━\u001b[0m\u001b[37m\u001b[0m \u001b[1m0s\u001b[0m 2ms/step - accuracy: 0.7220 - loss: 0.5354\n",
      "Epoch 6/20\n",
      "\u001b[1m185/185\u001b[0m \u001b[32m━━━━━━━━━━━━━━━━━━━━\u001b[0m\u001b[37m\u001b[0m \u001b[1m0s\u001b[0m 2ms/step - accuracy: 0.7344 - loss: 0.5244\n",
      "Epoch 7/20\n",
      "\u001b[1m185/185\u001b[0m \u001b[32m━━━━━━━━━━━━━━━━━━━━\u001b[0m\u001b[37m\u001b[0m \u001b[1m0s\u001b[0m 2ms/step - accuracy: 0.7405 - loss: 0.5159\n",
      "Epoch 8/20\n",
      "\u001b[1m185/185\u001b[0m \u001b[32m━━━━━━━━━━━━━━━━━━━━\u001b[0m\u001b[37m\u001b[0m \u001b[1m0s\u001b[0m 2ms/step - accuracy: 0.7343 - loss: 0.5136\n",
      "Epoch 9/20\n",
      "\u001b[1m185/185\u001b[0m \u001b[32m━━━━━━━━━━━━━━━━━━━━\u001b[0m\u001b[37m\u001b[0m \u001b[1m0s\u001b[0m 2ms/step - accuracy: 0.7346 - loss: 0.5174\n",
      "Epoch 10/20\n",
      "\u001b[1m185/185\u001b[0m \u001b[32m━━━━━━━━━━━━━━━━━━━━\u001b[0m\u001b[37m\u001b[0m \u001b[1m0s\u001b[0m 1ms/step - accuracy: 0.7396 - loss: 0.5151\n",
      "Epoch 11/20\n",
      "\u001b[1m185/185\u001b[0m \u001b[32m━━━━━━━━━━━━━━━━━━━━\u001b[0m\u001b[37m\u001b[0m \u001b[1m0s\u001b[0m 1ms/step - accuracy: 0.7394 - loss: 0.5177\n",
      "Epoch 12/20\n",
      "\u001b[1m185/185\u001b[0m \u001b[32m━━━━━━━━━━━━━━━━━━━━\u001b[0m\u001b[37m\u001b[0m \u001b[1m0s\u001b[0m 2ms/step - accuracy: 0.7523 - loss: 0.5004\n",
      "Epoch 13/20\n",
      "\u001b[1m185/185\u001b[0m \u001b[32m━━━━━━━━━━━━━━━━━━━━\u001b[0m\u001b[37m\u001b[0m \u001b[1m0s\u001b[0m 1ms/step - accuracy: 0.7459 - loss: 0.5063\n",
      "Epoch 14/20\n",
      "\u001b[1m185/185\u001b[0m \u001b[32m━━━━━━━━━━━━━━━━━━━━\u001b[0m\u001b[37m\u001b[0m \u001b[1m0s\u001b[0m 1ms/step - accuracy: 0.7521 - loss: 0.5079\n",
      "Epoch 15/20\n",
      "\u001b[1m185/185\u001b[0m \u001b[32m━━━━━━━━━━━━━━━━━━━━\u001b[0m\u001b[37m\u001b[0m \u001b[1m0s\u001b[0m 2ms/step - accuracy: 0.7430 - loss: 0.5180\n",
      "Epoch 16/20\n",
      "\u001b[1m185/185\u001b[0m \u001b[32m━━━━━━━━━━━━━━━━━━━━\u001b[0m\u001b[37m\u001b[0m \u001b[1m0s\u001b[0m 2ms/step - accuracy: 0.7571 - loss: 0.4987\n",
      "Epoch 17/20\n",
      "\u001b[1m185/185\u001b[0m \u001b[32m━━━━━━━━━━━━━━━━━━━━\u001b[0m\u001b[37m\u001b[0m \u001b[1m0s\u001b[0m 2ms/step - accuracy: 0.7607 - loss: 0.4910\n",
      "Epoch 18/20\n",
      "\u001b[1m185/185\u001b[0m \u001b[32m━━━━━━━━━━━━━━━━━━━━\u001b[0m\u001b[37m\u001b[0m \u001b[1m0s\u001b[0m 2ms/step - accuracy: 0.7452 - loss: 0.5088\n",
      "Epoch 19/20\n",
      "\u001b[1m185/185\u001b[0m \u001b[32m━━━━━━━━━━━━━━━━━━━━\u001b[0m\u001b[37m\u001b[0m \u001b[1m0s\u001b[0m 1ms/step - accuracy: 0.7403 - loss: 0.5100\n",
      "Epoch 20/20\n",
      "\u001b[1m185/185\u001b[0m \u001b[32m━━━━━━━━━━━━━━━━━━━━\u001b[0m\u001b[37m\u001b[0m \u001b[1m0s\u001b[0m 2ms/step - accuracy: 0.7550 - loss: 0.4998\n",
      "\u001b[1m47/47\u001b[0m \u001b[32m━━━━━━━━━━━━━━━━━━━━\u001b[0m\u001b[37m\u001b[0m \u001b[1m0s\u001b[0m 2ms/step\n",
      "Optimized ANN Classification Report:\n",
      "              precision    recall  f1-score   support\n",
      "\n",
      "           0       0.65      0.29      0.40       440\n",
      "           1       0.76      0.93      0.84      1033\n",
      "\n",
      "    accuracy                           0.74      1473\n",
      "   macro avg       0.70      0.61      0.62      1473\n",
      "weighted avg       0.72      0.74      0.71      1473\n",
      "\n",
      "Optimized Accuracy: 0.7413\n"
     ]
    }
   ],
   "source": [
    "# Build Neural Network\n",
    "def create_ann(learning_rate=0.001):\n",
    "    model = Sequential([\n",
    "        Dense(128, activation='relu', input_shape=(x_train.shape[1],)),\n",
    "        Dense(64, activation='relu'),\n",
    "        Dense(1, activation='sigmoid')\n",
    "    ])\n",
    "    model.compile(optimizer=Adam(learning_rate=learning_rate), loss='binary_crossentropy', metrics=['accuracy'])\n",
    "    return model\n",
    "# Grid Search for ANN\n",
    "ann = KerasClassifier(model=create_ann, epochs=10, batch_size=32, verbose=0)\n",
    "param_grid_ann = {\n",
    "    'model__learning_rate': [0.001, 0.01, 0.1],\n",
    "    'batch_size': [16, 32, 64],\n",
    "    'epochs': [10, 20, 30]\n",
    "}\n",
    "grid_search_ann = GridSearchCV(estimator=ann, param_grid=param_grid_ann, cv=3, scoring='accuracy', n_jobs=-1, verbose=1)\n",
    "grid_search_ann.fit(x_train, y_train)\n",
    "# Get the best parameters\n",
    "best_params_ann = grid_search_ann.best_params_\n",
    "print(f\"Best Hyperparameters for ANN: {best_params_ann}\")\n",
    "# Train the best ANN model\n",
    "best_ann = create_ann(learning_rate=best_params_ann['model__learning_rate'])\n",
    "best_ann.fit(x_train, y_train, epochs=best_params_ann['epochs'], batch_size=best_params_ann['batch_size'], verbose=1)\n",
    "# Predict on test data\n",
    "y_pred_best_ann = (best_ann.predict(x_test) > 0.5).astype(int)\n",
    "\n",
    "# Evaluate Performance\n",
    "print(\"Optimized ANN Classification Report:\")\n",
    "print(classification_report(y_test, y_pred_best_ann))\n",
    "print(f\"Optimized Accuracy: {accuracy_score(y_test, y_pred_best_ann):.4f}\")"
   ]
  },
  {
   "cell_type": "code",
   "execution_count": 221,
   "id": "51ec97db-d56e-4408-834d-cb62ae237184",
   "metadata": {},
   "outputs": [
    {
     "name": "stdout",
     "output_type": "stream",
     "text": [
      "Epoch 1/10\n",
      "\u001b[1m185/185\u001b[0m \u001b[32m━━━━━━━━━━━━━━━━━━━━\u001b[0m\u001b[37m\u001b[0m \u001b[1m2s\u001b[0m 1ms/step - accuracy: 0.6456 - loss: 0.6180\n",
      "Epoch 2/10\n",
      "\u001b[1m185/185\u001b[0m \u001b[32m━━━━━━━━━━━━━━━━━━━━\u001b[0m\u001b[37m\u001b[0m \u001b[1m0s\u001b[0m 2ms/step - accuracy: 0.7136 - loss: 0.5591\n",
      "Epoch 3/10\n",
      "\u001b[1m185/185\u001b[0m \u001b[32m━━━━━━━━━━━━━━━━━━━━\u001b[0m\u001b[37m\u001b[0m \u001b[1m0s\u001b[0m 2ms/step - accuracy: 0.7240 - loss: 0.5408\n",
      "Epoch 4/10\n",
      "\u001b[1m185/185\u001b[0m \u001b[32m━━━━━━━━━━━━━━━━━━━━\u001b[0m\u001b[37m\u001b[0m \u001b[1m0s\u001b[0m 1ms/step - accuracy: 0.7289 - loss: 0.5359\n",
      "Epoch 5/10\n",
      "\u001b[1m185/185\u001b[0m \u001b[32m━━━━━━━━━━━━━━━━━━━━\u001b[0m\u001b[37m\u001b[0m \u001b[1m0s\u001b[0m 2ms/step - accuracy: 0.7191 - loss: 0.5390\n",
      "Epoch 6/10\n",
      "\u001b[1m185/185\u001b[0m \u001b[32m━━━━━━━━━━━━━━━━━━━━\u001b[0m\u001b[37m\u001b[0m \u001b[1m0s\u001b[0m 2ms/step - accuracy: 0.7328 - loss: 0.5303\n",
      "Epoch 7/10\n",
      "\u001b[1m185/185\u001b[0m \u001b[32m━━━━━━━━━━━━━━━━━━━━\u001b[0m\u001b[37m\u001b[0m \u001b[1m0s\u001b[0m 1ms/step - accuracy: 0.7419 - loss: 0.5238\n",
      "Epoch 8/10\n",
      "\u001b[1m185/185\u001b[0m \u001b[32m━━━━━━━━━━━━━━━━━━━━\u001b[0m\u001b[37m\u001b[0m \u001b[1m0s\u001b[0m 2ms/step - accuracy: 0.7277 - loss: 0.5237\n",
      "Epoch 9/10\n",
      "\u001b[1m185/185\u001b[0m \u001b[32m━━━━━━━━━━━━━━━━━━━━\u001b[0m\u001b[37m\u001b[0m \u001b[1m0s\u001b[0m 2ms/step - accuracy: 0.7372 - loss: 0.5223\n",
      "Epoch 10/10\n",
      "\u001b[1m185/185\u001b[0m \u001b[32m━━━━━━━━━━━━━━━━━━━━\u001b[0m\u001b[37m\u001b[0m \u001b[1m0s\u001b[0m 1ms/step - accuracy: 0.7452 - loss: 0.5155\n",
      "\u001b[1m47/47\u001b[0m \u001b[32m━━━━━━━━━━━━━━━━━━━━\u001b[0m\u001b[37m\u001b[0m \u001b[1m0s\u001b[0m 2ms/step\n",
      "\n",
      "📊 Accuracy Before Hyperparameter Tuning:\n",
      "{'Logistic Regression': 0.7114731839782756, 'Decision Tree': 0.7243720298710116, 'Random Forest': 0.7379497623896809, 'Gradient Boosting': 0.7664630006788866, 'XGBoost': 0.7494908350305499, 'KNN': 0.7169042769857433, 'Bagging Classifier': 0.7413441955193483, 'ANN': 0.7318397827562797}\n"
     ]
    }
   ],
   "source": [
    "before_tuning = {}\n",
    "# Logistic Regression\n",
    "log_reg = LogisticRegression()\n",
    "log_reg.fit(x_train, y_train)\n",
    "y_pred_log = log_reg.predict(x_test)\n",
    "before_tuning[\"Logistic Regression\"] = accuracy_score(y_test, y_pred_log)\n",
    "\n",
    "# Decision Tree\n",
    "dt = DecisionTreeClassifier(random_state=42)\n",
    "dt.fit(x_train, y_train)\n",
    "y_pred_dt = dt.predict(x_test)\n",
    "before_tuning[\"Decision Tree\"] = accuracy_score(y_test, y_pred_dt)\n",
    "\n",
    "# Random Forest\n",
    "rf = RandomForestClassifier(n_estimators=100, random_state=42)\n",
    "rf.fit(x_train, y_train)\n",
    "y_pred_rf = rf.predict(x_test)\n",
    "before_tuning[\"Random Forest\"] = accuracy_score(y_test, y_pred_rf)\n",
    "\n",
    "# Gradient Boosting\n",
    "gb = GradientBoostingClassifier(n_estimators=100, random_state=42)\n",
    "gb.fit(x_train, y_train)\n",
    "y_pred_gb = gb.predict(x_test)\n",
    "before_tuning[\"Gradient Boosting\"] = accuracy_score(y_test, y_pred_gb)\n",
    "\n",
    "# XGBoost\n",
    "xgb = XGBClassifier(use_label_encoder=False, eval_metric='logloss', random_state=42)\n",
    "xgb.fit(x_train, y_train)\n",
    "y_pred_xgb = xgb.predict(x_test)\n",
    "before_tuning[\"XGBoost\"] = accuracy_score(y_test, y_pred_xgb)\n",
    "\n",
    "# K-Nearest Neighbors (KNN)\n",
    "knn = KNeighborsClassifier(n_neighbors=5)\n",
    "knn.fit(x_train, y_train)\n",
    "y_pred_knn = knn.predict(x_test)\n",
    "before_tuning[\"KNN\"] = accuracy_score(y_test, y_pred_knn)\n",
    "\n",
    "# Bagging Classifier\n",
    "bagging = BaggingClassifier(estimator=DecisionTreeClassifier(), n_estimators=50, random_state=42)\n",
    "bagging.fit(x_train, y_train)\n",
    "y_pred_bagging = bagging.predict(x_test)\n",
    "before_tuning[\"Bagging Classifier\"] = accuracy_score(y_test, y_pred_bagging)\n",
    "\n",
    "# ANN (Artificial Neural Network)\n",
    "ann = create_ann()\n",
    "ann.fit(x_train, y_train, epochs=10, batch_size=32, verbose=1)\n",
    "y_pred_ann = (ann.predict(x_test) > 0.5).astype(int)\n",
    "before_tuning[\"ANN\"] = accuracy_score(y_test, y_pred_ann)\n",
    "\n",
    "print(\"\\n📊 Accuracy Before Hyperparameter Tuning:\")\n",
    "print(before_tuning)"
   ]
  },
  {
   "cell_type": "code",
   "execution_count": 222,
   "id": "01f386e2-4b53-4caa-8337-8ceff11c859b",
   "metadata": {},
   "outputs": [
    {
     "name": "stdout",
     "output_type": "stream",
     "text": [
      "\n",
      "📊 Accuracy After Hyperparameter Tuning:\n",
      "{'Decision Tree': 0.7460964019008826, 'Random Forest': 0.7589952477936185, 'Gradient Boosting': 0.7603530210454854, 'XGBoost': 0.7589952477936185, 'KNN': 0.7243720298710116, 'Bagging Classifier': 0.7515274949083504, 'ANN': 0.7413441955193483}\n"
     ]
    }
   ],
   "source": [
    "after_tuning = {}\n",
    "\n",
    "# Decision Tree (After Tuning)\n",
    "after_tuning[\"Decision Tree\"] = accuracy_score(y_test, y_pred_best_dt)\n",
    "\n",
    "# Random Forest (After Tuning)\n",
    "after_tuning[\"Random Forest\"] = accuracy_score(y_test, y_pred_best_rf)\n",
    "\n",
    "# Gradient Boosting (After Tuning)\n",
    "after_tuning[\"Gradient Boosting\"] = accuracy_score(y_test, y_pred_best_gb)\n",
    "\n",
    "# XGBoost (After Tuning)\n",
    "after_tuning[\"XGBoost\"] = accuracy_score(y_test, y_pred_best_xgb)\n",
    "\n",
    "# K-Nearest Neighbors (KNN) (After Tuning)\n",
    "after_tuning[\"KNN\"] = accuracy_score(y_test, y_pred_best_knn)\n",
    "\n",
    "# Bagging Classifier (After Tuning)\n",
    "after_tuning[\"Bagging Classifier\"] = accuracy_score(y_test, y_pred_best_bagging)\n",
    "\n",
    "# ANN (Artificial Neural Network) (After Tuning)\n",
    "after_tuning[\"ANN\"] = accuracy_score(y_test, y_pred_best_ann)\n",
    "\n",
    "print(\"\\n📊 Accuracy After Hyperparameter Tuning:\")\n",
    "print(after_tuning)"
   ]
  },
  {
   "cell_type": "code",
   "execution_count": 223,
   "id": "3a18b9fa-2dbf-4709-8d20-fae121b426fc",
   "metadata": {},
   "outputs": [
    {
     "name": "stdout",
     "output_type": "stream",
     "text": [
      "\n",
      "📊 Before & After Hyperparameter Tuning Comparison:\n",
      "                     Before Tuning (%)  After Tuning (%)  Change (%)\n",
      "Logistic Regression           0.711473               NaN         NaN\n",
      "Decision Tree                 0.724372          0.746096    2.172437\n",
      "Random Forest                 0.737950          0.758995    2.104549\n",
      "Gradient Boosting             0.766463          0.760353   -0.610998\n",
      "XGBoost                       0.749491          0.758995    0.950441\n",
      "KNN                           0.716904          0.724372    0.746775\n",
      "Bagging Classifier            0.741344          0.751527    1.018330\n",
      "ANN                           0.731840          0.741344    0.950441\n"
     ]
    }
   ],
   "source": [
    "# Convert results to DataFrame\n",
    "results_df = pd.DataFrame({\"Before Tuning (%)\": before_tuning, \"After Tuning (%)\": after_tuning})\n",
    "\n",
    "# Calculate Accuracy Change\n",
    "results_df[\"Change (%)\"] = (results_df[\"After Tuning (%)\"] - results_df[\"Before Tuning (%)\"]) * 100\n",
    "\n",
    "# Display Results\n",
    "print(\"\\n📊 Before & After Hyperparameter Tuning Comparison:\")\n",
    "print(results_df)"
   ]
  },
  {
   "cell_type": "code",
   "execution_count": 224,
   "id": "5af770e5-92bb-415d-a12b-8fcdb29b0d40",
   "metadata": {},
   "outputs": [
    {
     "data": {
      "image/png": "[encoded data removed]",
      "text/plain": [
       "<Figure size 1000x500 with 1 Axes>"
      ]
     },
     "metadata": {},
     "output_type": "display_data"
    }
   ],
   "source": [
    "# Plot Before vs After Accuracy\n",
    "plt.figure(figsize=(10, 5))\n",
    "plt.bar(results_df.index, results_df[\"Before Tuning (%)\"], label=\"Before Tuning\", color='yellow', alpha=0.6)\n",
    "plt.bar(results_df.index, results_df[\"After Tuning (%)\"], label=\"After Tuning\", color='blue', alpha=0.6)\n",
    "plt.xlabel(\"Models\")\n",
    "plt.ylabel(\"Accuracy (%)\")\n",
    "plt.title(\"Model Accuracy Before & After Tuning\")\n",
    "plt.xticks(rotation=45)\n",
    "plt.legend()\n",
    "plt.show()"
   ]
  },
  {
   "cell_type": "markdown",
   "id": "a186919a-aa6c-40fe-b7e9-b4bcec28b728",
   "metadata": {},
   "source": [
    "### Saving Model"
   ]
  },
  {
   "cell_type": "code",
   "execution_count": 226,
   "id": "54987fcc-7446-4312-99ca-a1d7e59aad4c",
   "metadata": {},
   "outputs": [
    {
     "name": "stdout",
     "output_type": "stream",
     "text": [
      "Model saved successfully!\n"
     ]
    }
   ],
   "source": [
    "import pickle\n",
    "# Save the trained Gradient Boosting model\n",
    "with open(\"gradient_boosting_model.pkl\", \"wb\") as file:\n",
    "    pickle.dump(gb, file)\n",
    "print(\"Model saved successfully!\")"
   ]
  },
  {
   "cell_type": "markdown",
   "id": "aeae1878-e1dd-443a-acee-41f2be68d8e9",
   "metadata": {},
   "source": [
    "### Loading Saved Model"
   ]
  },
  {
   "cell_type": "code",
   "execution_count": 228,
   "id": "8ee1b3e7-2fa5-4f93-99e0-17c4cc87e389",
   "metadata": {},
   "outputs": [
    {
     "name": "stdout",
     "output_type": "stream",
     "text": [
      "Model loaded successfully!\n"
     ]
    }
   ],
   "source": [
    "import pickle\n",
    "\n",
    "# Load the saved Gradient Boosting model\n",
    "with open(\"gradient_boosting_model.pkl\", \"rb\") as file:\n",
    "    loaded_model = pickle.load(file)\n",
    "print(\"Model loaded successfully!\")"
   ]
  },
  {
   "cell_type": "markdown",
   "id": "f6defdf9-e55b-4546-acb0-87e15798fb30",
   "metadata": {},
   "source": [
    "### Testing model"
   ]
  },
  {
   "cell_type": "code",
   "execution_count": 230,
   "id": "e1879260-635d-45da-b215-953b7da7dc75",
   "metadata": {},
   "outputs": [
    {
     "name": "stdout",
     "output_type": "stream",
     "text": [
      "Gradient Boosting Model Test Results:\n",
      "              precision    recall  f1-score   support\n",
      "\n",
      "           0       0.74      0.34      0.46       440\n",
      "           1       0.77      0.95      0.85      1033\n",
      "\n",
      "    accuracy                           0.77      1473\n",
      "   macro avg       0.76      0.64      0.66      1473\n",
      "weighted avg       0.76      0.77      0.73      1473\n",
      "\n",
      "Accuracy: 0.7665\n"
     ]
    }
   ],
   "source": [
    "# Make predictions\n",
    "y_pred = loaded_model.predict(x_test)\n",
    "print(\"Gradient Boosting Model Test Results:\")\n",
    "print(classification_report(y_test, y_pred))\n",
    "print(f\"Accuracy: {accuracy_score(y_test, y_pred):.4f}\")"
   ]
  },
  {
   "cell_type": "markdown",
   "id": "c1466811-0801-4d51-b44a-bfa81e80d9b5",
   "metadata": {},
   "source": [
    "#### The final trained Gradient Boosting model was saved as a pickle file for future use and deployment."
   ]
  },
  {
   "cell_type": "markdown",
   "id": "bf30c682-eb57-4870-a63b-5d5f94933826",
   "metadata": {},
   "source": [
    "### **INSIGHTS**"
   ]
  },
  {
   "cell_type": "markdown",
   "id": "cfa3ec5b-4e18-4e77-9711-81ded6bf8f10",
   "metadata": {},
   "source": [
    "* **Lead Source** – Certain marketing channels had higher conversion rates.\n",
    "* **Customer Response Time** – Faster responses correlated with higher conversions.\n",
    "* **Number of Follow-ups** – More follow-ups increased conversion likelihood.\n",
    "* **Lead Score** – A numerical scoring system helped in prioritizing leads.\n",
    "* **Product Interest** – Customers who showed interest in specific products had higher conversion rates."
   ]
  },
  {
   "cell_type": "markdown",
   "id": "88ad92a5-0c3f-4dad-b4ae-8ac83c40586e",
   "metadata": {},
   "source": [
    "## Conclusion"
   ]
  },
  {
   "cell_type": "markdown",
   "id": "6236d9e7-1163-4894-96b1-68202e5c07ad",
   "metadata": {},
   "source": [
    "* Gradient Boosting was selected as the best model due to its highest accuracy **(76.65%)** and balanced performance.\n",
    "* Hyperparameter tuning helped improve model performance, particularly in Decision Tree, Random Forest, and ANN.\n",
    "* The model is now ready for deployment, and further improvements can be explored using techniques such as ensemble learning or deep learning approaches.\n",
    "    This project aimed to improve sales lead conversion using machine learning. By analyzing sales data, we built models to predict which leads are most likely to convert. Among all models tested, Gradient Boosting performed the best, making it the ideal choice for lead classification.\n",
    "Hyperparameter tuning helped improve accuracy, showing that optimizing machine learning models is essential for better performance. The insights from our model can help businesses focus on high-potential leads, improve sales strategies, and allocate resources efficiently.\n",
    "\n",
    "    For practical use, this model can be integrated into CRM systems or automated lead-scoring tools. Regular updates and retraining will ensure it remains effective as customer behavior changes. Overall, this project highlights how data-driven approaches can boost sales performance, increase conversions, and drive business growth."
   ]
  },
  {
   "cell_type": "markdown",
   "id": "fa19f341-adb8-404e-86bc-4346f86cd6af",
   "metadata": {},
   "source": [
    "## Challenges Faced"
   ]
  },
  {
   "cell_type": "markdown",
   "id": "64b8487f-5baf-4943-a474-5f89d89df1c6",
   "metadata": {},
   "source": [
    "* **Data Quality Issues** – The dataset contained missing values, inconsistencies, and imbalanced classes, which required extensive preprocessing.\n",
    "* **Feature Selection** – Identifying the most relevant features for predicting lead conversion was challenging and required careful analysis.\n",
    "* **Model Overfitting** – Some models, especially complex ones like Random Forest and XGBoost, initially overfitted the training data, requiring regularization and tuning.\n",
    "* **Hyperparameter Tuning Complexity** – Finding the best parameters for models like Gradient Boosting and XGBoost was computationally expensive and time-consuming.\n",
    "* **Class Imbalance** – Some categories in the ‘Status’ column, such as ‘Converted’ vs. ‘Junk Lead,’ were imbalanced, affecting prediction accuracy."
   ]
  }
 ],
 "metadata": {
  "kernelspec": {
   "display_name": "Python [conda env:base] *",
   "language": "python",
   "name": "conda-base-py"
  },
  "language_info": {
   "codemirror_mode": {
    "name": "ipython",
    "version": 3
   },
   "file_extension": ".py",
   "mimetype": "text/x-python",
   "name": "python",
   "nbconvert_exporter": "python",
   "pygments_lexer": "ipython3",
   "version": "3.12.7"
  }
 },
 "nbformat": 4,
 "nbformat_minor": 5
}
